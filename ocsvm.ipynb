{
 "metadata": {
  "language_info": {
   "codemirror_mode": {
    "name": "ipython",
    "version": 3
   },
   "file_extension": ".py",
   "mimetype": "text/x-python",
   "name": "python",
   "nbconvert_exporter": "python",
   "pygments_lexer": "ipython3",
   "version": "3.7.10"
  },
  "orig_nbformat": 2,
  "kernelspec": {
   "name": "python3710jvsc74a57bd0f395c2e1a992dc8a929f6f371f2b4d25c07e31a6b8b09b005bd71d5c43f24d90",
   "display_name": "Python 3.7.10 64-bit ('pytorch': conda)"
  }
 },
 "nbformat": 4,
 "nbformat_minor": 2,
 "cells": [
  {
   "cell_type": "code",
   "execution_count": 1,
   "metadata": {},
   "outputs": [],
   "source": [
    "import numpy as np\n",
    "import matplotlib.pyplot as plt\n",
    "from sklearn.preprocessing import StandardScaler, MinMaxScaler\n",
    "from sklearn.svm import OneClassSVM\n",
    "from sklearn.decomposition import PCA, KernelPCA\n",
    "from sklearn.manifold import TSNE"
   ]
  },
  {
   "source": [
    "数据读取&归一化"
   ],
   "cell_type": "markdown",
   "metadata": {}
  },
  {
   "cell_type": "code",
   "execution_count": 2,
   "metadata": {},
   "outputs": [],
   "source": [
    "X = np.load('feature_vector_v1.npy')\n",
    "\n",
    "# X = MinMaxScaler().fit_transform(X)\n",
    "X = StandardScaler().fit_transform(X)"
   ]
  },
  {
   "source": [
    "用PCA对22维特征进行降维"
   ],
   "cell_type": "markdown",
   "metadata": {}
  },
  {
   "cell_type": "code",
   "execution_count": null,
   "metadata": {},
   "outputs": [],
   "source": [
    "# pca = KernelPCA(n_components=8, kernel='rbf', gamma=0.1)\n",
    "pca = PCA(n_components=8)\n",
    "X = pca.fit_transform(X)"
   ]
  },
  {
   "source": [
    "用OneClassSVM进行OutlierDetection"
   ],
   "cell_type": "markdown",
   "metadata": {}
  },
  {
   "cell_type": "code",
   "execution_count": 4,
   "metadata": {},
   "outputs": [
    {
     "output_type": "execute_result",
     "data": {
      "text/plain": [
       "OneClassSVM(gamma=0.1, nu=0.01)"
      ]
     },
     "metadata": {},
     "execution_count": 4
    }
   ],
   "source": [
    "ocsvm = OneClassSVM(nu=0.01, kernel='rbf', gamma=0.1)\n",
    "# ocsvm = OneClassSVM(nu=0.1, kernel='sigmoid')\n",
    "# ocsvm = OneClassSVM(kernel='linear')\n",
    "ocsvm.fit(X)\n",
    "Y = ocsvm.predict(X)\n",
    "outliers = Y[Y==-1]\n",
    "print(len(outliers))"
   ]
  },
  {
   "cell_type": "code",
   "execution_count": null,
   "metadata": {},
   "outputs": [],
   "source": [
    "tsne = TSNE(n_components=2)\n",
    "X = tsne.fit_transform(X)\n",
    "# plt.scatter(X[:, 0], X[:, 1])\n",
    "# plt.show()"
   ]
  },
  {
   "cell_type": "code",
   "execution_count": null,
   "metadata": {},
   "outputs": [],
   "source": [
    "plt.scatter(X[:, 0], X[:, 1], c=Y)\n",
    "plt.show()"
   ]
  }
 ]
}