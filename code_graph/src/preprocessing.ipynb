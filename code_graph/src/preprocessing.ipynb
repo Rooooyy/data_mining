{
 "cells": [
  {
   "cell_type": "code",
   "execution_count": 2,
   "metadata": {},
   "outputs": [],
   "source": [
    "import numpy as np \n",
    "import pandas as pd\n",
    "import json"
   ]
  },
  {
   "cell_type": "code",
   "execution_count": 3,
   "metadata": {},
   "outputs": [],
   "source": [
    "df = pd.read_excel('../../PASSENGER_RECORD.xlsx')"
   ]
  },
  {
   "cell_type": "code",
   "execution_count": 4,
   "metadata": {},
   "outputs": [
    {
     "output_type": "execute_result",
     "data": {
      "text/plain": [
       "         PR_ID                PPID TRAIN_TYPE TRAIN_CODE BOARD_DATE  \\\n",
       "0       236365  210302199212143008          D        D15 2012-03-08   \n",
       "1       236366  210302199212143008          D        D22 2012-03-12   \n",
       "2       236367  210302199212143008          D       D102 2012-03-12   \n",
       "3       236368  210302199212143008          D       D164 2012-03-01   \n",
       "4       236369  210302199212143008          O       1052 2012-03-01   \n",
       "...        ...                 ...        ...        ...        ...   \n",
       "985754  768334  211103199402110016          O       4229 2012-05-04   \n",
       "985755  768335  211103199402110016          O      K7369 2012-05-21   \n",
       "985756  768336  211103199402110016          O      K7369 2012-05-26   \n",
       "985757  768337  211103199402110016          O      K7369 2012-06-19   \n",
       "985758  768338  211103199402110016          O      K7369 2012-06-04   \n",
       "\n",
       "       BOARD_TIME ARRIVAL_DATE ARRIVAL_TIME START_STA ARRIVAL_STA TRAVEL_TIME  \\\n",
       "0        19:04:00   2012-03-08     20:04:00       盘锦北         沈阳北    01:00:00   \n",
       "1        08:01:00   2012-03-12     09:01:00       沈阳北         盘锦北    01:00:00   \n",
       "2        18:42:00   2012-03-12     19:42:00       盘锦北         沈阳北    01:00:00   \n",
       "3        08:03:00   2012-03-01     09:03:00       沈阳北         盘锦北    01:00:00   \n",
       "4        20:13:00   2012-03-01     21:13:00       盘锦北         沈阳北    01:00:00   \n",
       "...           ...          ...          ...       ...         ...         ...   \n",
       "985754   03:21:00   2012-05-04     03:21:00        辽阳          营口    00:00:00   \n",
       "985755   17:07:00   2012-05-21     19:07:00        营口         抚顺北    02:00:00   \n",
       "985756   18:37:00   2012-05-27     02:37:00       苇子沟          营口    08:00:00   \n",
       "985757   12:44:00   2012-06-19     12:44:00        鞍山          营口    00:00:00   \n",
       "985758   11:59:00   2012-06-04     17:59:00        营口          蛟河    06:00:00   \n",
       "\n",
       "        TRAVEL_LENGTH SEAT_TYPE  COACH_NO  SEAT_NO          BUYYER_PID  \n",
       "0                 154        GD         4       79  210302199212143008  \n",
       "1                 154        GD        13       87  210302199212143008  \n",
       "2                 154        GD        12       21  210302199212143008  \n",
       "3                 154        GD         6       19  210302199212143008  \n",
       "4                 154        YZ        11       51  210302199212143008  \n",
       "...               ...       ...       ...      ...                 ...  \n",
       "985754            115        YZ         5       36  211103199402110016  \n",
       "985755            244        RZ         5       54  211103199402110016  \n",
       "985756           1024        ZP         9       72  211103199402110016  \n",
       "985757             90        RZ        16       72  211103199402110016  \n",
       "985758            740        YZ        15       74  211103199402110016  \n",
       "\n",
       "[985759 rows x 16 columns]"
      ],
      "text/html": "<div>\n<style scoped>\n    .dataframe tbody tr th:only-of-type {\n        vertical-align: middle;\n    }\n\n    .dataframe tbody tr th {\n        vertical-align: top;\n    }\n\n    .dataframe thead th {\n        text-align: right;\n    }\n</style>\n<table border=\"1\" class=\"dataframe\">\n  <thead>\n    <tr style=\"text-align: right;\">\n      <th></th>\n      <th>PR_ID</th>\n      <th>PPID</th>\n      <th>TRAIN_TYPE</th>\n      <th>TRAIN_CODE</th>\n      <th>BOARD_DATE</th>\n      <th>BOARD_TIME</th>\n      <th>ARRIVAL_DATE</th>\n      <th>ARRIVAL_TIME</th>\n      <th>START_STA</th>\n      <th>ARRIVAL_STA</th>\n      <th>TRAVEL_TIME</th>\n      <th>TRAVEL_LENGTH</th>\n      <th>SEAT_TYPE</th>\n      <th>COACH_NO</th>\n      <th>SEAT_NO</th>\n      <th>BUYYER_PID</th>\n    </tr>\n  </thead>\n  <tbody>\n    <tr>\n      <th>0</th>\n      <td>236365</td>\n      <td>210302199212143008</td>\n      <td>D</td>\n      <td>D15</td>\n      <td>2012-03-08</td>\n      <td>19:04:00</td>\n      <td>2012-03-08</td>\n      <td>20:04:00</td>\n      <td>盘锦北</td>\n      <td>沈阳北</td>\n      <td>01:00:00</td>\n      <td>154</td>\n      <td>GD</td>\n      <td>4</td>\n      <td>79</td>\n      <td>210302199212143008</td>\n    </tr>\n    <tr>\n      <th>1</th>\n      <td>236366</td>\n      <td>210302199212143008</td>\n      <td>D</td>\n      <td>D22</td>\n      <td>2012-03-12</td>\n      <td>08:01:00</td>\n      <td>2012-03-12</td>\n      <td>09:01:00</td>\n      <td>沈阳北</td>\n      <td>盘锦北</td>\n      <td>01:00:00</td>\n      <td>154</td>\n      <td>GD</td>\n      <td>13</td>\n      <td>87</td>\n      <td>210302199212143008</td>\n    </tr>\n    <tr>\n      <th>2</th>\n      <td>236367</td>\n      <td>210302199212143008</td>\n      <td>D</td>\n      <td>D102</td>\n      <td>2012-03-12</td>\n      <td>18:42:00</td>\n      <td>2012-03-12</td>\n      <td>19:42:00</td>\n      <td>盘锦北</td>\n      <td>沈阳北</td>\n      <td>01:00:00</td>\n      <td>154</td>\n      <td>GD</td>\n      <td>12</td>\n      <td>21</td>\n      <td>210302199212143008</td>\n    </tr>\n    <tr>\n      <th>3</th>\n      <td>236368</td>\n      <td>210302199212143008</td>\n      <td>D</td>\n      <td>D164</td>\n      <td>2012-03-01</td>\n      <td>08:03:00</td>\n      <td>2012-03-01</td>\n      <td>09:03:00</td>\n      <td>沈阳北</td>\n      <td>盘锦北</td>\n      <td>01:00:00</td>\n      <td>154</td>\n      <td>GD</td>\n      <td>6</td>\n      <td>19</td>\n      <td>210302199212143008</td>\n    </tr>\n    <tr>\n      <th>4</th>\n      <td>236369</td>\n      <td>210302199212143008</td>\n      <td>O</td>\n      <td>1052</td>\n      <td>2012-03-01</td>\n      <td>20:13:00</td>\n      <td>2012-03-01</td>\n      <td>21:13:00</td>\n      <td>盘锦北</td>\n      <td>沈阳北</td>\n      <td>01:00:00</td>\n      <td>154</td>\n      <td>YZ</td>\n      <td>11</td>\n      <td>51</td>\n      <td>210302199212143008</td>\n    </tr>\n    <tr>\n      <th>...</th>\n      <td>...</td>\n      <td>...</td>\n      <td>...</td>\n      <td>...</td>\n      <td>...</td>\n      <td>...</td>\n      <td>...</td>\n      <td>...</td>\n      <td>...</td>\n      <td>...</td>\n      <td>...</td>\n      <td>...</td>\n      <td>...</td>\n      <td>...</td>\n      <td>...</td>\n      <td>...</td>\n    </tr>\n    <tr>\n      <th>985754</th>\n      <td>768334</td>\n      <td>211103199402110016</td>\n      <td>O</td>\n      <td>4229</td>\n      <td>2012-05-04</td>\n      <td>03:21:00</td>\n      <td>2012-05-04</td>\n      <td>03:21:00</td>\n      <td>辽阳</td>\n      <td>营口</td>\n      <td>00:00:00</td>\n      <td>115</td>\n      <td>YZ</td>\n      <td>5</td>\n      <td>36</td>\n      <td>211103199402110016</td>\n    </tr>\n    <tr>\n      <th>985755</th>\n      <td>768335</td>\n      <td>211103199402110016</td>\n      <td>O</td>\n      <td>K7369</td>\n      <td>2012-05-21</td>\n      <td>17:07:00</td>\n      <td>2012-05-21</td>\n      <td>19:07:00</td>\n      <td>营口</td>\n      <td>抚顺北</td>\n      <td>02:00:00</td>\n      <td>244</td>\n      <td>RZ</td>\n      <td>5</td>\n      <td>54</td>\n      <td>211103199402110016</td>\n    </tr>\n    <tr>\n      <th>985756</th>\n      <td>768336</td>\n      <td>211103199402110016</td>\n      <td>O</td>\n      <td>K7369</td>\n      <td>2012-05-26</td>\n      <td>18:37:00</td>\n      <td>2012-05-27</td>\n      <td>02:37:00</td>\n      <td>苇子沟</td>\n      <td>营口</td>\n      <td>08:00:00</td>\n      <td>1024</td>\n      <td>ZP</td>\n      <td>9</td>\n      <td>72</td>\n      <td>211103199402110016</td>\n    </tr>\n    <tr>\n      <th>985757</th>\n      <td>768337</td>\n      <td>211103199402110016</td>\n      <td>O</td>\n      <td>K7369</td>\n      <td>2012-06-19</td>\n      <td>12:44:00</td>\n      <td>2012-06-19</td>\n      <td>12:44:00</td>\n      <td>鞍山</td>\n      <td>营口</td>\n      <td>00:00:00</td>\n      <td>90</td>\n      <td>RZ</td>\n      <td>16</td>\n      <td>72</td>\n      <td>211103199402110016</td>\n    </tr>\n    <tr>\n      <th>985758</th>\n      <td>768338</td>\n      <td>211103199402110016</td>\n      <td>O</td>\n      <td>K7369</td>\n      <td>2012-06-04</td>\n      <td>11:59:00</td>\n      <td>2012-06-04</td>\n      <td>17:59:00</td>\n      <td>营口</td>\n      <td>蛟河</td>\n      <td>06:00:00</td>\n      <td>740</td>\n      <td>YZ</td>\n      <td>15</td>\n      <td>74</td>\n      <td>211103199402110016</td>\n    </tr>\n  </tbody>\n</table>\n<p>985759 rows × 16 columns</p>\n</div>"
     },
     "metadata": {},
     "execution_count": 4
    }
   ],
   "source": [
    "df"
   ]
  },
  {
   "cell_type": "code",
   "execution_count": 5,
   "metadata": {},
   "outputs": [],
   "source": [
    "df.dropna(axis=0, how='any', inplace=True)"
   ]
  },
  {
   "cell_type": "code",
   "execution_count": 6,
   "metadata": {},
   "outputs": [
    {
     "output_type": "execute_result",
     "data": {
      "text/plain": [
       "         PR_ID                PPID TRAIN_TYPE TRAIN_CODE BOARD_DATE  \\\n",
       "0       236365  210302199212143008          D        D15 2012-03-08   \n",
       "1       236366  210302199212143008          D        D22 2012-03-12   \n",
       "2       236367  210302199212143008          D       D102 2012-03-12   \n",
       "3       236368  210302199212143008          D       D164 2012-03-01   \n",
       "4       236369  210302199212143008          O       1052 2012-03-01   \n",
       "...        ...                 ...        ...        ...        ...   \n",
       "985754  768334  211103199402110016          O       4229 2012-05-04   \n",
       "985755  768335  211103199402110016          O      K7369 2012-05-21   \n",
       "985756  768336  211103199402110016          O      K7369 2012-05-26   \n",
       "985757  768337  211103199402110016          O      K7369 2012-06-19   \n",
       "985758  768338  211103199402110016          O      K7369 2012-06-04   \n",
       "\n",
       "       BOARD_TIME ARRIVAL_DATE ARRIVAL_TIME START_STA ARRIVAL_STA TRAVEL_TIME  \\\n",
       "0        19:04:00   2012-03-08     20:04:00       盘锦北         沈阳北    01:00:00   \n",
       "1        08:01:00   2012-03-12     09:01:00       沈阳北         盘锦北    01:00:00   \n",
       "2        18:42:00   2012-03-12     19:42:00       盘锦北         沈阳北    01:00:00   \n",
       "3        08:03:00   2012-03-01     09:03:00       沈阳北         盘锦北    01:00:00   \n",
       "4        20:13:00   2012-03-01     21:13:00       盘锦北         沈阳北    01:00:00   \n",
       "...           ...          ...          ...       ...         ...         ...   \n",
       "985754   03:21:00   2012-05-04     03:21:00        辽阳          营口    00:00:00   \n",
       "985755   17:07:00   2012-05-21     19:07:00        营口         抚顺北    02:00:00   \n",
       "985756   18:37:00   2012-05-27     02:37:00       苇子沟          营口    08:00:00   \n",
       "985757   12:44:00   2012-06-19     12:44:00        鞍山          营口    00:00:00   \n",
       "985758   11:59:00   2012-06-04     17:59:00        营口          蛟河    06:00:00   \n",
       "\n",
       "        TRAVEL_LENGTH SEAT_TYPE  COACH_NO  SEAT_NO          BUYYER_PID  \\\n",
       "0                 154        GD         4       79  210302199212143008   \n",
       "1                 154        GD        13       87  210302199212143008   \n",
       "2                 154        GD        12       21  210302199212143008   \n",
       "3                 154        GD         6       19  210302199212143008   \n",
       "4                 154        YZ        11       51  210302199212143008   \n",
       "...               ...       ...       ...      ...                 ...   \n",
       "985754            115        YZ         5       36  211103199402110016   \n",
       "985755            244        RZ         5       54  211103199402110016   \n",
       "985756           1024        ZP         9       72  211103199402110016   \n",
       "985757             90        RZ        16       72  211103199402110016   \n",
       "985758            740        YZ        15       74  211103199402110016   \n",
       "\n",
       "        start_station  arrival_station  \n",
       "0                 102              210  \n",
       "1                 210              102  \n",
       "2                 102              210  \n",
       "3                 210              102  \n",
       "4                 102              210  \n",
       "...               ...              ...  \n",
       "985754            332              108  \n",
       "985755            108              159  \n",
       "985756            378              108  \n",
       "985757            338              108  \n",
       "985758            108               99  \n",
       "\n",
       "[950442 rows x 18 columns]"
      ],
      "text/html": "<div>\n<style scoped>\n    .dataframe tbody tr th:only-of-type {\n        vertical-align: middle;\n    }\n\n    .dataframe tbody tr th {\n        vertical-align: top;\n    }\n\n    .dataframe thead th {\n        text-align: right;\n    }\n</style>\n<table border=\"1\" class=\"dataframe\">\n  <thead>\n    <tr style=\"text-align: right;\">\n      <th></th>\n      <th>PR_ID</th>\n      <th>PPID</th>\n      <th>TRAIN_TYPE</th>\n      <th>TRAIN_CODE</th>\n      <th>BOARD_DATE</th>\n      <th>BOARD_TIME</th>\n      <th>ARRIVAL_DATE</th>\n      <th>ARRIVAL_TIME</th>\n      <th>START_STA</th>\n      <th>ARRIVAL_STA</th>\n      <th>TRAVEL_TIME</th>\n      <th>TRAVEL_LENGTH</th>\n      <th>SEAT_TYPE</th>\n      <th>COACH_NO</th>\n      <th>SEAT_NO</th>\n      <th>BUYYER_PID</th>\n      <th>start_station</th>\n      <th>arrival_station</th>\n    </tr>\n  </thead>\n  <tbody>\n    <tr>\n      <th>0</th>\n      <td>236365</td>\n      <td>210302199212143008</td>\n      <td>D</td>\n      <td>D15</td>\n      <td>2012-03-08</td>\n      <td>19:04:00</td>\n      <td>2012-03-08</td>\n      <td>20:04:00</td>\n      <td>盘锦北</td>\n      <td>沈阳北</td>\n      <td>01:00:00</td>\n      <td>154</td>\n      <td>GD</td>\n      <td>4</td>\n      <td>79</td>\n      <td>210302199212143008</td>\n      <td>102</td>\n      <td>210</td>\n    </tr>\n    <tr>\n      <th>1</th>\n      <td>236366</td>\n      <td>210302199212143008</td>\n      <td>D</td>\n      <td>D22</td>\n      <td>2012-03-12</td>\n      <td>08:01:00</td>\n      <td>2012-03-12</td>\n      <td>09:01:00</td>\n      <td>沈阳北</td>\n      <td>盘锦北</td>\n      <td>01:00:00</td>\n      <td>154</td>\n      <td>GD</td>\n      <td>13</td>\n      <td>87</td>\n      <td>210302199212143008</td>\n      <td>210</td>\n      <td>102</td>\n    </tr>\n    <tr>\n      <th>2</th>\n      <td>236367</td>\n      <td>210302199212143008</td>\n      <td>D</td>\n      <td>D102</td>\n      <td>2012-03-12</td>\n      <td>18:42:00</td>\n      <td>2012-03-12</td>\n      <td>19:42:00</td>\n      <td>盘锦北</td>\n      <td>沈阳北</td>\n      <td>01:00:00</td>\n      <td>154</td>\n      <td>GD</td>\n      <td>12</td>\n      <td>21</td>\n      <td>210302199212143008</td>\n      <td>102</td>\n      <td>210</td>\n    </tr>\n    <tr>\n      <th>3</th>\n      <td>236368</td>\n      <td>210302199212143008</td>\n      <td>D</td>\n      <td>D164</td>\n      <td>2012-03-01</td>\n      <td>08:03:00</td>\n      <td>2012-03-01</td>\n      <td>09:03:00</td>\n      <td>沈阳北</td>\n      <td>盘锦北</td>\n      <td>01:00:00</td>\n      <td>154</td>\n      <td>GD</td>\n      <td>6</td>\n      <td>19</td>\n      <td>210302199212143008</td>\n      <td>210</td>\n      <td>102</td>\n    </tr>\n    <tr>\n      <th>4</th>\n      <td>236369</td>\n      <td>210302199212143008</td>\n      <td>O</td>\n      <td>1052</td>\n      <td>2012-03-01</td>\n      <td>20:13:00</td>\n      <td>2012-03-01</td>\n      <td>21:13:00</td>\n      <td>盘锦北</td>\n      <td>沈阳北</td>\n      <td>01:00:00</td>\n      <td>154</td>\n      <td>YZ</td>\n      <td>11</td>\n      <td>51</td>\n      <td>210302199212143008</td>\n      <td>102</td>\n      <td>210</td>\n    </tr>\n    <tr>\n      <th>...</th>\n      <td>...</td>\n      <td>...</td>\n      <td>...</td>\n      <td>...</td>\n      <td>...</td>\n      <td>...</td>\n      <td>...</td>\n      <td>...</td>\n      <td>...</td>\n      <td>...</td>\n      <td>...</td>\n      <td>...</td>\n      <td>...</td>\n      <td>...</td>\n      <td>...</td>\n      <td>...</td>\n      <td>...</td>\n      <td>...</td>\n    </tr>\n    <tr>\n      <th>985754</th>\n      <td>768334</td>\n      <td>211103199402110016</td>\n      <td>O</td>\n      <td>4229</td>\n      <td>2012-05-04</td>\n      <td>03:21:00</td>\n      <td>2012-05-04</td>\n      <td>03:21:00</td>\n      <td>辽阳</td>\n      <td>营口</td>\n      <td>00:00:00</td>\n      <td>115</td>\n      <td>YZ</td>\n      <td>5</td>\n      <td>36</td>\n      <td>211103199402110016</td>\n      <td>332</td>\n      <td>108</td>\n    </tr>\n    <tr>\n      <th>985755</th>\n      <td>768335</td>\n      <td>211103199402110016</td>\n      <td>O</td>\n      <td>K7369</td>\n      <td>2012-05-21</td>\n      <td>17:07:00</td>\n      <td>2012-05-21</td>\n      <td>19:07:00</td>\n      <td>营口</td>\n      <td>抚顺北</td>\n      <td>02:00:00</td>\n      <td>244</td>\n      <td>RZ</td>\n      <td>5</td>\n      <td>54</td>\n      <td>211103199402110016</td>\n      <td>108</td>\n      <td>159</td>\n    </tr>\n    <tr>\n      <th>985756</th>\n      <td>768336</td>\n      <td>211103199402110016</td>\n      <td>O</td>\n      <td>K7369</td>\n      <td>2012-05-26</td>\n      <td>18:37:00</td>\n      <td>2012-05-27</td>\n      <td>02:37:00</td>\n      <td>苇子沟</td>\n      <td>营口</td>\n      <td>08:00:00</td>\n      <td>1024</td>\n      <td>ZP</td>\n      <td>9</td>\n      <td>72</td>\n      <td>211103199402110016</td>\n      <td>378</td>\n      <td>108</td>\n    </tr>\n    <tr>\n      <th>985757</th>\n      <td>768337</td>\n      <td>211103199402110016</td>\n      <td>O</td>\n      <td>K7369</td>\n      <td>2012-06-19</td>\n      <td>12:44:00</td>\n      <td>2012-06-19</td>\n      <td>12:44:00</td>\n      <td>鞍山</td>\n      <td>营口</td>\n      <td>00:00:00</td>\n      <td>90</td>\n      <td>RZ</td>\n      <td>16</td>\n      <td>72</td>\n      <td>211103199402110016</td>\n      <td>338</td>\n      <td>108</td>\n    </tr>\n    <tr>\n      <th>985758</th>\n      <td>768338</td>\n      <td>211103199402110016</td>\n      <td>O</td>\n      <td>K7369</td>\n      <td>2012-06-04</td>\n      <td>11:59:00</td>\n      <td>2012-06-04</td>\n      <td>17:59:00</td>\n      <td>营口</td>\n      <td>蛟河</td>\n      <td>06:00:00</td>\n      <td>740</td>\n      <td>YZ</td>\n      <td>15</td>\n      <td>74</td>\n      <td>211103199402110016</td>\n      <td>108</td>\n      <td>99</td>\n    </tr>\n  </tbody>\n</table>\n<p>950442 rows × 18 columns</p>\n</div>"
     },
     "metadata": {},
     "execution_count": 6
    }
   ],
   "source": [
    "# change start sta and arrival sta into ID\n",
    "start_stations = df['START_STA'].unique()\n",
    "arrival_stations = df['ARRIVAL_STA'].unique()\n",
    "stations = list(set(start_stations).union(set(arrival_stations)))\n",
    "idx = [i for i in range(len(stations))]\n",
    "seg = zip(stations, idx)\n",
    "station_dict = dict(seg)\n",
    "df['start_station'] = df['START_STA'].map(station_dict)\n",
    "df['arrival_station'] = df['ARRIVAL_STA'].map(station_dict)\n",
    "df\n"
   ]
  },
  {
   "cell_type": "code",
   "execution_count": 7,
   "metadata": {},
   "outputs": [],
   "source": [
    "# extract every subgraph into json files \n",
    "def mapping_stations_relative_id(df):\n",
    "    start_stations = df['START_STA'].unique()\n",
    "    arrival_stations = df['ARRIVAL_STA'].unique()\n",
    "    stations = list(set(start_stations).union(set(arrival_stations)))\n",
    "    idx = list(range(len(stations)))\n",
    "    seg = zip(stations, idx)\n",
    "    stations_dict = dict(seg)\n",
    "    df['start_relative_station'] = df['START_STA'].map(stations_dict)\n",
    "    df['arrival_relative_station'] = df['ARRIVAL_STA'].map(stations_dict)\n",
    "    return df"
   ]
  },
  {
   "cell_type": "code",
   "execution_count": 8,
   "metadata": {
    "tags": []
   },
   "outputs": [],
   "source": [
    "rets = df.groupby('PPID').apply(mapping_stations_relative_id)"
   ]
  },
  {
   "cell_type": "code",
   "execution_count": 13,
   "metadata": {},
   "outputs": [],
   "source": [
    "# dataframe to json\n",
    "def construct_edges(df):\n",
    "    df['edges'] = [[i,j] for (i,j) in zip(df['start_relative_station'], df['arrival_relative_station'])]\n",
    "    return df"
   ]
  },
  {
   "cell_type": "code",
   "execution_count": 15,
   "metadata": {},
   "outputs": [
    {
     "output_type": "execute_result",
     "data": {
      "text/plain": [
       "         PR_ID                PPID TRAIN_TYPE TRAIN_CODE BOARD_DATE  \\\n",
       "0       236365  210302199212143008          D        D15 2012-03-08   \n",
       "1       236366  210302199212143008          D        D22 2012-03-12   \n",
       "2       236367  210302199212143008          D       D102 2012-03-12   \n",
       "3       236368  210302199212143008          D       D164 2012-03-01   \n",
       "4       236369  210302199212143008          O       1052 2012-03-01   \n",
       "...        ...                 ...        ...        ...        ...   \n",
       "985754  768334  211103199402110016          O       4229 2012-05-04   \n",
       "985755  768335  211103199402110016          O      K7369 2012-05-21   \n",
       "985756  768336  211103199402110016          O      K7369 2012-05-26   \n",
       "985757  768337  211103199402110016          O      K7369 2012-06-19   \n",
       "985758  768338  211103199402110016          O      K7369 2012-06-04   \n",
       "\n",
       "       BOARD_TIME ARRIVAL_DATE ARRIVAL_TIME START_STA ARRIVAL_STA  ...  \\\n",
       "0        19:04:00   2012-03-08     20:04:00       盘锦北         沈阳北  ...   \n",
       "1        08:01:00   2012-03-12     09:01:00       沈阳北         盘锦北  ...   \n",
       "2        18:42:00   2012-03-12     19:42:00       盘锦北         沈阳北  ...   \n",
       "3        08:03:00   2012-03-01     09:03:00       沈阳北         盘锦北  ...   \n",
       "4        20:13:00   2012-03-01     21:13:00       盘锦北         沈阳北  ...   \n",
       "...           ...          ...          ...       ...         ...  ...   \n",
       "985754   03:21:00   2012-05-04     03:21:00        辽阳          营口  ...   \n",
       "985755   17:07:00   2012-05-21     19:07:00        营口         抚顺北  ...   \n",
       "985756   18:37:00   2012-05-27     02:37:00       苇子沟          营口  ...   \n",
       "985757   12:44:00   2012-06-19     12:44:00        鞍山          营口  ...   \n",
       "985758   11:59:00   2012-06-04     17:59:00        营口          蛟河  ...   \n",
       "\n",
       "       TRAVEL_LENGTH  SEAT_TYPE COACH_NO  SEAT_NO          BUYYER_PID  \\\n",
       "0                154         GD        4       79  210302199212143008   \n",
       "1                154         GD       13       87  210302199212143008   \n",
       "2                154         GD       12       21  210302199212143008   \n",
       "3                154         GD        6       19  210302199212143008   \n",
       "4                154         YZ       11       51  210302199212143008   \n",
       "...              ...        ...      ...      ...                 ...   \n",
       "985754           115         YZ        5       36  211103199402110016   \n",
       "985755           244         RZ        5       54  211103199402110016   \n",
       "985756          1024         ZP        9       72  211103199402110016   \n",
       "985757            90         RZ       16       72  211103199402110016   \n",
       "985758           740         YZ       15       74  211103199402110016   \n",
       "\n",
       "       start_station  arrival_station  start_relative_station  \\\n",
       "0                102              210                      15   \n",
       "1                210              102                       5   \n",
       "2                102              210                      15   \n",
       "3                210              102                       5   \n",
       "4                102              210                      15   \n",
       "...              ...              ...                     ...   \n",
       "985754           332              108                      13   \n",
       "985755           108              159                      28   \n",
       "985756           378              108                       2   \n",
       "985757           338              108                      21   \n",
       "985758           108               99                      28   \n",
       "\n",
       "        arrival_relative_station     edges  \n",
       "0                              5   [15, 5]  \n",
       "1                             15   [5, 15]  \n",
       "2                              5   [15, 5]  \n",
       "3                             15   [5, 15]  \n",
       "4                              5   [15, 5]  \n",
       "...                          ...       ...  \n",
       "985754                        28  [13, 28]  \n",
       "985755                        22  [28, 22]  \n",
       "985756                        28   [2, 28]  \n",
       "985757                        28  [21, 28]  \n",
       "985758                         9   [28, 9]  \n",
       "\n",
       "[950442 rows x 21 columns]"
      ],
      "text/html": "<div>\n<style scoped>\n    .dataframe tbody tr th:only-of-type {\n        vertical-align: middle;\n    }\n\n    .dataframe tbody tr th {\n        vertical-align: top;\n    }\n\n    .dataframe thead th {\n        text-align: right;\n    }\n</style>\n<table border=\"1\" class=\"dataframe\">\n  <thead>\n    <tr style=\"text-align: right;\">\n      <th></th>\n      <th>PR_ID</th>\n      <th>PPID</th>\n      <th>TRAIN_TYPE</th>\n      <th>TRAIN_CODE</th>\n      <th>BOARD_DATE</th>\n      <th>BOARD_TIME</th>\n      <th>ARRIVAL_DATE</th>\n      <th>ARRIVAL_TIME</th>\n      <th>START_STA</th>\n      <th>ARRIVAL_STA</th>\n      <th>...</th>\n      <th>TRAVEL_LENGTH</th>\n      <th>SEAT_TYPE</th>\n      <th>COACH_NO</th>\n      <th>SEAT_NO</th>\n      <th>BUYYER_PID</th>\n      <th>start_station</th>\n      <th>arrival_station</th>\n      <th>start_relative_station</th>\n      <th>arrival_relative_station</th>\n      <th>edges</th>\n    </tr>\n  </thead>\n  <tbody>\n    <tr>\n      <th>0</th>\n      <td>236365</td>\n      <td>210302199212143008</td>\n      <td>D</td>\n      <td>D15</td>\n      <td>2012-03-08</td>\n      <td>19:04:00</td>\n      <td>2012-03-08</td>\n      <td>20:04:00</td>\n      <td>盘锦北</td>\n      <td>沈阳北</td>\n      <td>...</td>\n      <td>154</td>\n      <td>GD</td>\n      <td>4</td>\n      <td>79</td>\n      <td>210302199212143008</td>\n      <td>102</td>\n      <td>210</td>\n      <td>15</td>\n      <td>5</td>\n      <td>[15, 5]</td>\n    </tr>\n    <tr>\n      <th>1</th>\n      <td>236366</td>\n      <td>210302199212143008</td>\n      <td>D</td>\n      <td>D22</td>\n      <td>2012-03-12</td>\n      <td>08:01:00</td>\n      <td>2012-03-12</td>\n      <td>09:01:00</td>\n      <td>沈阳北</td>\n      <td>盘锦北</td>\n      <td>...</td>\n      <td>154</td>\n      <td>GD</td>\n      <td>13</td>\n      <td>87</td>\n      <td>210302199212143008</td>\n      <td>210</td>\n      <td>102</td>\n      <td>5</td>\n      <td>15</td>\n      <td>[5, 15]</td>\n    </tr>\n    <tr>\n      <th>2</th>\n      <td>236367</td>\n      <td>210302199212143008</td>\n      <td>D</td>\n      <td>D102</td>\n      <td>2012-03-12</td>\n      <td>18:42:00</td>\n      <td>2012-03-12</td>\n      <td>19:42:00</td>\n      <td>盘锦北</td>\n      <td>沈阳北</td>\n      <td>...</td>\n      <td>154</td>\n      <td>GD</td>\n      <td>12</td>\n      <td>21</td>\n      <td>210302199212143008</td>\n      <td>102</td>\n      <td>210</td>\n      <td>15</td>\n      <td>5</td>\n      <td>[15, 5]</td>\n    </tr>\n    <tr>\n      <th>3</th>\n      <td>236368</td>\n      <td>210302199212143008</td>\n      <td>D</td>\n      <td>D164</td>\n      <td>2012-03-01</td>\n      <td>08:03:00</td>\n      <td>2012-03-01</td>\n      <td>09:03:00</td>\n      <td>沈阳北</td>\n      <td>盘锦北</td>\n      <td>...</td>\n      <td>154</td>\n      <td>GD</td>\n      <td>6</td>\n      <td>19</td>\n      <td>210302199212143008</td>\n      <td>210</td>\n      <td>102</td>\n      <td>5</td>\n      <td>15</td>\n      <td>[5, 15]</td>\n    </tr>\n    <tr>\n      <th>4</th>\n      <td>236369</td>\n      <td>210302199212143008</td>\n      <td>O</td>\n      <td>1052</td>\n      <td>2012-03-01</td>\n      <td>20:13:00</td>\n      <td>2012-03-01</td>\n      <td>21:13:00</td>\n      <td>盘锦北</td>\n      <td>沈阳北</td>\n      <td>...</td>\n      <td>154</td>\n      <td>YZ</td>\n      <td>11</td>\n      <td>51</td>\n      <td>210302199212143008</td>\n      <td>102</td>\n      <td>210</td>\n      <td>15</td>\n      <td>5</td>\n      <td>[15, 5]</td>\n    </tr>\n    <tr>\n      <th>...</th>\n      <td>...</td>\n      <td>...</td>\n      <td>...</td>\n      <td>...</td>\n      <td>...</td>\n      <td>...</td>\n      <td>...</td>\n      <td>...</td>\n      <td>...</td>\n      <td>...</td>\n      <td>...</td>\n      <td>...</td>\n      <td>...</td>\n      <td>...</td>\n      <td>...</td>\n      <td>...</td>\n      <td>...</td>\n      <td>...</td>\n      <td>...</td>\n      <td>...</td>\n      <td>...</td>\n    </tr>\n    <tr>\n      <th>985754</th>\n      <td>768334</td>\n      <td>211103199402110016</td>\n      <td>O</td>\n      <td>4229</td>\n      <td>2012-05-04</td>\n      <td>03:21:00</td>\n      <td>2012-05-04</td>\n      <td>03:21:00</td>\n      <td>辽阳</td>\n      <td>营口</td>\n      <td>...</td>\n      <td>115</td>\n      <td>YZ</td>\n      <td>5</td>\n      <td>36</td>\n      <td>211103199402110016</td>\n      <td>332</td>\n      <td>108</td>\n      <td>13</td>\n      <td>28</td>\n      <td>[13, 28]</td>\n    </tr>\n    <tr>\n      <th>985755</th>\n      <td>768335</td>\n      <td>211103199402110016</td>\n      <td>O</td>\n      <td>K7369</td>\n      <td>2012-05-21</td>\n      <td>17:07:00</td>\n      <td>2012-05-21</td>\n      <td>19:07:00</td>\n      <td>营口</td>\n      <td>抚顺北</td>\n      <td>...</td>\n      <td>244</td>\n      <td>RZ</td>\n      <td>5</td>\n      <td>54</td>\n      <td>211103199402110016</td>\n      <td>108</td>\n      <td>159</td>\n      <td>28</td>\n      <td>22</td>\n      <td>[28, 22]</td>\n    </tr>\n    <tr>\n      <th>985756</th>\n      <td>768336</td>\n      <td>211103199402110016</td>\n      <td>O</td>\n      <td>K7369</td>\n      <td>2012-05-26</td>\n      <td>18:37:00</td>\n      <td>2012-05-27</td>\n      <td>02:37:00</td>\n      <td>苇子沟</td>\n      <td>营口</td>\n      <td>...</td>\n      <td>1024</td>\n      <td>ZP</td>\n      <td>9</td>\n      <td>72</td>\n      <td>211103199402110016</td>\n      <td>378</td>\n      <td>108</td>\n      <td>2</td>\n      <td>28</td>\n      <td>[2, 28]</td>\n    </tr>\n    <tr>\n      <th>985757</th>\n      <td>768337</td>\n      <td>211103199402110016</td>\n      <td>O</td>\n      <td>K7369</td>\n      <td>2012-06-19</td>\n      <td>12:44:00</td>\n      <td>2012-06-19</td>\n      <td>12:44:00</td>\n      <td>鞍山</td>\n      <td>营口</td>\n      <td>...</td>\n      <td>90</td>\n      <td>RZ</td>\n      <td>16</td>\n      <td>72</td>\n      <td>211103199402110016</td>\n      <td>338</td>\n      <td>108</td>\n      <td>21</td>\n      <td>28</td>\n      <td>[21, 28]</td>\n    </tr>\n    <tr>\n      <th>985758</th>\n      <td>768338</td>\n      <td>211103199402110016</td>\n      <td>O</td>\n      <td>K7369</td>\n      <td>2012-06-04</td>\n      <td>11:59:00</td>\n      <td>2012-06-04</td>\n      <td>17:59:00</td>\n      <td>营口</td>\n      <td>蛟河</td>\n      <td>...</td>\n      <td>740</td>\n      <td>YZ</td>\n      <td>15</td>\n      <td>74</td>\n      <td>211103199402110016</td>\n      <td>108</td>\n      <td>99</td>\n      <td>28</td>\n      <td>9</td>\n      <td>[28, 9]</td>\n    </tr>\n  </tbody>\n</table>\n<p>950442 rows × 21 columns</p>\n</div>"
     },
     "metadata": {},
     "execution_count": 15
    }
   ],
   "source": [
    "json_df = rets.groupby('PPID').apply(construct_edges)\n",
    "json_df"
   ]
  },
  {
   "cell_type": "code",
   "execution_count": 86,
   "metadata": {},
   "outputs": [],
   "source": [
    "# split dataframe by groupby\n",
    "json_dfs = [x for _, x in json_df.groupby('PPID')]"
   ]
  },
  {
   "cell_type": "code",
   "execution_count": 139,
   "metadata": {
    "tags": []
   },
   "outputs": [],
   "source": [
    "PPID_dict = {}\n",
    "for i in range(len(json_dfs)):\n",
    "    PPID_dict[f'{i}'] = json_dfs[i].iloc[0,1]\n",
    "\n",
    "with open('../PPID_dict.json', 'w') as f:\n",
    "    json.dump(PPID_dict, f)"
   ]
  },
  {
   "cell_type": "code",
   "execution_count": 124,
   "metadata": {},
   "outputs": [],
   "source": [
    "# create json dicts and save json files\n",
    "for i in range(len(json_dfs)):\n",
    "    json_dict = {}\n",
    "    json_dict['edges'] = list(json_dfs[i]['edges'])\n",
    "    features_df = json_dfs[i][['start_relative_station', 'arrival_relative_station']].apply(pd.value_counts).fillna(0)\n",
    "    features_df['stations_frequency'] = (features_df['start_relative_station'] + features_df['arrival_relative_station']).astype('int').astype('str')\n",
    "    features_df.index = features_df.index.astype('str')\n",
    "\n",
    "    json_dict['features'] = features_df['stations_frequency'].to_dict()\n",
    "    with open(f'../dataset/{i}.json', 'w') as result_file:\n",
    "        json.dump(json_dict, result_file)"
   ]
  }
 ],
 "metadata": {
  "kernelspec": {
   "name": "python376jvsc74a57bd0dca0ade3e726a953b501b15e8e990130d2b7799f14cfd9f4271676035ebe5511",
   "display_name": "Python 3.7.6 64-bit ('base': conda)"
  },
  "language_info": {
   "codemirror_mode": {
    "name": "ipython",
    "version": 3
   },
   "file_extension": ".py",
   "mimetype": "text/x-python",
   "name": "python",
   "nbconvert_exporter": "python",
   "pygments_lexer": "ipython3",
   "version": "3.7.6"
  },
  "orig_nbformat": 2
 },
 "nbformat": 4,
 "nbformat_minor": 2
}