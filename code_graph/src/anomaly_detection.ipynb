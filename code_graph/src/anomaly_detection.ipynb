{
 "metadata": {
  "language_info": {
   "codemirror_mode": {
    "name": "ipython",
    "version": 3
   },
   "file_extension": ".py",
   "mimetype": "text/x-python",
   "name": "python",
   "nbconvert_exporter": "python",
   "pygments_lexer": "ipython3",
   "version": "3.7.6"
  },
  "orig_nbformat": 2,
  "kernelspec": {
   "name": "python376jvsc74a57bd0dca0ade3e726a953b501b15e8e990130d2b7799f14cfd9f4271676035ebe5511",
   "display_name": "Python 3.7.6 64-bit ('base': conda)"
  }
 },
 "nbformat": 4,
 "nbformat_minor": 2,
 "cells": [
  {
   "cell_type": "code",
   "execution_count": 39,
   "metadata": {},
   "outputs": [],
   "source": [
    "from sklearn.cluster import DBSCAN\n",
    "import pandas as pd\n",
    "import numpy as np\n",
    "import json"
   ]
  },
  {
   "cell_type": "code",
   "execution_count": 3,
   "metadata": {},
   "outputs": [],
   "source": [
    "df = pd.read_csv('../features/embedding.csv')\n",
    "df = df.drop('type', axis=1)"
   ]
  },
  {
   "cell_type": "code",
   "execution_count": 28,
   "metadata": {},
   "outputs": [],
   "source": [
    "clustering = DBSCAN(eps=0.3, min_samples=2).fit(np.array(df))\n",
    "labels = clustering.labels_\n",
    "labels = list(labels)"
   ]
  },
  {
   "cell_type": "code",
   "execution_count": 29,
   "metadata": {},
   "outputs": [
    {
     "output_type": "execute_result",
     "data": {
      "text/plain": [
       "array([-1,  0,  1])"
      ]
     },
     "metadata": {},
     "execution_count": 29
    }
   ],
   "source": [
    "np.unique(labels)"
   ]
  },
  {
   "cell_type": "code",
   "execution_count": 46,
   "metadata": {},
   "outputs": [
    {
     "output_type": "execute_result",
     "data": {
      "text/plain": [
       "[120111196209232000,\n",
       " 210106199212254016,\n",
       " 210211199303009984,\n",
       " 210212199004180992,\n",
       " 210224198902049984,\n",
       " 210281199202286016,\n",
       " 210281199302184992,\n",
       " 210303199210152000,\n",
       " 210402198712060992,\n",
       " 210423196207230016,\n",
       " 210682198108100000,\n",
       " 210703199301281984,\n",
       " 210711199108284992,\n",
       " 210882199112080000,\n",
       " 211381199403249984,\n",
       " 211382199210251008,\n",
       " 211402199305100000,\n",
       " 211422199012264992,\n",
       " 220319196010240992,\n",
       " 220403199207180992,\n",
       " 220702197306200000,\n",
       " 220723197901080992,\n",
       " 410883199406150976,\n",
       " 530422199202211008,\n",
       " 620123199010082944,\n",
       " 620423199103139968,\n",
       " 632124199109147008,\n",
       " '21060219850724302X',\n",
       " '22042219960908442X',\n",
       " '22240319961028435X']"
      ]
     },
     "metadata": {},
     "execution_count": 46
    }
   ],
   "source": [
    "outlier_index = [i for i, x in enumerate(labels) if x==-1 or x==1]\n",
    "outlier_index = [str(i) for i in outlier_index]\n",
    "outlier_index\n",
    "\n",
    "with open('../PPID_dict.json','r') as f:\n",
    "    PPID_dict = json.load(f)\n",
    "\n",
    "PPID_list = []\n",
    "for i in outlier_index:\n",
    "    PPID_list.append(PPID_dict[i])\n",
    "\n",
    "PPID_list"
   ]
  }
 ]
}