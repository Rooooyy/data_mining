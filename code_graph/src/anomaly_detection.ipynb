{
 "cells": [
  {
   "cell_type": "code",
   "execution_count": 2,
   "metadata": {},
   "outputs": [
    {
     "name": "stderr",
     "output_type": "stream",
     "text": [
      "D:\\software\\anaconda\\Anaconda\\lib\\site-packages\\numpy\\_distributor_init.py:30: UserWarning: loaded more than 1 DLL from .libs:\n",
      "D:\\software\\anaconda\\Anaconda\\lib\\site-packages\\numpy\\.libs\\libopenblas.QVLO2T66WEPI7JZ63PS3HMOHFEY472BC.gfortran-win_amd64.dll\n",
      "D:\\software\\anaconda\\Anaconda\\lib\\site-packages\\numpy\\.libs\\libopenblas.WCDJNK7YVMPZQ2ME2ZZHJJRJ3JIKNDB7.gfortran-win_amd64.dll\n",
      "  warnings.warn(\"loaded more than 1 DLL from .libs:\"\n"
     ]
    }
   ],
   "source": [
    "from sklearn.cluster import DBSCAN\r\n",
    "import pandas as pd\r\n",
    "import numpy as np\r\n",
    "import json"
   ]
  },
  {
   "cell_type": "code",
   "execution_count": 3,
   "metadata": {},
   "outputs": [],
   "source": [
    "df = pd.read_csv('../features/embedding.csv')\n",
    "df = df.drop('type', axis=1)"
   ]
  },
  {
   "cell_type": "code",
   "execution_count": 4,
   "metadata": {},
   "outputs": [
    {
     "data": {
      "text/plain": [
       "(11076, 128)"
      ]
     },
     "execution_count": 4,
     "metadata": {},
     "output_type": "execute_result"
    }
   ],
   "source": [
    "df.shape"
   ]
  },
  {
   "cell_type": "code",
   "execution_count": 28,
   "metadata": {},
   "outputs": [],
   "source": [
    "clustering = DBSCAN(eps=0.3, min_samples=2).fit(np.array(df))\n",
    "labels = clustering.labels_\n",
    "labels = list(labels)"
   ]
  },
  {
   "cell_type": "code",
   "execution_count": 29,
   "metadata": {},
   "outputs": [
    {
     "data": {
      "text/plain": [
       "array([-1,  0,  1])"
      ]
     },
     "execution_count": 29,
     "metadata": {},
     "output_type": "execute_result"
    }
   ],
   "source": [
    "np.unique(labels)"
   ]
  },
  {
   "cell_type": "code",
   "execution_count": 46,
   "metadata": {},
   "outputs": [
    {
     "data": {
      "text/plain": [
       "[120111196209232000,\n",
       " 210106199212254016,\n",
       " 210211199303009984,\n",
       " 210212199004180992,\n",
       " 210224198902049984,\n",
       " 210281199202286016,\n",
       " 210281199302184992,\n",
       " 210303199210152000,\n",
       " 210402198712060992,\n",
       " 210423196207230016,\n",
       " 210682198108100000,\n",
       " 210703199301281984,\n",
       " 210711199108284992,\n",
       " 210882199112080000,\n",
       " 211381199403249984,\n",
       " 211382199210251008,\n",
       " 211402199305100000,\n",
       " 211422199012264992,\n",
       " 220319196010240992,\n",
       " 220403199207180992,\n",
       " 220702197306200000,\n",
       " 220723197901080992,\n",
       " 410883199406150976,\n",
       " 530422199202211008,\n",
       " 620123199010082944,\n",
       " 620423199103139968,\n",
       " 632124199109147008,\n",
       " '21060219850724302X',\n",
       " '22042219960908442X',\n",
       " '22240319961028435X']"
      ]
     },
     "execution_count": 46,
     "metadata": {},
     "output_type": "execute_result"
    }
   ],
   "source": [
    "outlier_index = [i for i, x in enumerate(labels) if x==-1 or x==1]\n",
    "outlier_index = [str(i) for i in outlier_index]\n",
    "outlier_index\n",
    "\n",
    "with open('../PPID_dict.json','r') as f:\n",
    "    PPID_dict = json.load(f)\n",
    "\n",
    "PPID_list = []\n",
    "for i in outlier_index:\n",
    "    PPID_list.append(PPID_dict[i])\n",
    "\n",
    "PPID_list"
   ]
  }
 ],
 "metadata": {
  "kernelspec": {
   "display_name": "Python 3.7.6 64-bit ('base': conda)",
   "name": "python376jvsc74a57bd0dca0ade3e726a953b501b15e8e990130d2b7799f14cfd9f4271676035ebe5511"
  },
  "language_info": {
   "codemirror_mode": {
    "name": "ipython",
    "version": 3
   },
   "file_extension": ".py",
   "mimetype": "text/x-python",
   "name": "python",
   "nbconvert_exporter": "python",
   "pygments_lexer": "ipython3",
   "version": "3.7.6"
  },
  "orig_nbformat": 2
 },
 "nbformat": 4,
 "nbformat_minor": 2
}