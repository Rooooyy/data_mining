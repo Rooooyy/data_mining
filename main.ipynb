{
 "cells": [
  {
   "cell_type": "code",
   "execution_count": 69,
   "metadata": {},
   "outputs": [],
   "source": [
    "import numpy as np \n",
    "import pandas as pd\n",
    "import matplotlib.pyplot as plt \n",
    "import seaborn as sns \n",
    "import xlrd\n",
    "import time"
   ]
  },
  {
   "cell_type": "code",
   "execution_count": null,
   "metadata": {},
   "outputs": [],
   "source": [
    "import csv\n",
    "def csv_reader(path):\n",
    "    with open(path, 'r', encoding='utf-8') as fp:\n",
    "        reader = csv.reader(fp)\n",
    "        data = [i for i in reader]\n",
    "    return data\n",
    "def csv_writer(path, header, data):\n",
    "    with open(path, 'w', encoding='utf-8', newline=\"\") as csvfile:\n",
    "        writer = csv.writer(csvfile, delimiter=',')\n",
    "        writer.writerow(header)\n",
    "        writer.writerows(data)"
   ]
  },
  {
   "cell_type": "code",
   "execution_count": 11,
   "metadata": {},
   "outputs": [],
   "source": [
    "df = pd.read_excel('./PASSENGER_RECORD.xlsx')"
   ]
  },
  {
   "cell_type": "code",
   "execution_count": 12,
   "metadata": {
    "scrolled": true
   },
   "outputs": [
    {
     "data": {
      "text/plain": [
       "Index(['PR_ID', 'PPID', 'TRAIN_TYPE', 'TRAIN_CODE', 'BOARD_DATE', 'BOARD_TIME',\n",
       "       'ARRIVAL_DATE', 'ARRIVAL_TIME', 'START_STA', 'ARRIVAL_STA',\n",
       "       'TRAVEL_TIME', 'TRAVEL_LENGTH', 'SEAT_TYPE', 'COACH_NO', 'SEAT_NO',\n",
       "       'BUYYER_PID'],\n",
       "      dtype='object')"
      ]
     },
     "execution_count": 12,
     "metadata": {},
     "output_type": "execute_result"
    }
   ],
   "source": [
    "df.columns"
   ]
  },
  {
   "cell_type": "markdown",
   "metadata": {},
   "source": [
    "车厢号、座位号、座位类别参考意义不大，直接drop"
   ]
  },
  {
   "cell_type": "code",
   "execution_count": 13,
   "metadata": {},
   "outputs": [
    {
     "data": {
      "text/plain": [
       "Index(['PR_ID', 'PPID', 'BOARD_DATE', 'BOARD_TIME', 'ARRIVAL_DATE',\n",
       "       'ARRIVAL_TIME', 'START_STA', 'ARRIVAL_STA', 'TRAVEL_TIME',\n",
       "       'TRAVEL_LENGTH', 'BUYYER_PID'],\n",
       "      dtype='object')"
      ]
     },
     "execution_count": 13,
     "metadata": {},
     "output_type": "execute_result"
    }
   ],
   "source": [
    "df = df.drop(['TRAIN_TYPE','TRAIN_CODE','COACH_NO','SEAT_NO','SEAT_TYPE'], axis=1)\n",
    "df.columns"
   ]
  },
  {
   "cell_type": "markdown",
   "metadata": {},
   "source": [
    "BOARD_DATE、BOARD_TIME日期和时间是分离的，把它们合并到同一列上，ARRIVAL同理"
   ]
  },
  {
   "cell_type": "code",
   "execution_count": 5,
   "metadata": {},
   "outputs": [
    {
     "data": {
      "text/plain": [
       "0        2012-03-08 19:04:00\n",
       "1        2012-03-12 08:01:00\n",
       "2        2012-03-12 18:42:00\n",
       "3        2012-03-01 08:03:00\n",
       "4        2012-03-01 20:13:00\n",
       "                 ...        \n",
       "985754   2012-05-04 03:21:00\n",
       "985755   2012-05-21 17:07:00\n",
       "985756   2012-05-26 18:37:00\n",
       "985757   2012-06-19 12:44:00\n",
       "985758   2012-06-04 11:59:00\n",
       "Name: BOARD_TIME, Length: 985759, dtype: datetime64[ns]"
      ]
     },
     "execution_count": 5,
     "metadata": {},
     "output_type": "execute_result"
    }
   ],
   "source": [
    "df['BOARD_TIME'] = df['BOARD_DATE'] + df['BOARD_TIME'].apply(str).apply(pd.Timedelta)\n",
    "df = df.drop(['BOARD_DATE'], axis=1)\n",
    "df['BOARD_TIME']"
   ]
  },
  {
   "cell_type": "code",
   "execution_count": 6,
   "metadata": {},
   "outputs": [
    {
     "data": {
      "text/plain": [
       "0        2012-03-08 20:04:00\n",
       "1        2012-03-12 09:01:00\n",
       "2        2012-03-12 19:42:00\n",
       "3        2012-03-01 09:03:00\n",
       "4        2012-03-01 21:13:00\n",
       "                 ...        \n",
       "985754   2012-05-04 03:21:00\n",
       "985755   2012-05-21 19:07:00\n",
       "985756   2012-05-27 02:37:00\n",
       "985757   2012-06-19 12:44:00\n",
       "985758   2012-06-04 17:59:00\n",
       "Name: ARRIVAL_TIME, Length: 985759, dtype: datetime64[ns]"
      ]
     },
     "execution_count": 6,
     "metadata": {},
     "output_type": "execute_result"
    }
   ],
   "source": [
    "# ARRIVAL虽然看上去和BOARD一样，但实际上读取到的类型是datetime.time，所以做一个特殊的parser来处理，不能直接apply(str)\n",
    "parser = lambda time : time.strftime('%H:%M:%S')\n",
    "df['ARRIVAL_TIME'] = df['ARRIVAL_DATE'] + df['ARRIVAL_TIME'].apply(parser).apply(pd.Timedelta)\n",
    "df = df.drop(['ARRIVAL_DATE'], axis=1)\n",
    "df['ARRIVAL_TIME']"
   ]
  },
  {
   "cell_type": "code",
   "execution_count": 7,
   "metadata": {},
   "outputs": [
    {
     "data": {
      "text/html": [
       "<div>\n",
       "<style scoped>\n",
       "    .dataframe tbody tr th:only-of-type {\n",
       "        vertical-align: middle;\n",
       "    }\n",
       "\n",
       "    .dataframe tbody tr th {\n",
       "        vertical-align: top;\n",
       "    }\n",
       "\n",
       "    .dataframe thead th {\n",
       "        text-align: right;\n",
       "    }\n",
       "</style>\n",
       "<table border=\"1\" class=\"dataframe\">\n",
       "  <thead>\n",
       "    <tr style=\"text-align: right;\">\n",
       "      <th></th>\n",
       "      <th>count</th>\n",
       "      <th>mean</th>\n",
       "      <th>std</th>\n",
       "      <th>min</th>\n",
       "      <th>25%</th>\n",
       "      <th>50%</th>\n",
       "      <th>75%</th>\n",
       "      <th>max</th>\n",
       "    </tr>\n",
       "    <tr>\n",
       "      <th>PPID</th>\n",
       "      <th></th>\n",
       "      <th></th>\n",
       "      <th></th>\n",
       "      <th></th>\n",
       "      <th></th>\n",
       "      <th></th>\n",
       "      <th></th>\n",
       "      <th></th>\n",
       "    </tr>\n",
       "  </thead>\n",
       "  <tbody>\n",
       "    <tr>\n",
       "      <th>110103195807011008</th>\n",
       "      <td>56.0</td>\n",
       "      <td>670.714286</td>\n",
       "      <td>746.941198</td>\n",
       "      <td>0.0</td>\n",
       "      <td>89.00</td>\n",
       "      <td>268.5</td>\n",
       "      <td>1209.75</td>\n",
       "      <td>2343.0</td>\n",
       "    </tr>\n",
       "    <tr>\n",
       "      <th>110105196708252992</th>\n",
       "      <td>50.0</td>\n",
       "      <td>662.000000</td>\n",
       "      <td>397.694068</td>\n",
       "      <td>40.0</td>\n",
       "      <td>269.50</td>\n",
       "      <td>738.0</td>\n",
       "      <td>964.00</td>\n",
       "      <td>1241.0</td>\n",
       "    </tr>\n",
       "    <tr>\n",
       "      <th>110108195508280000</th>\n",
       "      <td>45.0</td>\n",
       "      <td>580.288889</td>\n",
       "      <td>408.452268</td>\n",
       "      <td>0.0</td>\n",
       "      <td>300.00</td>\n",
       "      <td>499.0</td>\n",
       "      <td>796.00</td>\n",
       "      <td>1408.0</td>\n",
       "    </tr>\n",
       "    <tr>\n",
       "      <th>110222199103150000</th>\n",
       "      <td>426.0</td>\n",
       "      <td>175.469484</td>\n",
       "      <td>132.810773</td>\n",
       "      <td>19.0</td>\n",
       "      <td>154.00</td>\n",
       "      <td>154.0</td>\n",
       "      <td>154.00</td>\n",
       "      <td>2420.0</td>\n",
       "    </tr>\n",
       "    <tr>\n",
       "      <th>110224198701275008</th>\n",
       "      <td>457.0</td>\n",
       "      <td>226.719912</td>\n",
       "      <td>267.501755</td>\n",
       "      <td>20.0</td>\n",
       "      <td>154.00</td>\n",
       "      <td>154.0</td>\n",
       "      <td>154.00</td>\n",
       "      <td>1691.0</td>\n",
       "    </tr>\n",
       "    <tr>\n",
       "      <th>...</th>\n",
       "      <td>...</td>\n",
       "      <td>...</td>\n",
       "      <td>...</td>\n",
       "      <td>...</td>\n",
       "      <td>...</td>\n",
       "      <td>...</td>\n",
       "      <td>...</td>\n",
       "      <td>...</td>\n",
       "    </tr>\n",
       "    <tr>\n",
       "      <th>65312419920615332X</th>\n",
       "      <td>43.0</td>\n",
       "      <td>281.395349</td>\n",
       "      <td>273.697708</td>\n",
       "      <td>0.0</td>\n",
       "      <td>6.00</td>\n",
       "      <td>266.0</td>\n",
       "      <td>426.00</td>\n",
       "      <td>1428.0</td>\n",
       "    </tr>\n",
       "    <tr>\n",
       "      <th>65412119900226066X</th>\n",
       "      <td>614.0</td>\n",
       "      <td>132.724756</td>\n",
       "      <td>141.314434</td>\n",
       "      <td>0.0</td>\n",
       "      <td>65.00</td>\n",
       "      <td>123.0</td>\n",
       "      <td>140.00</td>\n",
       "      <td>1537.0</td>\n",
       "    </tr>\n",
       "    <tr>\n",
       "      <th>65412319911204248X</th>\n",
       "      <td>56.0</td>\n",
       "      <td>331.625000</td>\n",
       "      <td>237.186659</td>\n",
       "      <td>3.0</td>\n",
       "      <td>138.75</td>\n",
       "      <td>299.0</td>\n",
       "      <td>472.75</td>\n",
       "      <td>946.0</td>\n",
       "    </tr>\n",
       "    <tr>\n",
       "      <th>65420119940522003X</th>\n",
       "      <td>41.0</td>\n",
       "      <td>403.975610</td>\n",
       "      <td>359.110323</td>\n",
       "      <td>14.0</td>\n",
       "      <td>117.00</td>\n",
       "      <td>277.0</td>\n",
       "      <td>694.00</td>\n",
       "      <td>1132.0</td>\n",
       "    </tr>\n",
       "    <tr>\n",
       "      <th>65432419920413002X</th>\n",
       "      <td>405.0</td>\n",
       "      <td>188.558025</td>\n",
       "      <td>160.842783</td>\n",
       "      <td>6.0</td>\n",
       "      <td>154.00</td>\n",
       "      <td>154.0</td>\n",
       "      <td>154.00</td>\n",
       "      <td>1961.0</td>\n",
       "    </tr>\n",
       "  </tbody>\n",
       "</table>\n",
       "<p>11076 rows × 8 columns</p>\n",
       "</div>"
      ],
      "text/plain": [
       "                    count        mean         std   min     25%    50%  \\\n",
       "PPID                                                                     \n",
       "110103195807011008   56.0  670.714286  746.941198   0.0   89.00  268.5   \n",
       "110105196708252992   50.0  662.000000  397.694068  40.0  269.50  738.0   \n",
       "110108195508280000   45.0  580.288889  408.452268   0.0  300.00  499.0   \n",
       "110222199103150000  426.0  175.469484  132.810773  19.0  154.00  154.0   \n",
       "110224198701275008  457.0  226.719912  267.501755  20.0  154.00  154.0   \n",
       "...                   ...         ...         ...   ...     ...    ...   \n",
       "65312419920615332X   43.0  281.395349  273.697708   0.0    6.00  266.0   \n",
       "65412119900226066X  614.0  132.724756  141.314434   0.0   65.00  123.0   \n",
       "65412319911204248X   56.0  331.625000  237.186659   3.0  138.75  299.0   \n",
       "65420119940522003X   41.0  403.975610  359.110323  14.0  117.00  277.0   \n",
       "65432419920413002X  405.0  188.558025  160.842783   6.0  154.00  154.0   \n",
       "\n",
       "                        75%     max  \n",
       "PPID                                 \n",
       "110103195807011008  1209.75  2343.0  \n",
       "110105196708252992   964.00  1241.0  \n",
       "110108195508280000   796.00  1408.0  \n",
       "110222199103150000   154.00  2420.0  \n",
       "110224198701275008   154.00  1691.0  \n",
       "...                     ...     ...  \n",
       "65312419920615332X   426.00  1428.0  \n",
       "65412119900226066X   140.00  1537.0  \n",
       "65412319911204248X   472.75   946.0  \n",
       "65420119940522003X   694.00  1132.0  \n",
       "65432419920413002X   154.00  1961.0  \n",
       "\n",
       "[11076 rows x 8 columns]"
      ]
     },
     "execution_count": 7,
     "metadata": {},
     "output_type": "execute_result"
    }
   ],
   "source": [
    "df.groupby('PPID')['TRAVEL_LENGTH'].describe()"
   ]
  },
  {
   "cell_type": "code",
   "execution_count": 8,
   "metadata": {},
   "outputs": [
    {
     "data": {
      "text/plain": [
       "Timedelta('361 days 23:57:00')"
      ]
     },
     "execution_count": 8,
     "metadata": {},
     "output_type": "execute_result"
    }
   ],
   "source": [
    "df['BOARD_TIME'].max() - df['BOARD_TIME'].min()"
   ]
  },
  {
   "cell_type": "markdown",
   "metadata": {},
   "source": [
    "数据为11076名乘客一年内的购票记录"
   ]
  },
  {
   "cell_type": "code",
   "execution_count": 10,
   "metadata": {},
   "outputs": [
    {
     "data": {
      "text/plain": [
       "(0.0, 231.357]          612835\n",
       "(231.357, 462.714]      150576\n",
       "(462.714, 694.071]       80667\n",
       "(694.071, 925.429]       66871\n",
       "(925.429, 1156.786]      36337\n",
       "(1156.786, 1388.143]     16334\n",
       "(1388.143, 1619.5]        6944\n",
       "(1619.5, 1850.857]        4255\n",
       "(2082.214, 2313.571]      2428\n",
       "(1850.857, 2082.214]      1960\n",
       "(3007.643, 3239.0]         577\n",
       "(2313.571, 2544.929]       526\n",
       "(2776.286, 3007.643]       203\n",
       "(2544.929, 2776.286]       132\n",
       "Name: TRAVEL_LENGTH, dtype: int64"
      ]
     },
     "execution_count": 10,
     "metadata": {},
     "output_type": "execute_result"
    }
   ],
   "source": [
    "bins = np.linspace(df['TRAVEL_LENGTH'].min(), df['TRAVEL_LENGTH'].max(), 15)\n",
    "travel_length_cat = pd.cut(df['TRAVEL_LENGTH'], bins)\n",
    "travel_length_cat.value_counts().plot(kind='bar')"
   ]
  },
  {
   "cell_type": "markdown",
   "metadata": {},
   "source": [
    "- 出发站、到达站的填充：可以用列车编号、到达站（出发站）、运行时间完全相同的数据来填充\n",
    "- 百度地图API转经纬度\n",
    "- DBSCAN Isolation Forest"
   ]
  },
  {
   "cell_type": "markdown",
   "metadata": {},
   "source": [
    "- 乘车时间间隔（设置阈值划分长途和短途）\n",
    "- 乘车频率（可以按月统计）\n",
    "- Num of boarding stations（可以看最常去的所占的比例）\n",
    "- 夜间乘车次数\n",
    "- 座位种类"
   ]
  },
  {
   "cell_type": "code",
   "execution_count": null,
   "metadata": {},
   "outputs": [],
   "source": []
  },
  {
   "cell_type": "code",
   "execution_count": null,
   "metadata": {},
   "outputs": [],
   "source": []
  },
  {
   "cell_type": "code",
   "execution_count": 1,
   "metadata": {},
   "outputs": [],
   "source": [
    "import numpy as np \n",
    "import pandas as pd\n",
    "import matplotlib.pyplot as plt \n",
    "import seaborn as sns \n",
    "import xlrd\n",
    "import time"
   ]
  },
  {
   "cell_type": "code",
   "execution_count": 18,
   "metadata": {},
   "outputs": [],
   "source": [
    "# start processing\n",
    "# df = pd.read_excel('./PASSENGER_RECORD.xlsx')\n",
    "# # convert .xlsx file to .csv file for easy loading. Simply use MS Excel 'save as' function. \n",
    "df = pd.read_csv('./PASSENGER_RECORD.csv')"
   ]
  },
  {
   "cell_type": "code",
   "execution_count": null,
   "metadata": {},
   "outputs": [],
   "source": [
    "# ['PR_ID', 'PPID'1, 'TRAIN_TYPE'1, 'TRAIN_CODE'1, 'BOARD_DATE', 'BOARD_TIME',\n",
    "#        'ARRIVAL_DATE', 'ARRIVAL_TIME', 'START_STA'1, 'ARRIVAL_STA'1,\n",
    "#        'TRAVEL_TIME', 'TRAVEL_LENGTH', 'SEAT_TYPE'1, 'COACH_NO', 'SEAT_NO',\n",
    "#        'BUYYER_PID'1]"
   ]
  },
  {
   "cell_type": "markdown",
   "metadata": {},
   "source": [
    "# Simple token features we use in our project are:\n",
    "1. Passenger. PPID\n",
    "    - Format: a integer indicates passenger id\n",
    "2. Buyyer. BUYYER_PID\n",
    "    - Format: a integer indicates buyyer id\n",
    "3. Start Stations.  START_STA\n",
    "    - Format: a integer indicates No. of Start Station\n",
    "4. Arrival Stations.  ARRIVAL_STA\n",
    "    - Format: a integer indicates No. of Arrival Station\n",
    "5. Train Code. TRAIN_CODE\n",
    "    - Format: a integer\n",
    "6. Train Type. TRAIN_TYPE\n",
    "    - Format: a integer\n",
    "7. Seat type. SEAT_TYPE\n",
    "    - Format: a integer \n"
   ]
  },
  {
   "cell_type": "code",
   "execution_count": 3,
   "metadata": {},
   "outputs": [],
   "source": [
    "simple_feature2idx = {'PPID':{},\n",
    "                      'BUYYER_PID':{}, \n",
    "                      'START_STA':{}, \n",
    "                      'ARRIVAL_STA':{}, \n",
    "                      'TRAIN_CODE':{}, \n",
    "                      'TRAIN_TYPE':{}, \n",
    "                      'SEAT_TYPE':{}}"
   ]
  },
  {
   "cell_type": "code",
   "execution_count": 4,
   "metadata": {
    "scrolled": true
   },
   "outputs": [
    {
     "name": "stdout",
     "output_type": "stream",
     "text": [
      "processing: PPID\n",
      "processing: BUYYER_PID\n",
      "processing: START_STA\n",
      "processing: ARRIVAL_STA\n",
      "processing: TRAIN_CODE\n",
      "processing: TRAIN_TYPE\n",
      "processing: SEAT_TYPE\n"
     ]
    }
   ],
   "source": [
    "# set look-up table\n",
    "for feature in simple_feature2idx.keys():\n",
    "    print(\"processing: {}\".format(feature))\n",
    "    df[feature] = df[feature].apply(str)\n",
    "    for value in df[feature].apply(str).tolist():\n",
    "        if value not in simple_feature2idx[feature]:\n",
    "            simple_feature2idx[feature][value] = len(simple_feature2idx[feature])"
   ]
  },
  {
   "cell_type": "code",
   "execution_count": 5,
   "metadata": {},
   "outputs": [],
   "source": [
    "def tokenize_feature(all_features, feature2idx):\n",
    "    index_list = [feature2idx[feat] for feat in all_features] \n",
    "    feature_vector = np.array(index_list)\n",
    "    print(feature_vector.shape)\n",
    "    return feature_vector"
   ]
  },
  {
   "cell_type": "code",
   "execution_count": 6,
   "metadata": {},
   "outputs": [
    {
     "name": "stdout",
     "output_type": "stream",
     "text": [
      "(985759,)\n",
      "(985759,)\n",
      "(985759,)\n",
      "(985759,)\n",
      "(985759,)\n",
      "(985759,)\n",
      "(985759,)\n"
     ]
    }
   ],
   "source": [
    "# set look-up table\n",
    "simple_feature_vectors = {}\n",
    "for feature in simple_feature2idx.keys():\n",
    "    simple_feature_vectors[feature] = tokenize_feature(df[feature].apply(str).tolist(), simple_feature2idx[feature])"
   ]
  },
  {
   "cell_type": "markdown",
   "metadata": {},
   "source": [
    "# Simple digit features we use in our project are:\n",
    "1. Tranvel Time. TRAVEL_TIME\n",
    "    - Format: a integer represent hours   \n",
    "1. Tranvel Length. TRAVEL_LENGTH\n",
    "    - Format: a integer represent distances   \n",
    "3. Board Date.  BOARD_DATE\n",
    "    - Format: a integer represent num of days after 2012/01/01 when boarding. 比如2012年1月2号就是1，2月15日就是30+15=45\n",
    "4. Board Time. BOARD_TIME\n",
    "    - Format: a interger represent num minutes from 0:0:0. 比如当日4点15分就是4*60+15=255\n",
    "5. Arrival Date.  ARRIVAL_DATE\n",
    "    - Format: a integer represent num of days after 2012/01/01 when boarding. 比如2012年1月2号就是1，2月15日就是30+15=45\n",
    "6. Arrival Time.  ARRIVAL_TIME\n",
    "    - Format: a interger represent num minutes from 0:0:0. 比如当日4点15分就是4*60+15=255\n",
    "7. Seat Number.  SEAT_NO\n",
    "    - Format: a integer \n",
    "8. Coach Number.  COACH_NO\n",
    "    - Format: a integer \n"
   ]
  },
  {
   "cell_type": "code",
   "execution_count": 7,
   "metadata": {},
   "outputs": [],
   "source": [
    "digit_feature2idx = {'TRAVEL_TIME':{},\n",
    "                     'TRAVEL_LENGTH':{},\n",
    "                     'BOARD_DATE':{}, \n",
    "                     'BOARD_TIME':{}, \n",
    "                     'ARRIVAL_DATE':{}, \n",
    "                     'ARRIVAL_TIME':{}, \n",
    "                     'SEAT_NO':{}, \n",
    "                     'COACH_NO':{}}"
   ]
  },
  {
   "cell_type": "code",
   "execution_count": 8,
   "metadata": {},
   "outputs": [
    {
     "name": "stdout",
     "output_type": "stream",
     "text": [
      "TRAVEL_LENGTH\t(985759,)\n",
      "SEAT_NO\t(985759,)\n",
      "COACH_NO\t(985759,)\n"
     ]
    }
   ],
   "source": [
    "digit_feature_vectors = {}\n",
    "for feature in digit_feature2idx.keys():\n",
    "    if feature in ['TRAVEL_LENGTH', 'SEAT_NO', 'COACH_NO']:\n",
    "        index_list = df[feature].apply(int).tolist()\n",
    "        feature_vector = np.array(index_list)\n",
    "        print(\"{}\\t{}\".format(feature, feature_vector.shape))\n",
    "        digit_feature_vectors[feature] = feature_vector"
   ]
  },
  {
   "cell_type": "code",
   "execution_count": 9,
   "metadata": {},
   "outputs": [
    {
     "name": "stdout",
     "output_type": "stream",
     "text": [
      "TRAVEL_TIME\t(985759,)\n"
     ]
    }
   ],
   "source": [
    "feature_vector = np.array([int(item.split(':')[0]) for item in df['TRAVEL_TIME'].apply(str).tolist()])\n",
    "print(\"{}\\t{}\".format('TRAVEL_TIME', feature_vector.shape))\n",
    "digit_feature_vectors['TRAVEL_TIME'] = feature_vector"
   ]
  },
  {
   "cell_type": "code",
   "execution_count": 10,
   "metadata": {
    "scrolled": true
   },
   "outputs": [
    {
     "name": "stderr",
     "output_type": "stream",
     "text": [
      "/usr/local/lib/python3.6/dist-packages/ipykernel_launcher.py:4: SettingWithCopyWarning: \n",
      "A value is trying to be set on a copy of a slice from a DataFrame\n",
      "\n",
      "See the caveats in the documentation: http://pandas.pydata.org/pandas-docs/stable/indexing.html#indexing-view-versus-copy\n",
      "  after removing the cwd from sys.path.\n"
     ]
    },
    {
     "name": "stdout",
     "output_type": "stream",
     "text": [
      "BOARD_DATE\t(985759,)\n",
      "BOARD_TIME\t(985759,)\n",
      "ARRIVAL_DATE\t(985759,)\n",
      "ARRIVAL_TIME\t(985759,)\n"
     ]
    }
   ],
   "source": [
    "board_times = pd.to_datetime((df['BOARD_DATE'] +' ' + df['BOARD_TIME'].apply(str)), format='%m/%d/%Y %H:%M:%S')\n",
    "for row_idx, item in enumerate(df['ARRIVAL_TIME'].apply(str).tolist()):\n",
    "    if item[:2]=='25' or item[:2]=='24':\n",
    "        df['ARRIVAL_TIME'][row_idx] = '23'+item[2:]\n",
    "arrival_times = pd.to_datetime((df['ARRIVAL_DATE'] +' ' + df['ARRIVAL_TIME'].apply(str)), format='%m/%d/%Y %H:%M:%S')\n",
    "initial_timestamp = pd.Timestamp('2012-01-01T00')  # Timestamp('2012-01-01 00:00:00')\n",
    "\n",
    "feature_vector = np.array((board_times - initial_timestamp).astype('timedelta64[D]').tolist())\n",
    "print(\"{}\\t{}\".format('BOARD_DATE', feature_vector.shape))\n",
    "digit_feature_vectors['BOARD_DATE'] = feature_vector\n",
    "\n",
    "feature_vector = np.array([h*60+m for h, m in zip(board_times.dt.hour.tolist(), board_times.dt.minute.tolist())])\n",
    "print(\"{}\\t{}\".format('BOARD_TIME', feature_vector.shape))\n",
    "digit_feature_vectors['BOARD_TIME'] = feature_vector\n",
    "\n",
    "feature_vector = np.array((arrival_times - initial_timestamp).astype('timedelta64[D]').tolist())\n",
    "print(\"{}\\t{}\".format('ARRIVAL_DATE', feature_vector.shape))\n",
    "digit_feature_vectors['ARRIVAL_DATE'] = feature_vector\n",
    "\n",
    "feature_vector = np.array([h*60+m for h, m in zip(arrival_times.dt.hour.tolist(), arrival_times.dt.minute.tolist())])\n",
    "print(\"{}\\t{}\".format('ARRIVAL_TIME', feature_vector.shape))\n",
    "digit_feature_vectors['ARRIVAL_TIME'] = feature_vector\n"
   ]
  },
  {
   "cell_type": "code",
   "execution_count": null,
   "metadata": {},
   "outputs": [],
   "source": []
  },
  {
   "cell_type": "code",
   "execution_count": null,
   "metadata": {},
   "outputs": [],
   "source": []
  },
  {
   "cell_type": "markdown",
   "metadata": {},
   "source": [
    "# Advanced features we use in our project are \n",
    "6. Buyyer is the same with Passenger? BUYYER_PID/PPID  new: SAME_PERSON  \n",
    "    - Format: a integer 1 or 0"
   ]
  },
  {
   "cell_type": "code",
   "execution_count": 12,
   "metadata": {},
   "outputs": [],
   "source": [
    "advanced_feature_vectors = {}\n"
   ]
  },
  {
   "cell_type": "code",
   "execution_count": 16,
   "metadata": {},
   "outputs": [
    {
     "name": "stdout",
     "output_type": "stream",
     "text": [
      "(15, 985759)\n"
     ]
    }
   ],
   "source": [
    "all_feature_vectors = np.stack(list(simple_feature_vectors.values()) + \n",
    "                               list(digit_feature_vectors.values()) + \n",
    "                               list(advanced_feature_vectors.values()), axis=0)\n",
    "print(all_feature_vectors.shape)"
   ]
  },
  {
   "cell_type": "code",
   "execution_count": null,
   "metadata": {},
   "outputs": [],
   "source": []
  }
 ],
 "metadata": {
  "kernelspec": {
   "display_name": "Python 3",
   "language": "python",
   "name": "python3"
  },
  "language_info": {
   "codemirror_mode": {
    "name": "ipython",
    "version": 3
   },
   "file_extension": ".py",
   "mimetype": "text/x-python",
   "name": "python",
   "nbconvert_exporter": "python",
   "pygments_lexer": "ipython3",
   "version": "3.6.7"
  }
 },
 "nbformat": 4,
 "nbformat_minor": 2
}
