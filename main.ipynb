{
 "cells": [
  {
   "cell_type": "code",
   "execution_count": 1,
   "metadata": {},
   "outputs": [],
   "source": [
    "import numpy as np \n",
    "import pandas as pd\n",
    "import matplotlib.pyplot as plt \n",
    "import seaborn as sns \n",
    "import xlrd\n",
    "import time"
   ]
  },
  {
   "cell_type": "code",
   "execution_count": 2,
   "metadata": {},
   "outputs": [],
   "source": [
    "import csv\n",
    "def csv_reader(path):\n",
    "    with open(path, 'r', encoding='utf-8') as fp:\n",
    "        reader = csv.reader(fp)\n",
    "        data = [i for i in reader]\n",
    "    return data\n",
    "def csv_writer(path, header, data):\n",
    "    with open(path, 'w', encoding='utf-8', newline=\"\") as csvfile:\n",
    "        writer = csv.writer(csvfile, delimiter=',')\n",
    "        writer.writerow(header)\n",
    "        writer.writerows(data)"
   ]
  },
  {
   "cell_type": "code",
   "execution_count": 3,
   "metadata": {},
   "outputs": [],
   "source": [
    "# start processing\n",
    "# df = pd.read_excel('./PASSENGER_RECORD.xlsx')\n",
    "# # convert .xlsx file to .csv file for easy loading. Simply use MS Excel 'save as' function. \n",
    "df = pd.read_csv('./data/PASSENGER_RECORD.csv')"
   ]
  },
  {
   "cell_type": "code",
   "execution_count": 4,
   "metadata": {
    "scrolled": true
   },
   "outputs": [
    {
     "output_type": "execute_result",
     "data": {
      "text/plain": [
       "Index(['PR_ID', 'PPID', 'TRAIN_TYPE', 'TRAIN_CODE', 'BOARD_DATE', 'BOARD_TIME',\n",
       "       'ARRIVAL_DATE', 'ARRIVAL_TIME', 'START_STA', 'ARRIVAL_STA',\n",
       "       'TRAVEL_TIME', 'TRAVEL_LENGTH', 'SEAT_TYPE', 'COACH_NO', 'SEAT_NO',\n",
       "       'BUYYER_PID'],\n",
       "      dtype='object')"
      ]
     },
     "metadata": {},
     "execution_count": 4
    }
   ],
   "source": [
    "df.columns"
   ]
  },
  {
   "cell_type": "markdown",
   "metadata": {},
   "source": [
    "BOARD_DATE、BOARD_TIME日期和时间是分离的，把它们合并到同一列上，ARRIVAL同理"
   ]
  },
  {
   "cell_type": "code",
   "execution_count": 5,
   "metadata": {},
   "outputs": [],
   "source": [
    "# this code is not compatible  with the csv reader\n",
    "# df['BOARD_TIME'] = df['BOARD_DATE'] + df['BOARD_TIME'].apply(str).apply(pd.Timedelta)\n",
    "# df = df.drop(['BOARD_DATE'], axis=1)\n",
    "# df['BOARD_TIME']"
   ]
  },
  {
   "cell_type": "code",
   "execution_count": 6,
   "metadata": {},
   "outputs": [],
   "source": [
    "# # this code is not complatible with csv reader\n",
    "# # ARRIVAL虽然看上去和BOARD一样，但实际上读取到的类型是datetime.time，所以做一个特殊的parser来处理，不能直接apply(str)\n",
    "# parser = lambda time : time.strftime('%H:%M:%S')\n",
    "# df['ARRIVAL_TIME'] = df['ARRIVAL_DATE'] + df['ARRIVAL_TIME'].apply(parser).apply(pd.Timedelta)\n",
    "# df = df.drop(['ARRIVAL_DATE'], axis=1)\n",
    "# df['ARRIVAL_TIME']"
   ]
  },
  {
   "cell_type": "code",
   "execution_count": 7,
   "metadata": {},
   "outputs": [],
   "source": [
    "# df['BOARD_TIME'].max() - df['BOARD_TIME'].min()"
   ]
  },
  {
   "cell_type": "markdown",
   "metadata": {},
   "source": [
    "数据为11076名乘客一年内的购票记录"
   ]
  },
  {
   "cell_type": "code",
   "execution_count": 8,
   "metadata": {},
   "outputs": [
    {
     "output_type": "execute_result",
     "data": {
      "text/plain": [
       "                    count        mean         std   min     25%    50%  \\\n",
       "PPID                                                                     \n",
       "1.10103E+17          56.0  670.714286  746.941198   0.0   89.00  268.5   \n",
       "1.10105E+17          50.0  662.000000  397.694068  40.0  269.50  738.0   \n",
       "1.10108E+17          45.0  580.288889  408.452268   0.0  300.00  499.0   \n",
       "1.10222E+17         426.0  175.469484  132.810773  19.0  154.00  154.0   \n",
       "1.10224E+17         497.0  240.557344  269.112357  13.0  154.00  154.0   \n",
       "...                   ...         ...         ...   ...     ...    ...   \n",
       "65312419920615332X   43.0  281.395349  273.697708   0.0    6.00  266.0   \n",
       "65412119900226066X  614.0  132.724756  141.314434   0.0   65.00  123.0   \n",
       "65412319911204248X   56.0  331.625000  237.186659   3.0  138.75  299.0   \n",
       "65420119940522003X   41.0  403.975610  359.110323  14.0  117.00  277.0   \n",
       "65432419920413002X  405.0  188.558025  160.842783   6.0  154.00  154.0   \n",
       "\n",
       "                        75%     max  \n",
       "PPID                                 \n",
       "1.10103E+17         1209.75  2343.0  \n",
       "1.10105E+17          964.00  1241.0  \n",
       "1.10108E+17          796.00  1408.0  \n",
       "1.10222E+17          154.00  2420.0  \n",
       "1.10224E+17          154.00  1691.0  \n",
       "...                     ...     ...  \n",
       "65312419920615332X   426.00  1428.0  \n",
       "65412119900226066X   140.00  1537.0  \n",
       "65412319911204248X   472.75   946.0  \n",
       "65420119940522003X   694.00  1132.0  \n",
       "65432419920413002X   154.00  1961.0  \n",
       "\n",
       "[1903 rows x 8 columns]"
      ],
      "text/html": "<div>\n<style scoped>\n    .dataframe tbody tr th:only-of-type {\n        vertical-align: middle;\n    }\n\n    .dataframe tbody tr th {\n        vertical-align: top;\n    }\n\n    .dataframe thead th {\n        text-align: right;\n    }\n</style>\n<table border=\"1\" class=\"dataframe\">\n  <thead>\n    <tr style=\"text-align: right;\">\n      <th></th>\n      <th>count</th>\n      <th>mean</th>\n      <th>std</th>\n      <th>min</th>\n      <th>25%</th>\n      <th>50%</th>\n      <th>75%</th>\n      <th>max</th>\n    </tr>\n    <tr>\n      <th>PPID</th>\n      <th></th>\n      <th></th>\n      <th></th>\n      <th></th>\n      <th></th>\n      <th></th>\n      <th></th>\n      <th></th>\n    </tr>\n  </thead>\n  <tbody>\n    <tr>\n      <th>1.10103E+17</th>\n      <td>56.0</td>\n      <td>670.714286</td>\n      <td>746.941198</td>\n      <td>0.0</td>\n      <td>89.00</td>\n      <td>268.5</td>\n      <td>1209.75</td>\n      <td>2343.0</td>\n    </tr>\n    <tr>\n      <th>1.10105E+17</th>\n      <td>50.0</td>\n      <td>662.000000</td>\n      <td>397.694068</td>\n      <td>40.0</td>\n      <td>269.50</td>\n      <td>738.0</td>\n      <td>964.00</td>\n      <td>1241.0</td>\n    </tr>\n    <tr>\n      <th>1.10108E+17</th>\n      <td>45.0</td>\n      <td>580.288889</td>\n      <td>408.452268</td>\n      <td>0.0</td>\n      <td>300.00</td>\n      <td>499.0</td>\n      <td>796.00</td>\n      <td>1408.0</td>\n    </tr>\n    <tr>\n      <th>1.10222E+17</th>\n      <td>426.0</td>\n      <td>175.469484</td>\n      <td>132.810773</td>\n      <td>19.0</td>\n      <td>154.00</td>\n      <td>154.0</td>\n      <td>154.00</td>\n      <td>2420.0</td>\n    </tr>\n    <tr>\n      <th>1.10224E+17</th>\n      <td>497.0</td>\n      <td>240.557344</td>\n      <td>269.112357</td>\n      <td>13.0</td>\n      <td>154.00</td>\n      <td>154.0</td>\n      <td>154.00</td>\n      <td>1691.0</td>\n    </tr>\n    <tr>\n      <th>...</th>\n      <td>...</td>\n      <td>...</td>\n      <td>...</td>\n      <td>...</td>\n      <td>...</td>\n      <td>...</td>\n      <td>...</td>\n      <td>...</td>\n    </tr>\n    <tr>\n      <th>65312419920615332X</th>\n      <td>43.0</td>\n      <td>281.395349</td>\n      <td>273.697708</td>\n      <td>0.0</td>\n      <td>6.00</td>\n      <td>266.0</td>\n      <td>426.00</td>\n      <td>1428.0</td>\n    </tr>\n    <tr>\n      <th>65412119900226066X</th>\n      <td>614.0</td>\n      <td>132.724756</td>\n      <td>141.314434</td>\n      <td>0.0</td>\n      <td>65.00</td>\n      <td>123.0</td>\n      <td>140.00</td>\n      <td>1537.0</td>\n    </tr>\n    <tr>\n      <th>65412319911204248X</th>\n      <td>56.0</td>\n      <td>331.625000</td>\n      <td>237.186659</td>\n      <td>3.0</td>\n      <td>138.75</td>\n      <td>299.0</td>\n      <td>472.75</td>\n      <td>946.0</td>\n    </tr>\n    <tr>\n      <th>65420119940522003X</th>\n      <td>41.0</td>\n      <td>403.975610</td>\n      <td>359.110323</td>\n      <td>14.0</td>\n      <td>117.00</td>\n      <td>277.0</td>\n      <td>694.00</td>\n      <td>1132.0</td>\n    </tr>\n    <tr>\n      <th>65432419920413002X</th>\n      <td>405.0</td>\n      <td>188.558025</td>\n      <td>160.842783</td>\n      <td>6.0</td>\n      <td>154.00</td>\n      <td>154.0</td>\n      <td>154.00</td>\n      <td>1961.0</td>\n    </tr>\n  </tbody>\n</table>\n<p>1903 rows × 8 columns</p>\n</div>"
     },
     "metadata": {},
     "execution_count": 8
    }
   ],
   "source": [
    "df.groupby('PPID')['TRAVEL_LENGTH'].describe()"
   ]
  },
  {
   "cell_type": "code",
   "execution_count": 9,
   "metadata": {},
   "outputs": [
    {
     "output_type": "execute_result",
     "data": {
      "text/plain": [
       "<AxesSubplot:>"
      ]
     },
     "metadata": {},
     "execution_count": 9
    },
    {
     "output_type": "display_data",
     "data": {
      "text/plain": "<Figure size 432x288 with 1 Axes>",
      "image/svg+xml": "<?xml version=\"1.0\" encoding=\"utf-8\" standalone=\"no\"?>\r\n<!DOCTYPE svg PUBLIC \"-//W3C//DTD SVG 1.1//EN\"\r\n  \"http://www.w3.org/Graphics/SVG/1.1/DTD/svg11.dtd\">\r\n<svg height=\"348.430625pt\" version=\"1.1\" viewBox=\"0 0 394.375 348.430625\" width=\"394.375pt\" xmlns=\"http://www.w3.org/2000/svg\" xmlns:xlink=\"http://www.w3.org/1999/xlink\">\r\n <metadata>\r\n  <rdf:RDF xmlns:cc=\"http://creativecommons.org/ns#\" xmlns:dc=\"http://purl.org/dc/elements/1.1/\" xmlns:rdf=\"http://www.w3.org/1999/02/22-rdf-syntax-ns#\">\r\n   <cc:Work>\r\n    <dc:type rdf:resource=\"http://purl.org/dc/dcmitype/StillImage\"/>\r\n    <dc:date>2021-06-05T17:24:53.720182</dc:date>\r\n    <dc:format>image/svg+xml</dc:format>\r\n    <dc:creator>\r\n     <cc:Agent>\r\n      <dc:title>Matplotlib v3.4.1, https://matplotlib.org/</dc:title>\r\n     </cc:Agent>\r\n    </dc:creator>\r\n   </cc:Work>\r\n  </rdf:RDF>\r\n </metadata>\r\n <defs>\r\n  <style type=\"text/css\">*{stroke-linecap:butt;stroke-linejoin:round;}</style>\r\n </defs>\r\n <g id=\"figure_1\">\r\n  <g id=\"patch_1\">\r\n   <path d=\"M 0 348.430625 \r\nL 394.375 348.430625 \r\nL 394.375 0 \r\nL 0 0 \r\nz\r\n\" style=\"fill:none;\"/>\r\n  </g>\r\n  <g id=\"axes_1\">\r\n   <g id=\"patch_2\">\r\n    <path d=\"M 52.375 224.64 \r\nL 387.175 224.64 \r\nL 387.175 7.2 \r\nL 52.375 7.2 \r\nz\r\n\" style=\"fill:#ffffff;\"/>\r\n   </g>\r\n   <g id=\"patch_3\">\r\n    <path clip-path=\"url(#pef3ed65bda)\" d=\"M 58.353571 224.64 \r\nL 70.310714 224.64 \r\nL 70.310714 17.554286 \r\nL 58.353571 17.554286 \r\nz\r\n\" style=\"fill:#1f77b4;\"/>\r\n   </g>\r\n   <g id=\"patch_4\">\r\n    <path clip-path=\"url(#pef3ed65bda)\" d=\"M 82.267857 224.64 \r\nL 94.225 224.64 \r\nL 94.225 173.758215 \r\nL 82.267857 173.758215 \r\nz\r\n\" style=\"fill:#1f77b4;\"/>\r\n   </g>\r\n   <g id=\"patch_5\">\r\n    <path clip-path=\"url(#pef3ed65bda)\" d=\"M 106.182143 224.64 \r\nL 118.139286 224.64 \r\nL 118.139286 197.381467 \r\nL 106.182143 197.381467 \r\nz\r\n\" style=\"fill:#1f77b4;\"/>\r\n   </g>\r\n   <g id=\"patch_6\">\r\n    <path clip-path=\"url(#pef3ed65bda)\" d=\"M 130.096429 224.64 \r\nL 142.053571 224.64 \r\nL 142.053571 202.043332 \r\nL 130.096429 202.043332 \r\nz\r\n\" style=\"fill:#1f77b4;\"/>\r\n   </g>\r\n   <g id=\"patch_7\">\r\n    <path clip-path=\"url(#pef3ed65bda)\" d=\"M 154.010714 224.64 \r\nL 165.967857 224.64 \r\nL 165.967857 212.361208 \r\nL 154.010714 212.361208 \r\nz\r\n\" style=\"fill:#1f77b4;\"/>\r\n   </g>\r\n   <g id=\"patch_8\">\r\n    <path clip-path=\"url(#pef3ed65bda)\" d=\"M 177.925 224.64 \r\nL 189.882143 224.64 \r\nL 189.882143 219.120508 \r\nL 177.925 219.120508 \r\nz\r\n\" style=\"fill:#1f77b4;\"/>\r\n   </g>\r\n   <g id=\"patch_9\">\r\n    <path clip-path=\"url(#pef3ed65bda)\" d=\"M 201.839286 224.64 \r\nL 213.796429 224.64 \r\nL 213.796429 222.293523 \r\nL 201.839286 222.293523 \r\nz\r\n\" style=\"fill:#1f77b4;\"/>\r\n   </g>\r\n   <g id=\"patch_10\">\r\n    <path clip-path=\"url(#pef3ed65bda)\" d=\"M 225.753571 224.64 \r\nL 237.710714 224.64 \r\nL 237.710714 223.202175 \r\nL 225.753571 223.202175 \r\nz\r\n\" style=\"fill:#1f77b4;\"/>\r\n   </g>\r\n   <g id=\"patch_11\">\r\n    <path clip-path=\"url(#pef3ed65bda)\" d=\"M 249.667857 224.64 \r\nL 261.625 224.64 \r\nL 261.625 223.819544 \r\nL 249.667857 223.819544 \r\nz\r\n\" style=\"fill:#1f77b4;\"/>\r\n   </g>\r\n   <g id=\"patch_12\">\r\n    <path clip-path=\"url(#pef3ed65bda)\" d=\"M 273.582143 224.64 \r\nL 285.539286 224.64 \r\nL 285.539286 223.977688 \r\nL 273.582143 223.977688 \r\nz\r\n\" style=\"fill:#1f77b4;\"/>\r\n   </g>\r\n   <g id=\"patch_13\">\r\n    <path clip-path=\"url(#pef3ed65bda)\" d=\"M 297.496429 224.64 \r\nL 309.453571 224.64 \r\nL 309.453571 224.445023 \r\nL 297.496429 224.445023 \r\nz\r\n\" style=\"fill:#1f77b4;\"/>\r\n   </g>\r\n   <g id=\"patch_14\">\r\n    <path clip-path=\"url(#pef3ed65bda)\" d=\"M 321.410714 224.64 \r\nL 333.367857 224.64 \r\nL 333.367857 224.462257 \r\nL 321.410714 224.462257 \r\nz\r\n\" style=\"fill:#1f77b4;\"/>\r\n   </g>\r\n   <g id=\"patch_15\">\r\n    <path clip-path=\"url(#pef3ed65bda)\" d=\"M 345.325 224.64 \r\nL 357.282143 224.64 \r\nL 357.282143 224.571403 \r\nL 345.325 224.571403 \r\nz\r\n\" style=\"fill:#1f77b4;\"/>\r\n   </g>\r\n   <g id=\"patch_16\">\r\n    <path clip-path=\"url(#pef3ed65bda)\" d=\"M 369.239286 224.64 \r\nL 381.196429 224.64 \r\nL 381.196429 224.595395 \r\nL 369.239286 224.595395 \r\nz\r\n\" style=\"fill:#1f77b4;\"/>\r\n   </g>\r\n   <g id=\"matplotlib.axis_1\">\r\n    <g id=\"xtick_1\">\r\n     <g id=\"line2d_1\">\r\n      <defs>\r\n       <path d=\"M 0 0 \r\nL 0 3.5 \r\n\" id=\"mf25c1a6574\" style=\"stroke:#000000;stroke-width:0.8;\"/>\r\n      </defs>\r\n      <g>\r\n       <use style=\"stroke:#000000;stroke-width:0.8;\" x=\"64.332143\" xlink:href=\"#mf25c1a6574\" y=\"224.64\"/>\r\n      </g>\r\n     </g>\r\n     <g id=\"text_1\">\r\n      <!-- (0.0, 231.357] -->\r\n      <g transform=\"translate(67.091518 303.055625)rotate(-90)scale(0.1 -0.1)\">\r\n       <defs>\r\n        <path d=\"M 1984 4856 \r\nQ 1566 4138 1362 3434 \r\nQ 1159 2731 1159 2009 \r\nQ 1159 1288 1364 580 \r\nQ 1569 -128 1984 -844 \r\nL 1484 -844 \r\nQ 1016 -109 783 600 \r\nQ 550 1309 550 2009 \r\nQ 550 2706 781 3412 \r\nQ 1013 4119 1484 4856 \r\nL 1984 4856 \r\nz\r\n\" id=\"DejaVuSans-28\" transform=\"scale(0.015625)\"/>\r\n        <path d=\"M 2034 4250 \r\nQ 1547 4250 1301 3770 \r\nQ 1056 3291 1056 2328 \r\nQ 1056 1369 1301 889 \r\nQ 1547 409 2034 409 \r\nQ 2525 409 2770 889 \r\nQ 3016 1369 3016 2328 \r\nQ 3016 3291 2770 3770 \r\nQ 2525 4250 2034 4250 \r\nz\r\nM 2034 4750 \r\nQ 2819 4750 3233 4129 \r\nQ 3647 3509 3647 2328 \r\nQ 3647 1150 3233 529 \r\nQ 2819 -91 2034 -91 \r\nQ 1250 -91 836 529 \r\nQ 422 1150 422 2328 \r\nQ 422 3509 836 4129 \r\nQ 1250 4750 2034 4750 \r\nz\r\n\" id=\"DejaVuSans-30\" transform=\"scale(0.015625)\"/>\r\n        <path d=\"M 684 794 \r\nL 1344 794 \r\nL 1344 0 \r\nL 684 0 \r\nL 684 794 \r\nz\r\n\" id=\"DejaVuSans-2e\" transform=\"scale(0.015625)\"/>\r\n        <path d=\"M 750 794 \r\nL 1409 794 \r\nL 1409 256 \r\nL 897 -744 \r\nL 494 -744 \r\nL 750 256 \r\nL 750 794 \r\nz\r\n\" id=\"DejaVuSans-2c\" transform=\"scale(0.015625)\"/>\r\n        <path id=\"DejaVuSans-20\" transform=\"scale(0.015625)\"/>\r\n        <path d=\"M 1228 531 \r\nL 3431 531 \r\nL 3431 0 \r\nL 469 0 \r\nL 469 531 \r\nQ 828 903 1448 1529 \r\nQ 2069 2156 2228 2338 \r\nQ 2531 2678 2651 2914 \r\nQ 2772 3150 2772 3378 \r\nQ 2772 3750 2511 3984 \r\nQ 2250 4219 1831 4219 \r\nQ 1534 4219 1204 4116 \r\nQ 875 4013 500 3803 \r\nL 500 4441 \r\nQ 881 4594 1212 4672 \r\nQ 1544 4750 1819 4750 \r\nQ 2544 4750 2975 4387 \r\nQ 3406 4025 3406 3419 \r\nQ 3406 3131 3298 2873 \r\nQ 3191 2616 2906 2266 \r\nQ 2828 2175 2409 1742 \r\nQ 1991 1309 1228 531 \r\nz\r\n\" id=\"DejaVuSans-32\" transform=\"scale(0.015625)\"/>\r\n        <path d=\"M 2597 2516 \r\nQ 3050 2419 3304 2112 \r\nQ 3559 1806 3559 1356 \r\nQ 3559 666 3084 287 \r\nQ 2609 -91 1734 -91 \r\nQ 1441 -91 1130 -33 \r\nQ 819 25 488 141 \r\nL 488 750 \r\nQ 750 597 1062 519 \r\nQ 1375 441 1716 441 \r\nQ 2309 441 2620 675 \r\nQ 2931 909 2931 1356 \r\nQ 2931 1769 2642 2001 \r\nQ 2353 2234 1838 2234 \r\nL 1294 2234 \r\nL 1294 2753 \r\nL 1863 2753 \r\nQ 2328 2753 2575 2939 \r\nQ 2822 3125 2822 3475 \r\nQ 2822 3834 2567 4026 \r\nQ 2313 4219 1838 4219 \r\nQ 1578 4219 1281 4162 \r\nQ 984 4106 628 3988 \r\nL 628 4550 \r\nQ 988 4650 1302 4700 \r\nQ 1616 4750 1894 4750 \r\nQ 2613 4750 3031 4423 \r\nQ 3450 4097 3450 3541 \r\nQ 3450 3153 3228 2886 \r\nQ 3006 2619 2597 2516 \r\nz\r\n\" id=\"DejaVuSans-33\" transform=\"scale(0.015625)\"/>\r\n        <path d=\"M 794 531 \r\nL 1825 531 \r\nL 1825 4091 \r\nL 703 3866 \r\nL 703 4441 \r\nL 1819 4666 \r\nL 2450 4666 \r\nL 2450 531 \r\nL 3481 531 \r\nL 3481 0 \r\nL 794 0 \r\nL 794 531 \r\nz\r\n\" id=\"DejaVuSans-31\" transform=\"scale(0.015625)\"/>\r\n        <path d=\"M 691 4666 \r\nL 3169 4666 \r\nL 3169 4134 \r\nL 1269 4134 \r\nL 1269 2991 \r\nQ 1406 3038 1543 3061 \r\nQ 1681 3084 1819 3084 \r\nQ 2600 3084 3056 2656 \r\nQ 3513 2228 3513 1497 \r\nQ 3513 744 3044 326 \r\nQ 2575 -91 1722 -91 \r\nQ 1428 -91 1123 -41 \r\nQ 819 9 494 109 \r\nL 494 744 \r\nQ 775 591 1075 516 \r\nQ 1375 441 1709 441 \r\nQ 2250 441 2565 725 \r\nQ 2881 1009 2881 1497 \r\nQ 2881 1984 2565 2268 \r\nQ 2250 2553 1709 2553 \r\nQ 1456 2553 1204 2497 \r\nQ 953 2441 691 2322 \r\nL 691 4666 \r\nz\r\n\" id=\"DejaVuSans-35\" transform=\"scale(0.015625)\"/>\r\n        <path d=\"M 525 4666 \r\nL 3525 4666 \r\nL 3525 4397 \r\nL 1831 0 \r\nL 1172 0 \r\nL 2766 4134 \r\nL 525 4134 \r\nL 525 4666 \r\nz\r\n\" id=\"DejaVuSans-37\" transform=\"scale(0.015625)\"/>\r\n        <path d=\"M 1947 4863 \r\nL 1947 -844 \r\nL 622 -844 \r\nL 622 -397 \r\nL 1369 -397 \r\nL 1369 4416 \r\nL 622 4416 \r\nL 622 4863 \r\nL 1947 4863 \r\nz\r\n\" id=\"DejaVuSans-5d\" transform=\"scale(0.015625)\"/>\r\n       </defs>\r\n       <use xlink:href=\"#DejaVuSans-28\"/>\r\n       <use x=\"39.013672\" xlink:href=\"#DejaVuSans-30\"/>\r\n       <use x=\"102.636719\" xlink:href=\"#DejaVuSans-2e\"/>\r\n       <use x=\"134.423828\" xlink:href=\"#DejaVuSans-30\"/>\r\n       <use x=\"198.046875\" xlink:href=\"#DejaVuSans-2c\"/>\r\n       <use x=\"229.833984\" xlink:href=\"#DejaVuSans-20\"/>\r\n       <use x=\"261.621094\" xlink:href=\"#DejaVuSans-32\"/>\r\n       <use x=\"325.244141\" xlink:href=\"#DejaVuSans-33\"/>\r\n       <use x=\"388.867188\" xlink:href=\"#DejaVuSans-31\"/>\r\n       <use x=\"452.490234\" xlink:href=\"#DejaVuSans-2e\"/>\r\n       <use x=\"484.277344\" xlink:href=\"#DejaVuSans-33\"/>\r\n       <use x=\"547.900391\" xlink:href=\"#DejaVuSans-35\"/>\r\n       <use x=\"611.523438\" xlink:href=\"#DejaVuSans-37\"/>\r\n       <use x=\"675.146484\" xlink:href=\"#DejaVuSans-5d\"/>\r\n      </g>\r\n     </g>\r\n    </g>\r\n    <g id=\"xtick_2\">\r\n     <g id=\"line2d_2\">\r\n      <g>\r\n       <use style=\"stroke:#000000;stroke-width:0.8;\" x=\"88.246429\" xlink:href=\"#mf25c1a6574\" y=\"224.64\"/>\r\n      </g>\r\n     </g>\r\n     <g id=\"text_2\">\r\n      <!-- (231.357, 462.714] -->\r\n      <g transform=\"translate(91.005804 328.505625)rotate(-90)scale(0.1 -0.1)\">\r\n       <defs>\r\n        <path d=\"M 2419 4116 \r\nL 825 1625 \r\nL 2419 1625 \r\nL 2419 4116 \r\nz\r\nM 2253 4666 \r\nL 3047 4666 \r\nL 3047 1625 \r\nL 3713 1625 \r\nL 3713 1100 \r\nL 3047 1100 \r\nL 3047 0 \r\nL 2419 0 \r\nL 2419 1100 \r\nL 313 1100 \r\nL 313 1709 \r\nL 2253 4666 \r\nz\r\n\" id=\"DejaVuSans-34\" transform=\"scale(0.015625)\"/>\r\n        <path d=\"M 2113 2584 \r\nQ 1688 2584 1439 2293 \r\nQ 1191 2003 1191 1497 \r\nQ 1191 994 1439 701 \r\nQ 1688 409 2113 409 \r\nQ 2538 409 2786 701 \r\nQ 3034 994 3034 1497 \r\nQ 3034 2003 2786 2293 \r\nQ 2538 2584 2113 2584 \r\nz\r\nM 3366 4563 \r\nL 3366 3988 \r\nQ 3128 4100 2886 4159 \r\nQ 2644 4219 2406 4219 \r\nQ 1781 4219 1451 3797 \r\nQ 1122 3375 1075 2522 \r\nQ 1259 2794 1537 2939 \r\nQ 1816 3084 2150 3084 \r\nQ 2853 3084 3261 2657 \r\nQ 3669 2231 3669 1497 \r\nQ 3669 778 3244 343 \r\nQ 2819 -91 2113 -91 \r\nQ 1303 -91 875 529 \r\nQ 447 1150 447 2328 \r\nQ 447 3434 972 4092 \r\nQ 1497 4750 2381 4750 \r\nQ 2619 4750 2861 4703 \r\nQ 3103 4656 3366 4563 \r\nz\r\n\" id=\"DejaVuSans-36\" transform=\"scale(0.015625)\"/>\r\n       </defs>\r\n       <use xlink:href=\"#DejaVuSans-28\"/>\r\n       <use x=\"39.013672\" xlink:href=\"#DejaVuSans-32\"/>\r\n       <use x=\"102.636719\" xlink:href=\"#DejaVuSans-33\"/>\r\n       <use x=\"166.259766\" xlink:href=\"#DejaVuSans-31\"/>\r\n       <use x=\"229.882812\" xlink:href=\"#DejaVuSans-2e\"/>\r\n       <use x=\"261.669922\" xlink:href=\"#DejaVuSans-33\"/>\r\n       <use x=\"325.292969\" xlink:href=\"#DejaVuSans-35\"/>\r\n       <use x=\"388.916016\" xlink:href=\"#DejaVuSans-37\"/>\r\n       <use x=\"452.539062\" xlink:href=\"#DejaVuSans-2c\"/>\r\n       <use x=\"484.326172\" xlink:href=\"#DejaVuSans-20\"/>\r\n       <use x=\"516.113281\" xlink:href=\"#DejaVuSans-34\"/>\r\n       <use x=\"579.736328\" xlink:href=\"#DejaVuSans-36\"/>\r\n       <use x=\"643.359375\" xlink:href=\"#DejaVuSans-32\"/>\r\n       <use x=\"706.982422\" xlink:href=\"#DejaVuSans-2e\"/>\r\n       <use x=\"738.769531\" xlink:href=\"#DejaVuSans-37\"/>\r\n       <use x=\"802.392578\" xlink:href=\"#DejaVuSans-31\"/>\r\n       <use x=\"866.015625\" xlink:href=\"#DejaVuSans-34\"/>\r\n       <use x=\"929.638672\" xlink:href=\"#DejaVuSans-5d\"/>\r\n      </g>\r\n     </g>\r\n    </g>\r\n    <g id=\"xtick_3\">\r\n     <g id=\"line2d_3\">\r\n      <g>\r\n       <use style=\"stroke:#000000;stroke-width:0.8;\" x=\"112.160714\" xlink:href=\"#mf25c1a6574\" y=\"224.64\"/>\r\n      </g>\r\n     </g>\r\n     <g id=\"text_3\">\r\n      <!-- (462.714, 694.071] -->\r\n      <g transform=\"translate(114.920089 328.505625)rotate(-90)scale(0.1 -0.1)\">\r\n       <defs>\r\n        <path d=\"M 703 97 \r\nL 703 672 \r\nQ 941 559 1184 500 \r\nQ 1428 441 1663 441 \r\nQ 2288 441 2617 861 \r\nQ 2947 1281 2994 2138 \r\nQ 2813 1869 2534 1725 \r\nQ 2256 1581 1919 1581 \r\nQ 1219 1581 811 2004 \r\nQ 403 2428 403 3163 \r\nQ 403 3881 828 4315 \r\nQ 1253 4750 1959 4750 \r\nQ 2769 4750 3195 4129 \r\nQ 3622 3509 3622 2328 \r\nQ 3622 1225 3098 567 \r\nQ 2575 -91 1691 -91 \r\nQ 1453 -91 1209 -44 \r\nQ 966 3 703 97 \r\nz\r\nM 1959 2075 \r\nQ 2384 2075 2632 2365 \r\nQ 2881 2656 2881 3163 \r\nQ 2881 3666 2632 3958 \r\nQ 2384 4250 1959 4250 \r\nQ 1534 4250 1286 3958 \r\nQ 1038 3666 1038 3163 \r\nQ 1038 2656 1286 2365 \r\nQ 1534 2075 1959 2075 \r\nz\r\n\" id=\"DejaVuSans-39\" transform=\"scale(0.015625)\"/>\r\n       </defs>\r\n       <use xlink:href=\"#DejaVuSans-28\"/>\r\n       <use x=\"39.013672\" xlink:href=\"#DejaVuSans-34\"/>\r\n       <use x=\"102.636719\" xlink:href=\"#DejaVuSans-36\"/>\r\n       <use x=\"166.259766\" xlink:href=\"#DejaVuSans-32\"/>\r\n       <use x=\"229.882812\" xlink:href=\"#DejaVuSans-2e\"/>\r\n       <use x=\"261.669922\" xlink:href=\"#DejaVuSans-37\"/>\r\n       <use x=\"325.292969\" xlink:href=\"#DejaVuSans-31\"/>\r\n       <use x=\"388.916016\" xlink:href=\"#DejaVuSans-34\"/>\r\n       <use x=\"452.539062\" xlink:href=\"#DejaVuSans-2c\"/>\r\n       <use x=\"484.326172\" xlink:href=\"#DejaVuSans-20\"/>\r\n       <use x=\"516.113281\" xlink:href=\"#DejaVuSans-36\"/>\r\n       <use x=\"579.736328\" xlink:href=\"#DejaVuSans-39\"/>\r\n       <use x=\"643.359375\" xlink:href=\"#DejaVuSans-34\"/>\r\n       <use x=\"706.982422\" xlink:href=\"#DejaVuSans-2e\"/>\r\n       <use x=\"738.769531\" xlink:href=\"#DejaVuSans-30\"/>\r\n       <use x=\"802.392578\" xlink:href=\"#DejaVuSans-37\"/>\r\n       <use x=\"866.015625\" xlink:href=\"#DejaVuSans-31\"/>\r\n       <use x=\"929.638672\" xlink:href=\"#DejaVuSans-5d\"/>\r\n      </g>\r\n     </g>\r\n    </g>\r\n    <g id=\"xtick_4\">\r\n     <g id=\"line2d_4\">\r\n      <g>\r\n       <use style=\"stroke:#000000;stroke-width:0.8;\" x=\"136.075\" xlink:href=\"#mf25c1a6574\" y=\"224.64\"/>\r\n      </g>\r\n     </g>\r\n     <g id=\"text_4\">\r\n      <!-- (694.071, 925.429] -->\r\n      <g transform=\"translate(138.834375 328.505625)rotate(-90)scale(0.1 -0.1)\">\r\n       <use xlink:href=\"#DejaVuSans-28\"/>\r\n       <use x=\"39.013672\" xlink:href=\"#DejaVuSans-36\"/>\r\n       <use x=\"102.636719\" xlink:href=\"#DejaVuSans-39\"/>\r\n       <use x=\"166.259766\" xlink:href=\"#DejaVuSans-34\"/>\r\n       <use x=\"229.882812\" xlink:href=\"#DejaVuSans-2e\"/>\r\n       <use x=\"261.669922\" xlink:href=\"#DejaVuSans-30\"/>\r\n       <use x=\"325.292969\" xlink:href=\"#DejaVuSans-37\"/>\r\n       <use x=\"388.916016\" xlink:href=\"#DejaVuSans-31\"/>\r\n       <use x=\"452.539062\" xlink:href=\"#DejaVuSans-2c\"/>\r\n       <use x=\"484.326172\" xlink:href=\"#DejaVuSans-20\"/>\r\n       <use x=\"516.113281\" xlink:href=\"#DejaVuSans-39\"/>\r\n       <use x=\"579.736328\" xlink:href=\"#DejaVuSans-32\"/>\r\n       <use x=\"643.359375\" xlink:href=\"#DejaVuSans-35\"/>\r\n       <use x=\"706.982422\" xlink:href=\"#DejaVuSans-2e\"/>\r\n       <use x=\"738.769531\" xlink:href=\"#DejaVuSans-34\"/>\r\n       <use x=\"802.392578\" xlink:href=\"#DejaVuSans-32\"/>\r\n       <use x=\"866.015625\" xlink:href=\"#DejaVuSans-39\"/>\r\n       <use x=\"929.638672\" xlink:href=\"#DejaVuSans-5d\"/>\r\n      </g>\r\n     </g>\r\n    </g>\r\n    <g id=\"xtick_5\">\r\n     <g id=\"line2d_5\">\r\n      <g>\r\n       <use style=\"stroke:#000000;stroke-width:0.8;\" x=\"159.989286\" xlink:href=\"#mf25c1a6574\" y=\"224.64\"/>\r\n      </g>\r\n     </g>\r\n     <g id=\"text_5\">\r\n      <!-- (925.429, 1156.786] -->\r\n      <g transform=\"translate(162.748661 334.868125)rotate(-90)scale(0.1 -0.1)\">\r\n       <defs>\r\n        <path d=\"M 2034 2216 \r\nQ 1584 2216 1326 1975 \r\nQ 1069 1734 1069 1313 \r\nQ 1069 891 1326 650 \r\nQ 1584 409 2034 409 \r\nQ 2484 409 2743 651 \r\nQ 3003 894 3003 1313 \r\nQ 3003 1734 2745 1975 \r\nQ 2488 2216 2034 2216 \r\nz\r\nM 1403 2484 \r\nQ 997 2584 770 2862 \r\nQ 544 3141 544 3541 \r\nQ 544 4100 942 4425 \r\nQ 1341 4750 2034 4750 \r\nQ 2731 4750 3128 4425 \r\nQ 3525 4100 3525 3541 \r\nQ 3525 3141 3298 2862 \r\nQ 3072 2584 2669 2484 \r\nQ 3125 2378 3379 2068 \r\nQ 3634 1759 3634 1313 \r\nQ 3634 634 3220 271 \r\nQ 2806 -91 2034 -91 \r\nQ 1263 -91 848 271 \r\nQ 434 634 434 1313 \r\nQ 434 1759 690 2068 \r\nQ 947 2378 1403 2484 \r\nz\r\nM 1172 3481 \r\nQ 1172 3119 1398 2916 \r\nQ 1625 2713 2034 2713 \r\nQ 2441 2713 2670 2916 \r\nQ 2900 3119 2900 3481 \r\nQ 2900 3844 2670 4047 \r\nQ 2441 4250 2034 4250 \r\nQ 1625 4250 1398 4047 \r\nQ 1172 3844 1172 3481 \r\nz\r\n\" id=\"DejaVuSans-38\" transform=\"scale(0.015625)\"/>\r\n       </defs>\r\n       <use xlink:href=\"#DejaVuSans-28\"/>\r\n       <use x=\"39.013672\" xlink:href=\"#DejaVuSans-39\"/>\r\n       <use x=\"102.636719\" xlink:href=\"#DejaVuSans-32\"/>\r\n       <use x=\"166.259766\" xlink:href=\"#DejaVuSans-35\"/>\r\n       <use x=\"229.882812\" xlink:href=\"#DejaVuSans-2e\"/>\r\n       <use x=\"261.669922\" xlink:href=\"#DejaVuSans-34\"/>\r\n       <use x=\"325.292969\" xlink:href=\"#DejaVuSans-32\"/>\r\n       <use x=\"388.916016\" xlink:href=\"#DejaVuSans-39\"/>\r\n       <use x=\"452.539062\" xlink:href=\"#DejaVuSans-2c\"/>\r\n       <use x=\"484.326172\" xlink:href=\"#DejaVuSans-20\"/>\r\n       <use x=\"516.113281\" xlink:href=\"#DejaVuSans-31\"/>\r\n       <use x=\"579.736328\" xlink:href=\"#DejaVuSans-31\"/>\r\n       <use x=\"643.359375\" xlink:href=\"#DejaVuSans-35\"/>\r\n       <use x=\"706.982422\" xlink:href=\"#DejaVuSans-36\"/>\r\n       <use x=\"770.605469\" xlink:href=\"#DejaVuSans-2e\"/>\r\n       <use x=\"802.392578\" xlink:href=\"#DejaVuSans-37\"/>\r\n       <use x=\"866.015625\" xlink:href=\"#DejaVuSans-38\"/>\r\n       <use x=\"929.638672\" xlink:href=\"#DejaVuSans-36\"/>\r\n       <use x=\"993.261719\" xlink:href=\"#DejaVuSans-5d\"/>\r\n      </g>\r\n     </g>\r\n    </g>\r\n    <g id=\"xtick_6\">\r\n     <g id=\"line2d_6\">\r\n      <g>\r\n       <use style=\"stroke:#000000;stroke-width:0.8;\" x=\"183.903571\" xlink:href=\"#mf25c1a6574\" y=\"224.64\"/>\r\n      </g>\r\n     </g>\r\n     <g id=\"text_6\">\r\n      <!-- (1156.786, 1388.143] -->\r\n      <g transform=\"translate(186.662946 341.230625)rotate(-90)scale(0.1 -0.1)\">\r\n       <use xlink:href=\"#DejaVuSans-28\"/>\r\n       <use x=\"39.013672\" xlink:href=\"#DejaVuSans-31\"/>\r\n       <use x=\"102.636719\" xlink:href=\"#DejaVuSans-31\"/>\r\n       <use x=\"166.259766\" xlink:href=\"#DejaVuSans-35\"/>\r\n       <use x=\"229.882812\" xlink:href=\"#DejaVuSans-36\"/>\r\n       <use x=\"293.505859\" xlink:href=\"#DejaVuSans-2e\"/>\r\n       <use x=\"325.292969\" xlink:href=\"#DejaVuSans-37\"/>\r\n       <use x=\"388.916016\" xlink:href=\"#DejaVuSans-38\"/>\r\n       <use x=\"452.539062\" xlink:href=\"#DejaVuSans-36\"/>\r\n       <use x=\"516.162109\" xlink:href=\"#DejaVuSans-2c\"/>\r\n       <use x=\"547.949219\" xlink:href=\"#DejaVuSans-20\"/>\r\n       <use x=\"579.736328\" xlink:href=\"#DejaVuSans-31\"/>\r\n       <use x=\"643.359375\" xlink:href=\"#DejaVuSans-33\"/>\r\n       <use x=\"706.982422\" xlink:href=\"#DejaVuSans-38\"/>\r\n       <use x=\"770.605469\" xlink:href=\"#DejaVuSans-38\"/>\r\n       <use x=\"834.228516\" xlink:href=\"#DejaVuSans-2e\"/>\r\n       <use x=\"866.015625\" xlink:href=\"#DejaVuSans-31\"/>\r\n       <use x=\"929.638672\" xlink:href=\"#DejaVuSans-34\"/>\r\n       <use x=\"993.261719\" xlink:href=\"#DejaVuSans-33\"/>\r\n       <use x=\"1056.884766\" xlink:href=\"#DejaVuSans-5d\"/>\r\n      </g>\r\n     </g>\r\n    </g>\r\n    <g id=\"xtick_7\">\r\n     <g id=\"line2d_7\">\r\n      <g>\r\n       <use style=\"stroke:#000000;stroke-width:0.8;\" x=\"207.817857\" xlink:href=\"#mf25c1a6574\" y=\"224.64\"/>\r\n      </g>\r\n     </g>\r\n     <g id=\"text_7\">\r\n      <!-- (1388.143, 1619.5] -->\r\n      <g transform=\"translate(210.577232 328.505625)rotate(-90)scale(0.1 -0.1)\">\r\n       <use xlink:href=\"#DejaVuSans-28\"/>\r\n       <use x=\"39.013672\" xlink:href=\"#DejaVuSans-31\"/>\r\n       <use x=\"102.636719\" xlink:href=\"#DejaVuSans-33\"/>\r\n       <use x=\"166.259766\" xlink:href=\"#DejaVuSans-38\"/>\r\n       <use x=\"229.882812\" xlink:href=\"#DejaVuSans-38\"/>\r\n       <use x=\"293.505859\" xlink:href=\"#DejaVuSans-2e\"/>\r\n       <use x=\"325.292969\" xlink:href=\"#DejaVuSans-31\"/>\r\n       <use x=\"388.916016\" xlink:href=\"#DejaVuSans-34\"/>\r\n       <use x=\"452.539062\" xlink:href=\"#DejaVuSans-33\"/>\r\n       <use x=\"516.162109\" xlink:href=\"#DejaVuSans-2c\"/>\r\n       <use x=\"547.949219\" xlink:href=\"#DejaVuSans-20\"/>\r\n       <use x=\"579.736328\" xlink:href=\"#DejaVuSans-31\"/>\r\n       <use x=\"643.359375\" xlink:href=\"#DejaVuSans-36\"/>\r\n       <use x=\"706.982422\" xlink:href=\"#DejaVuSans-31\"/>\r\n       <use x=\"770.605469\" xlink:href=\"#DejaVuSans-39\"/>\r\n       <use x=\"834.228516\" xlink:href=\"#DejaVuSans-2e\"/>\r\n       <use x=\"866.015625\" xlink:href=\"#DejaVuSans-35\"/>\r\n       <use x=\"929.638672\" xlink:href=\"#DejaVuSans-5d\"/>\r\n      </g>\r\n     </g>\r\n    </g>\r\n    <g id=\"xtick_8\">\r\n     <g id=\"line2d_8\">\r\n      <g>\r\n       <use style=\"stroke:#000000;stroke-width:0.8;\" x=\"231.732143\" xlink:href=\"#mf25c1a6574\" y=\"224.64\"/>\r\n      </g>\r\n     </g>\r\n     <g id=\"text_8\">\r\n      <!-- (1619.5, 1850.857] -->\r\n      <g transform=\"translate(234.491518 328.505625)rotate(-90)scale(0.1 -0.1)\">\r\n       <use xlink:href=\"#DejaVuSans-28\"/>\r\n       <use x=\"39.013672\" xlink:href=\"#DejaVuSans-31\"/>\r\n       <use x=\"102.636719\" xlink:href=\"#DejaVuSans-36\"/>\r\n       <use x=\"166.259766\" xlink:href=\"#DejaVuSans-31\"/>\r\n       <use x=\"229.882812\" xlink:href=\"#DejaVuSans-39\"/>\r\n       <use x=\"293.505859\" xlink:href=\"#DejaVuSans-2e\"/>\r\n       <use x=\"325.292969\" xlink:href=\"#DejaVuSans-35\"/>\r\n       <use x=\"388.916016\" xlink:href=\"#DejaVuSans-2c\"/>\r\n       <use x=\"420.703125\" xlink:href=\"#DejaVuSans-20\"/>\r\n       <use x=\"452.490234\" xlink:href=\"#DejaVuSans-31\"/>\r\n       <use x=\"516.113281\" xlink:href=\"#DejaVuSans-38\"/>\r\n       <use x=\"579.736328\" xlink:href=\"#DejaVuSans-35\"/>\r\n       <use x=\"643.359375\" xlink:href=\"#DejaVuSans-30\"/>\r\n       <use x=\"706.982422\" xlink:href=\"#DejaVuSans-2e\"/>\r\n       <use x=\"738.769531\" xlink:href=\"#DejaVuSans-38\"/>\r\n       <use x=\"802.392578\" xlink:href=\"#DejaVuSans-35\"/>\r\n       <use x=\"866.015625\" xlink:href=\"#DejaVuSans-37\"/>\r\n       <use x=\"929.638672\" xlink:href=\"#DejaVuSans-5d\"/>\r\n      </g>\r\n     </g>\r\n    </g>\r\n    <g id=\"xtick_9\">\r\n     <g id=\"line2d_9\">\r\n      <g>\r\n       <use style=\"stroke:#000000;stroke-width:0.8;\" x=\"255.646429\" xlink:href=\"#mf25c1a6574\" y=\"224.64\"/>\r\n      </g>\r\n     </g>\r\n     <g id=\"text_9\">\r\n      <!-- (2082.214, 2313.571] -->\r\n      <g transform=\"translate(258.405804 341.230625)rotate(-90)scale(0.1 -0.1)\">\r\n       <use xlink:href=\"#DejaVuSans-28\"/>\r\n       <use x=\"39.013672\" xlink:href=\"#DejaVuSans-32\"/>\r\n       <use x=\"102.636719\" xlink:href=\"#DejaVuSans-30\"/>\r\n       <use x=\"166.259766\" xlink:href=\"#DejaVuSans-38\"/>\r\n       <use x=\"229.882812\" xlink:href=\"#DejaVuSans-32\"/>\r\n       <use x=\"293.505859\" xlink:href=\"#DejaVuSans-2e\"/>\r\n       <use x=\"325.292969\" xlink:href=\"#DejaVuSans-32\"/>\r\n       <use x=\"388.916016\" xlink:href=\"#DejaVuSans-31\"/>\r\n       <use x=\"452.539062\" xlink:href=\"#DejaVuSans-34\"/>\r\n       <use x=\"516.162109\" xlink:href=\"#DejaVuSans-2c\"/>\r\n       <use x=\"547.949219\" xlink:href=\"#DejaVuSans-20\"/>\r\n       <use x=\"579.736328\" xlink:href=\"#DejaVuSans-32\"/>\r\n       <use x=\"643.359375\" xlink:href=\"#DejaVuSans-33\"/>\r\n       <use x=\"706.982422\" xlink:href=\"#DejaVuSans-31\"/>\r\n       <use x=\"770.605469\" xlink:href=\"#DejaVuSans-33\"/>\r\n       <use x=\"834.228516\" xlink:href=\"#DejaVuSans-2e\"/>\r\n       <use x=\"866.015625\" xlink:href=\"#DejaVuSans-35\"/>\r\n       <use x=\"929.638672\" xlink:href=\"#DejaVuSans-37\"/>\r\n       <use x=\"993.261719\" xlink:href=\"#DejaVuSans-31\"/>\r\n       <use x=\"1056.884766\" xlink:href=\"#DejaVuSans-5d\"/>\r\n      </g>\r\n     </g>\r\n    </g>\r\n    <g id=\"xtick_10\">\r\n     <g id=\"line2d_10\">\r\n      <g>\r\n       <use style=\"stroke:#000000;stroke-width:0.8;\" x=\"279.560714\" xlink:href=\"#mf25c1a6574\" y=\"224.64\"/>\r\n      </g>\r\n     </g>\r\n     <g id=\"text_10\">\r\n      <!-- (1850.857, 2082.214] -->\r\n      <g transform=\"translate(282.320089 341.230625)rotate(-90)scale(0.1 -0.1)\">\r\n       <use xlink:href=\"#DejaVuSans-28\"/>\r\n       <use x=\"39.013672\" xlink:href=\"#DejaVuSans-31\"/>\r\n       <use x=\"102.636719\" xlink:href=\"#DejaVuSans-38\"/>\r\n       <use x=\"166.259766\" xlink:href=\"#DejaVuSans-35\"/>\r\n       <use x=\"229.882812\" xlink:href=\"#DejaVuSans-30\"/>\r\n       <use x=\"293.505859\" xlink:href=\"#DejaVuSans-2e\"/>\r\n       <use x=\"325.292969\" xlink:href=\"#DejaVuSans-38\"/>\r\n       <use x=\"388.916016\" xlink:href=\"#DejaVuSans-35\"/>\r\n       <use x=\"452.539062\" xlink:href=\"#DejaVuSans-37\"/>\r\n       <use x=\"516.162109\" xlink:href=\"#DejaVuSans-2c\"/>\r\n       <use x=\"547.949219\" xlink:href=\"#DejaVuSans-20\"/>\r\n       <use x=\"579.736328\" xlink:href=\"#DejaVuSans-32\"/>\r\n       <use x=\"643.359375\" xlink:href=\"#DejaVuSans-30\"/>\r\n       <use x=\"706.982422\" xlink:href=\"#DejaVuSans-38\"/>\r\n       <use x=\"770.605469\" xlink:href=\"#DejaVuSans-32\"/>\r\n       <use x=\"834.228516\" xlink:href=\"#DejaVuSans-2e\"/>\r\n       <use x=\"866.015625\" xlink:href=\"#DejaVuSans-32\"/>\r\n       <use x=\"929.638672\" xlink:href=\"#DejaVuSans-31\"/>\r\n       <use x=\"993.261719\" xlink:href=\"#DejaVuSans-34\"/>\r\n       <use x=\"1056.884766\" xlink:href=\"#DejaVuSans-5d\"/>\r\n      </g>\r\n     </g>\r\n    </g>\r\n    <g id=\"xtick_11\">\r\n     <g id=\"line2d_11\">\r\n      <g>\r\n       <use style=\"stroke:#000000;stroke-width:0.8;\" x=\"303.475\" xlink:href=\"#mf25c1a6574\" y=\"224.64\"/>\r\n      </g>\r\n     </g>\r\n     <g id=\"text_11\">\r\n      <!-- (3007.643, 3239.0] -->\r\n      <g transform=\"translate(306.234375 328.505625)rotate(-90)scale(0.1 -0.1)\">\r\n       <use xlink:href=\"#DejaVuSans-28\"/>\r\n       <use x=\"39.013672\" xlink:href=\"#DejaVuSans-33\"/>\r\n       <use x=\"102.636719\" xlink:href=\"#DejaVuSans-30\"/>\r\n       <use x=\"166.259766\" xlink:href=\"#DejaVuSans-30\"/>\r\n       <use x=\"229.882812\" xlink:href=\"#DejaVuSans-37\"/>\r\n       <use x=\"293.505859\" xlink:href=\"#DejaVuSans-2e\"/>\r\n       <use x=\"325.292969\" xlink:href=\"#DejaVuSans-36\"/>\r\n       <use x=\"388.916016\" xlink:href=\"#DejaVuSans-34\"/>\r\n       <use x=\"452.539062\" xlink:href=\"#DejaVuSans-33\"/>\r\n       <use x=\"516.162109\" xlink:href=\"#DejaVuSans-2c\"/>\r\n       <use x=\"547.949219\" xlink:href=\"#DejaVuSans-20\"/>\r\n       <use x=\"579.736328\" xlink:href=\"#DejaVuSans-33\"/>\r\n       <use x=\"643.359375\" xlink:href=\"#DejaVuSans-32\"/>\r\n       <use x=\"706.982422\" xlink:href=\"#DejaVuSans-33\"/>\r\n       <use x=\"770.605469\" xlink:href=\"#DejaVuSans-39\"/>\r\n       <use x=\"834.228516\" xlink:href=\"#DejaVuSans-2e\"/>\r\n       <use x=\"866.015625\" xlink:href=\"#DejaVuSans-30\"/>\r\n       <use x=\"929.638672\" xlink:href=\"#DejaVuSans-5d\"/>\r\n      </g>\r\n     </g>\r\n    </g>\r\n    <g id=\"xtick_12\">\r\n     <g id=\"line2d_12\">\r\n      <g>\r\n       <use style=\"stroke:#000000;stroke-width:0.8;\" x=\"327.389286\" xlink:href=\"#mf25c1a6574\" y=\"224.64\"/>\r\n      </g>\r\n     </g>\r\n     <g id=\"text_12\">\r\n      <!-- (2313.571, 2544.929] -->\r\n      <g transform=\"translate(330.148661 341.230625)rotate(-90)scale(0.1 -0.1)\">\r\n       <use xlink:href=\"#DejaVuSans-28\"/>\r\n       <use x=\"39.013672\" xlink:href=\"#DejaVuSans-32\"/>\r\n       <use x=\"102.636719\" xlink:href=\"#DejaVuSans-33\"/>\r\n       <use x=\"166.259766\" xlink:href=\"#DejaVuSans-31\"/>\r\n       <use x=\"229.882812\" xlink:href=\"#DejaVuSans-33\"/>\r\n       <use x=\"293.505859\" xlink:href=\"#DejaVuSans-2e\"/>\r\n       <use x=\"325.292969\" xlink:href=\"#DejaVuSans-35\"/>\r\n       <use x=\"388.916016\" xlink:href=\"#DejaVuSans-37\"/>\r\n       <use x=\"452.539062\" xlink:href=\"#DejaVuSans-31\"/>\r\n       <use x=\"516.162109\" xlink:href=\"#DejaVuSans-2c\"/>\r\n       <use x=\"547.949219\" xlink:href=\"#DejaVuSans-20\"/>\r\n       <use x=\"579.736328\" xlink:href=\"#DejaVuSans-32\"/>\r\n       <use x=\"643.359375\" xlink:href=\"#DejaVuSans-35\"/>\r\n       <use x=\"706.982422\" xlink:href=\"#DejaVuSans-34\"/>\r\n       <use x=\"770.605469\" xlink:href=\"#DejaVuSans-34\"/>\r\n       <use x=\"834.228516\" xlink:href=\"#DejaVuSans-2e\"/>\r\n       <use x=\"866.015625\" xlink:href=\"#DejaVuSans-39\"/>\r\n       <use x=\"929.638672\" xlink:href=\"#DejaVuSans-32\"/>\r\n       <use x=\"993.261719\" xlink:href=\"#DejaVuSans-39\"/>\r\n       <use x=\"1056.884766\" xlink:href=\"#DejaVuSans-5d\"/>\r\n      </g>\r\n     </g>\r\n    </g>\r\n    <g id=\"xtick_13\">\r\n     <g id=\"line2d_13\">\r\n      <g>\r\n       <use style=\"stroke:#000000;stroke-width:0.8;\" x=\"351.303571\" xlink:href=\"#mf25c1a6574\" y=\"224.64\"/>\r\n      </g>\r\n     </g>\r\n     <g id=\"text_13\">\r\n      <!-- (2776.286, 3007.643] -->\r\n      <g transform=\"translate(354.062946 341.230625)rotate(-90)scale(0.1 -0.1)\">\r\n       <use xlink:href=\"#DejaVuSans-28\"/>\r\n       <use x=\"39.013672\" xlink:href=\"#DejaVuSans-32\"/>\r\n       <use x=\"102.636719\" xlink:href=\"#DejaVuSans-37\"/>\r\n       <use x=\"166.259766\" xlink:href=\"#DejaVuSans-37\"/>\r\n       <use x=\"229.882812\" xlink:href=\"#DejaVuSans-36\"/>\r\n       <use x=\"293.505859\" xlink:href=\"#DejaVuSans-2e\"/>\r\n       <use x=\"325.292969\" xlink:href=\"#DejaVuSans-32\"/>\r\n       <use x=\"388.916016\" xlink:href=\"#DejaVuSans-38\"/>\r\n       <use x=\"452.539062\" xlink:href=\"#DejaVuSans-36\"/>\r\n       <use x=\"516.162109\" xlink:href=\"#DejaVuSans-2c\"/>\r\n       <use x=\"547.949219\" xlink:href=\"#DejaVuSans-20\"/>\r\n       <use x=\"579.736328\" xlink:href=\"#DejaVuSans-33\"/>\r\n       <use x=\"643.359375\" xlink:href=\"#DejaVuSans-30\"/>\r\n       <use x=\"706.982422\" xlink:href=\"#DejaVuSans-30\"/>\r\n       <use x=\"770.605469\" xlink:href=\"#DejaVuSans-37\"/>\r\n       <use x=\"834.228516\" xlink:href=\"#DejaVuSans-2e\"/>\r\n       <use x=\"866.015625\" xlink:href=\"#DejaVuSans-36\"/>\r\n       <use x=\"929.638672\" xlink:href=\"#DejaVuSans-34\"/>\r\n       <use x=\"993.261719\" xlink:href=\"#DejaVuSans-33\"/>\r\n       <use x=\"1056.884766\" xlink:href=\"#DejaVuSans-5d\"/>\r\n      </g>\r\n     </g>\r\n    </g>\r\n    <g id=\"xtick_14\">\r\n     <g id=\"line2d_14\">\r\n      <g>\r\n       <use style=\"stroke:#000000;stroke-width:0.8;\" x=\"375.217857\" xlink:href=\"#mf25c1a6574\" y=\"224.64\"/>\r\n      </g>\r\n     </g>\r\n     <g id=\"text_14\">\r\n      <!-- (2544.929, 2776.286] -->\r\n      <g transform=\"translate(377.977232 341.230625)rotate(-90)scale(0.1 -0.1)\">\r\n       <use xlink:href=\"#DejaVuSans-28\"/>\r\n       <use x=\"39.013672\" xlink:href=\"#DejaVuSans-32\"/>\r\n       <use x=\"102.636719\" xlink:href=\"#DejaVuSans-35\"/>\r\n       <use x=\"166.259766\" xlink:href=\"#DejaVuSans-34\"/>\r\n       <use x=\"229.882812\" xlink:href=\"#DejaVuSans-34\"/>\r\n       <use x=\"293.505859\" xlink:href=\"#DejaVuSans-2e\"/>\r\n       <use x=\"325.292969\" xlink:href=\"#DejaVuSans-39\"/>\r\n       <use x=\"388.916016\" xlink:href=\"#DejaVuSans-32\"/>\r\n       <use x=\"452.539062\" xlink:href=\"#DejaVuSans-39\"/>\r\n       <use x=\"516.162109\" xlink:href=\"#DejaVuSans-2c\"/>\r\n       <use x=\"547.949219\" xlink:href=\"#DejaVuSans-20\"/>\r\n       <use x=\"579.736328\" xlink:href=\"#DejaVuSans-32\"/>\r\n       <use x=\"643.359375\" xlink:href=\"#DejaVuSans-37\"/>\r\n       <use x=\"706.982422\" xlink:href=\"#DejaVuSans-37\"/>\r\n       <use x=\"770.605469\" xlink:href=\"#DejaVuSans-36\"/>\r\n       <use x=\"834.228516\" xlink:href=\"#DejaVuSans-2e\"/>\r\n       <use x=\"866.015625\" xlink:href=\"#DejaVuSans-32\"/>\r\n       <use x=\"929.638672\" xlink:href=\"#DejaVuSans-38\"/>\r\n       <use x=\"993.261719\" xlink:href=\"#DejaVuSans-36\"/>\r\n       <use x=\"1056.884766\" xlink:href=\"#DejaVuSans-5d\"/>\r\n      </g>\r\n     </g>\r\n    </g>\r\n   </g>\r\n   <g id=\"matplotlib.axis_2\">\r\n    <g id=\"ytick_1\">\r\n     <g id=\"line2d_15\">\r\n      <defs>\r\n       <path d=\"M 0 0 \r\nL -3.5 0 \r\n\" id=\"m3ca2c4f6f6\" style=\"stroke:#000000;stroke-width:0.8;\"/>\r\n      </defs>\r\n      <g>\r\n       <use style=\"stroke:#000000;stroke-width:0.8;\" x=\"52.375\" xlink:href=\"#m3ca2c4f6f6\" y=\"224.64\"/>\r\n      </g>\r\n     </g>\r\n     <g id=\"text_15\">\r\n      <!-- 0 -->\r\n      <g transform=\"translate(39.0125 228.439219)scale(0.1 -0.1)\">\r\n       <use xlink:href=\"#DejaVuSans-30\"/>\r\n      </g>\r\n     </g>\r\n    </g>\r\n    <g id=\"ytick_2\">\r\n     <g id=\"line2d_16\">\r\n      <g>\r\n       <use style=\"stroke:#000000;stroke-width:0.8;\" x=\"52.375\" xlink:href=\"#m3ca2c4f6f6\" y=\"190.848569\"/>\r\n      </g>\r\n     </g>\r\n     <g id=\"text_16\">\r\n      <!-- 100000 -->\r\n      <g transform=\"translate(7.2 194.647788)scale(0.1 -0.1)\">\r\n       <use xlink:href=\"#DejaVuSans-31\"/>\r\n       <use x=\"63.623047\" xlink:href=\"#DejaVuSans-30\"/>\r\n       <use x=\"127.246094\" xlink:href=\"#DejaVuSans-30\"/>\r\n       <use x=\"190.869141\" xlink:href=\"#DejaVuSans-30\"/>\r\n       <use x=\"254.492188\" xlink:href=\"#DejaVuSans-30\"/>\r\n       <use x=\"318.115234\" xlink:href=\"#DejaVuSans-30\"/>\r\n      </g>\r\n     </g>\r\n    </g>\r\n    <g id=\"ytick_3\">\r\n     <g id=\"line2d_17\">\r\n      <g>\r\n       <use style=\"stroke:#000000;stroke-width:0.8;\" x=\"52.375\" xlink:href=\"#m3ca2c4f6f6\" y=\"157.057139\"/>\r\n      </g>\r\n     </g>\r\n     <g id=\"text_17\">\r\n      <!-- 200000 -->\r\n      <g transform=\"translate(7.2 160.856357)scale(0.1 -0.1)\">\r\n       <use xlink:href=\"#DejaVuSans-32\"/>\r\n       <use x=\"63.623047\" xlink:href=\"#DejaVuSans-30\"/>\r\n       <use x=\"127.246094\" xlink:href=\"#DejaVuSans-30\"/>\r\n       <use x=\"190.869141\" xlink:href=\"#DejaVuSans-30\"/>\r\n       <use x=\"254.492188\" xlink:href=\"#DejaVuSans-30\"/>\r\n       <use x=\"318.115234\" xlink:href=\"#DejaVuSans-30\"/>\r\n      </g>\r\n     </g>\r\n    </g>\r\n    <g id=\"ytick_4\">\r\n     <g id=\"line2d_18\">\r\n      <g>\r\n       <use style=\"stroke:#000000;stroke-width:0.8;\" x=\"52.375\" xlink:href=\"#m3ca2c4f6f6\" y=\"123.265708\"/>\r\n      </g>\r\n     </g>\r\n     <g id=\"text_18\">\r\n      <!-- 300000 -->\r\n      <g transform=\"translate(7.2 127.064927)scale(0.1 -0.1)\">\r\n       <use xlink:href=\"#DejaVuSans-33\"/>\r\n       <use x=\"63.623047\" xlink:href=\"#DejaVuSans-30\"/>\r\n       <use x=\"127.246094\" xlink:href=\"#DejaVuSans-30\"/>\r\n       <use x=\"190.869141\" xlink:href=\"#DejaVuSans-30\"/>\r\n       <use x=\"254.492188\" xlink:href=\"#DejaVuSans-30\"/>\r\n       <use x=\"318.115234\" xlink:href=\"#DejaVuSans-30\"/>\r\n      </g>\r\n     </g>\r\n    </g>\r\n    <g id=\"ytick_5\">\r\n     <g id=\"line2d_19\">\r\n      <g>\r\n       <use style=\"stroke:#000000;stroke-width:0.8;\" x=\"52.375\" xlink:href=\"#m3ca2c4f6f6\" y=\"89.474277\"/>\r\n      </g>\r\n     </g>\r\n     <g id=\"text_19\">\r\n      <!-- 400000 -->\r\n      <g transform=\"translate(7.2 93.273496)scale(0.1 -0.1)\">\r\n       <use xlink:href=\"#DejaVuSans-34\"/>\r\n       <use x=\"63.623047\" xlink:href=\"#DejaVuSans-30\"/>\r\n       <use x=\"127.246094\" xlink:href=\"#DejaVuSans-30\"/>\r\n       <use x=\"190.869141\" xlink:href=\"#DejaVuSans-30\"/>\r\n       <use x=\"254.492188\" xlink:href=\"#DejaVuSans-30\"/>\r\n       <use x=\"318.115234\" xlink:href=\"#DejaVuSans-30\"/>\r\n      </g>\r\n     </g>\r\n    </g>\r\n    <g id=\"ytick_6\">\r\n     <g id=\"line2d_20\">\r\n      <g>\r\n       <use style=\"stroke:#000000;stroke-width:0.8;\" x=\"52.375\" xlink:href=\"#m3ca2c4f6f6\" y=\"55.682847\"/>\r\n      </g>\r\n     </g>\r\n     <g id=\"text_20\">\r\n      <!-- 500000 -->\r\n      <g transform=\"translate(7.2 59.482065)scale(0.1 -0.1)\">\r\n       <use xlink:href=\"#DejaVuSans-35\"/>\r\n       <use x=\"63.623047\" xlink:href=\"#DejaVuSans-30\"/>\r\n       <use x=\"127.246094\" xlink:href=\"#DejaVuSans-30\"/>\r\n       <use x=\"190.869141\" xlink:href=\"#DejaVuSans-30\"/>\r\n       <use x=\"254.492188\" xlink:href=\"#DejaVuSans-30\"/>\r\n       <use x=\"318.115234\" xlink:href=\"#DejaVuSans-30\"/>\r\n      </g>\r\n     </g>\r\n    </g>\r\n    <g id=\"ytick_7\">\r\n     <g id=\"line2d_21\">\r\n      <g>\r\n       <use style=\"stroke:#000000;stroke-width:0.8;\" x=\"52.375\" xlink:href=\"#m3ca2c4f6f6\" y=\"21.891416\"/>\r\n      </g>\r\n     </g>\r\n     <g id=\"text_21\">\r\n      <!-- 600000 -->\r\n      <g transform=\"translate(7.2 25.690635)scale(0.1 -0.1)\">\r\n       <use xlink:href=\"#DejaVuSans-36\"/>\r\n       <use x=\"63.623047\" xlink:href=\"#DejaVuSans-30\"/>\r\n       <use x=\"127.246094\" xlink:href=\"#DejaVuSans-30\"/>\r\n       <use x=\"190.869141\" xlink:href=\"#DejaVuSans-30\"/>\r\n       <use x=\"254.492188\" xlink:href=\"#DejaVuSans-30\"/>\r\n       <use x=\"318.115234\" xlink:href=\"#DejaVuSans-30\"/>\r\n      </g>\r\n     </g>\r\n    </g>\r\n   </g>\r\n   <g id=\"patch_17\">\r\n    <path d=\"M 52.375 224.64 \r\nL 52.375 7.2 \r\n\" style=\"fill:none;stroke:#000000;stroke-linecap:square;stroke-linejoin:miter;stroke-width:0.8;\"/>\r\n   </g>\r\n   <g id=\"patch_18\">\r\n    <path d=\"M 387.175 224.64 \r\nL 387.175 7.2 \r\n\" style=\"fill:none;stroke:#000000;stroke-linecap:square;stroke-linejoin:miter;stroke-width:0.8;\"/>\r\n   </g>\r\n   <g id=\"patch_19\">\r\n    <path d=\"M 52.375 224.64 \r\nL 387.175 224.64 \r\n\" style=\"fill:none;stroke:#000000;stroke-linecap:square;stroke-linejoin:miter;stroke-width:0.8;\"/>\r\n   </g>\r\n   <g id=\"patch_20\">\r\n    <path d=\"M 52.375 7.2 \r\nL 387.175 7.2 \r\n\" style=\"fill:none;stroke:#000000;stroke-linecap:square;stroke-linejoin:miter;stroke-width:0.8;\"/>\r\n   </g>\r\n  </g>\r\n </g>\r\n <defs>\r\n  <clipPath id=\"pef3ed65bda\">\r\n   <rect height=\"217.44\" width=\"334.8\" x=\"52.375\" y=\"7.2\"/>\r\n  </clipPath>\r\n </defs>\r\n</svg>\r\n",
      "image/png": "[encoded data removed]"
     },
     "metadata": {
      "needs_background": "light"
     }
    }
   ],
   "source": [
    "bins = np.linspace(df['TRAVEL_LENGTH'].min(), df['TRAVEL_LENGTH'].max(), 15)\n",
    "travel_length_cat = pd.cut(df['TRAVEL_LENGTH'], bins)\n",
    "travel_length_cat.value_counts().plot(kind='bar')"
   ]
  },
  {
   "cell_type": "markdown",
   "metadata": {},
   "source": [
    "### Highlights\n",
    "- 出发站、到达站的填充：可以用列车编号、到达站（出发站）、运行时间完全相同的数据来填充\n",
    "- 百度地图API转经纬度\n",
    "- DBSCAN Isolation Forest"
   ]
  },
  {
   "cell_type": "markdown",
   "metadata": {},
   "source": [
    "### Features to be preprocessed\n",
    "- 乘车时间间隔（设置阈值划分长途和短途）\n",
    "- 乘车频率（可以按月统计）\n",
    "- Num of boarding stations（可以看最常去的所占的比例）\n",
    "- 夜间乘车次数\n",
    "- 座位种类"
   ]
  },
  {
   "cell_type": "code",
   "execution_count": 10,
   "metadata": {},
   "outputs": [],
   "source": [
    "# ['PR_ID', 'PPID'1, 'TRAIN_TYPE'1, 'TRAIN_CODE'1, 'BOARD_DATE', 'BOARD_TIME',\n",
    "#        'ARRIVAL_DATE', 'ARRIVAL_TIME', 'START_STA'1, 'ARRIVAL_STA'1,\n",
    "#        'TRAVEL_TIME', 'TRAVEL_LENGTH', 'SEAT_TYPE'1, 'COACH_NO', 'SEAT_NO',\n",
    "#        'BUYYER_PID'1]"
   ]
  },
  {
   "cell_type": "markdown",
   "metadata": {},
   "source": [
    "# Simple token features we use in our project are:\n",
    "1. Passenger. PPID\n",
    "    - Format: a integer indicates passenger id\n",
    "2. Buyyer. BUYYER_PID\n",
    "    - Format: a integer indicates buyyer id\n",
    "3. Start Stations.  START_STA\n",
    "    - Format: a integer indicates No. of Start Station\n",
    "4. Arrival Stations.  ARRIVAL_STA\n",
    "    - Format: a integer indicates No. of Arrival Station\n",
    "5. Train Code. TRAIN_CODE\n",
    "    - Format: a integer\n",
    "6. Train Type. TRAIN_TYPE\n",
    "    - Format: a integer\n",
    "7. Seat type. SEAT_TYPE\n",
    "    - Format: a integer \n"
   ]
  },
  {
   "cell_type": "code",
   "execution_count": 11,
   "metadata": {},
   "outputs": [],
   "source": [
    "simple_feature2idx = {'PPID':{},\n",
    "                      'BUYYER_PID':{}, \n",
    "                      'START_STA':{}, \n",
    "                      'ARRIVAL_STA':{}, \n",
    "                      'TRAIN_CODE':{}, \n",
    "                      'TRAIN_TYPE':{}, \n",
    "                      'SEAT_TYPE':{}}"
   ]
  },
  {
   "cell_type": "code",
   "execution_count": 12,
   "metadata": {
    "scrolled": true
   },
   "outputs": [
    {
     "output_type": "stream",
     "name": "stdout",
     "text": [
      "processing: PPID\n",
      "processing: BUYYER_PID\n",
      "processing: START_STA\n",
      "processing: ARRIVAL_STA\n",
      "processing: TRAIN_CODE\n",
      "processing: TRAIN_TYPE\n",
      "processing: SEAT_TYPE\n"
     ]
    }
   ],
   "source": [
    "# set look-up table\n",
    "for feature in simple_feature2idx.keys():\n",
    "    print(\"processing: {}\".format(feature))\n",
    "    df[feature] = df[feature].apply(str)\n",
    "    for value in df[feature].apply(str).tolist():\n",
    "        if value not in simple_feature2idx[feature]:\n",
    "            simple_feature2idx[feature][value] = len(simple_feature2idx[feature])"
   ]
  },
  {
   "cell_type": "code",
   "execution_count": 13,
   "metadata": {},
   "outputs": [],
   "source": [
    "def tokenize_feature(all_features, feature2idx):\n",
    "    index_list = [feature2idx[feat] for feat in all_features] \n",
    "    feature_vector = np.array(index_list)\n",
    "    print(feature_vector.shape)\n",
    "    return feature_vector"
   ]
  },
  {
   "cell_type": "code",
   "execution_count": 14,
   "metadata": {},
   "outputs": [
    {
     "output_type": "stream",
     "name": "stdout",
     "text": [
      "(985759,)\n",
      "(985759,)\n",
      "(985759,)\n",
      "(985759,)\n",
      "(985759,)\n",
      "(985759,)\n",
      "(985759,)\n"
     ]
    }
   ],
   "source": [
    "# set look-up table\n",
    "simple_feature_vectors = {}\n",
    "for feature in simple_feature2idx.keys():\n",
    "    simple_feature_vectors[feature] = tokenize_feature(df[feature].apply(str).tolist(), simple_feature2idx[feature])"
   ]
  },
  {
   "cell_type": "markdown",
   "metadata": {},
   "source": [
    "# Simple digit features we use in our project are:\n",
    "1. Tranvel Time. TRAVEL_TIME\n",
    "    - Format: a integer represent hours   \n",
    "1. Tranvel Length. TRAVEL_LENGTH\n",
    "    - Format: a integer represent distances   \n",
    "3. Board Date.  BOARD_DATE\n",
    "    - Format: a integer represent num of days after 2012/01/01 when boarding. 比如2012年1月2号就是1，2月15日就是30+15=45\n",
    "4. Board Time. BOARD_TIME\n",
    "    - Format: a interger represent num minutes from 0:0:0. 比如当日4点15分就是4*60+15=255\n",
    "5. Arrival Date.  ARRIVAL_DATE\n",
    "    - Format: a integer represent num of days after 2012/01/01 when boarding. 比如2012年1月2号就是1，2月15日就是30+15=45\n",
    "6. Arrival Time.  ARRIVAL_TIME\n",
    "    - Format: a interger represent num minutes from 0:0:0. 比如当日4点15分就是4*60+15=255\n",
    "7. Seat Number.  SEAT_NO\n",
    "    - Format: a integer \n",
    "8. Coach Number.  COACH_NO\n",
    "    - Format: a integer \n"
   ]
  },
  {
   "cell_type": "code",
   "execution_count": 15,
   "metadata": {},
   "outputs": [],
   "source": [
    "digit_feature2idx = {'TRAVEL_TIME':{},\n",
    "                     'TRAVEL_LENGTH':{},\n",
    "                     'BOARD_DATE':{}, \n",
    "                     'BOARD_TIME':{}, \n",
    "                     'ARRIVAL_DATE':{}, \n",
    "                     'ARRIVAL_TIME':{}, \n",
    "                     'SEAT_NO':{}, \n",
    "                     'COACH_NO':{}}"
   ]
  },
  {
   "cell_type": "code",
   "execution_count": 16,
   "metadata": {},
   "outputs": [
    {
     "output_type": "stream",
     "name": "stdout",
     "text": [
      "TRAVEL_LENGTH\t(985759,)\n",
      "SEAT_NO\t(985759,)\n",
      "COACH_NO\t(985759,)\n"
     ]
    }
   ],
   "source": [
    "digit_feature_vectors = {}\n",
    "for feature in digit_feature2idx.keys():\n",
    "    if feature in ['TRAVEL_LENGTH', 'SEAT_NO', 'COACH_NO']:\n",
    "        index_list = df[feature].apply(int).tolist()\n",
    "        feature_vector = np.array(index_list)\n",
    "        print(\"{}\\t{}\".format(feature, feature_vector.shape))\n",
    "        digit_feature_vectors[feature] = feature_vector"
   ]
  },
  {
   "cell_type": "code",
   "execution_count": 17,
   "metadata": {},
   "outputs": [
    {
     "output_type": "stream",
     "name": "stdout",
     "text": [
      "TRAVEL_TIME\t(985759,)\n"
     ]
    }
   ],
   "source": [
    "feature_vector = np.array([int(item.split(':')[0]) for item in df['TRAVEL_TIME'].apply(str).tolist()])\n",
    "print(\"{}\\t{}\".format('TRAVEL_TIME', feature_vector.shape))\n",
    "digit_feature_vectors['TRAVEL_TIME'] = feature_vector"
   ]
  },
  {
   "cell_type": "code",
   "execution_count": 19,
   "metadata": {
    "scrolled": true
   },
   "outputs": [
    {
     "output_type": "error",
     "ename": "ValueError",
     "evalue": "time data '2012/3/8 19:04:00' does not match format '%Y%m/%d %H:%M:%S' (match)",
     "traceback": [
      "\u001b[1;31m---------------------------------------------------------------------------\u001b[0m",
      "\u001b[1;31mTypeError\u001b[0m                                 Traceback (most recent call last)",
      "\u001b[1;32mE:\\Anaconda3\\envs\\pytorch\\lib\\site-packages\\pandas\\core\\tools\\datetimes.py\u001b[0m in \u001b[0;36m_convert_listlike_datetimes\u001b[1;34m(arg, format, name, tz, unit, errors, infer_datetime_format, dayfirst, yearfirst, exact)\u001b[0m\n\u001b[0;32m    455\u001b[0m             \u001b[1;32mtry\u001b[0m\u001b[1;33m:\u001b[0m\u001b[1;33m\u001b[0m\u001b[1;33m\u001b[0m\u001b[0m\n\u001b[1;32m--> 456\u001b[1;33m                 \u001b[0mvalues\u001b[0m\u001b[1;33m,\u001b[0m \u001b[0mtz\u001b[0m \u001b[1;33m=\u001b[0m \u001b[0mconversion\u001b[0m\u001b[1;33m.\u001b[0m\u001b[0mdatetime_to_datetime64\u001b[0m\u001b[1;33m(\u001b[0m\u001b[0marg\u001b[0m\u001b[1;33m)\u001b[0m\u001b[1;33m\u001b[0m\u001b[1;33m\u001b[0m\u001b[0m\n\u001b[0m\u001b[0;32m    457\u001b[0m                 \u001b[0mdta\u001b[0m \u001b[1;33m=\u001b[0m \u001b[0mDatetimeArray\u001b[0m\u001b[1;33m(\u001b[0m\u001b[0mvalues\u001b[0m\u001b[1;33m,\u001b[0m \u001b[0mdtype\u001b[0m\u001b[1;33m=\u001b[0m\u001b[0mtz_to_dtype\u001b[0m\u001b[1;33m(\u001b[0m\u001b[0mtz\u001b[0m\u001b[1;33m)\u001b[0m\u001b[1;33m)\u001b[0m\u001b[1;33m\u001b[0m\u001b[1;33m\u001b[0m\u001b[0m\n",
      "\u001b[1;32mpandas\\_libs\\tslibs\\conversion.pyx\u001b[0m in \u001b[0;36mpandas._libs.tslibs.conversion.datetime_to_datetime64\u001b[1;34m()\u001b[0m\n",
      "\u001b[1;31mTypeError\u001b[0m: Unrecognized value type: <class 'str'>",
      "\nDuring handling of the above exception, another exception occurred:\n",
      "\u001b[1;31mValueError\u001b[0m                                Traceback (most recent call last)",
      "\u001b[1;32m<ipython-input-19-39f6bb45bdef>\u001b[0m in \u001b[0;36m<module>\u001b[1;34m\u001b[0m\n\u001b[0;32m      1\u001b[0m \u001b[1;31m# board_times = pd.to_datetime((df['BOARD_DATE'] +' ' + df['BOARD_TIME'].apply(str)), format='%m/%d/%Y %H:%M:%S')\u001b[0m\u001b[1;33m\u001b[0m\u001b[1;33m\u001b[0m\u001b[1;33m\u001b[0m\u001b[0m\n\u001b[1;32m----> 2\u001b[1;33m \u001b[0mboard_times\u001b[0m \u001b[1;33m=\u001b[0m \u001b[0mpd\u001b[0m\u001b[1;33m.\u001b[0m\u001b[0mto_datetime\u001b[0m\u001b[1;33m(\u001b[0m\u001b[1;33m(\u001b[0m\u001b[0mdf\u001b[0m\u001b[1;33m[\u001b[0m\u001b[1;34m'BOARD_DATE'\u001b[0m\u001b[1;33m]\u001b[0m \u001b[1;33m+\u001b[0m\u001b[1;34m' '\u001b[0m \u001b[1;33m+\u001b[0m \u001b[0mdf\u001b[0m\u001b[1;33m[\u001b[0m\u001b[1;34m'BOARD_TIME'\u001b[0m\u001b[1;33m]\u001b[0m\u001b[1;33m.\u001b[0m\u001b[0mapply\u001b[0m\u001b[1;33m(\u001b[0m\u001b[0mstr\u001b[0m\u001b[1;33m)\u001b[0m\u001b[1;33m)\u001b[0m\u001b[1;33m,\u001b[0m \u001b[0mformat\u001b[0m\u001b[1;33m=\u001b[0m\u001b[1;34m'%Y%m/%d %H:%M:%S'\u001b[0m\u001b[1;33m)\u001b[0m\u001b[1;33m\u001b[0m\u001b[1;33m\u001b[0m\u001b[0m\n\u001b[0m\u001b[0;32m      3\u001b[0m \u001b[1;32mfor\u001b[0m \u001b[0mrow_idx\u001b[0m\u001b[1;33m,\u001b[0m \u001b[0mitem\u001b[0m \u001b[1;32min\u001b[0m \u001b[0menumerate\u001b[0m\u001b[1;33m(\u001b[0m\u001b[0mdf\u001b[0m\u001b[1;33m[\u001b[0m\u001b[1;34m'ARRIVAL_TIME'\u001b[0m\u001b[1;33m]\u001b[0m\u001b[1;33m.\u001b[0m\u001b[0mapply\u001b[0m\u001b[1;33m(\u001b[0m\u001b[0mstr\u001b[0m\u001b[1;33m)\u001b[0m\u001b[1;33m.\u001b[0m\u001b[0mtolist\u001b[0m\u001b[1;33m(\u001b[0m\u001b[1;33m)\u001b[0m\u001b[1;33m)\u001b[0m\u001b[1;33m:\u001b[0m\u001b[1;33m\u001b[0m\u001b[1;33m\u001b[0m\u001b[0m\n\u001b[0;32m      4\u001b[0m     \u001b[1;32mif\u001b[0m \u001b[0mitem\u001b[0m\u001b[1;33m[\u001b[0m\u001b[1;33m:\u001b[0m\u001b[1;36m2\u001b[0m\u001b[1;33m]\u001b[0m\u001b[1;33m==\u001b[0m\u001b[1;34m'25'\u001b[0m \u001b[1;32mor\u001b[0m \u001b[0mitem\u001b[0m\u001b[1;33m[\u001b[0m\u001b[1;33m:\u001b[0m\u001b[1;36m2\u001b[0m\u001b[1;33m]\u001b[0m\u001b[1;33m==\u001b[0m\u001b[1;34m'24'\u001b[0m\u001b[1;33m:\u001b[0m\u001b[1;33m\u001b[0m\u001b[1;33m\u001b[0m\u001b[0m\n\u001b[0;32m      5\u001b[0m         \u001b[0mdf\u001b[0m\u001b[1;33m[\u001b[0m\u001b[1;34m'ARRIVAL_TIME'\u001b[0m\u001b[1;33m]\u001b[0m\u001b[1;33m[\u001b[0m\u001b[0mrow_idx\u001b[0m\u001b[1;33m]\u001b[0m \u001b[1;33m=\u001b[0m \u001b[1;34m'23'\u001b[0m\u001b[1;33m+\u001b[0m\u001b[0mitem\u001b[0m\u001b[1;33m[\u001b[0m\u001b[1;36m2\u001b[0m\u001b[1;33m:\u001b[0m\u001b[1;33m]\u001b[0m\u001b[1;33m\u001b[0m\u001b[1;33m\u001b[0m\u001b[0m\n",
      "\u001b[1;32mE:\\Anaconda3\\envs\\pytorch\\lib\\site-packages\\pandas\\core\\tools\\datetimes.py\u001b[0m in \u001b[0;36mto_datetime\u001b[1;34m(arg, errors, dayfirst, yearfirst, utc, format, exact, unit, infer_datetime_format, origin, cache)\u001b[0m\n\u001b[0;32m    803\u001b[0m             \u001b[0mresult\u001b[0m \u001b[1;33m=\u001b[0m \u001b[0marg\u001b[0m\u001b[1;33m.\u001b[0m\u001b[0mmap\u001b[0m\u001b[1;33m(\u001b[0m\u001b[0mcache_array\u001b[0m\u001b[1;33m)\u001b[0m\u001b[1;33m\u001b[0m\u001b[1;33m\u001b[0m\u001b[0m\n\u001b[0;32m    804\u001b[0m         \u001b[1;32melse\u001b[0m\u001b[1;33m:\u001b[0m\u001b[1;33m\u001b[0m\u001b[1;33m\u001b[0m\u001b[0m\n\u001b[1;32m--> 805\u001b[1;33m             \u001b[0mvalues\u001b[0m \u001b[1;33m=\u001b[0m \u001b[0mconvert_listlike\u001b[0m\u001b[1;33m(\u001b[0m\u001b[0marg\u001b[0m\u001b[1;33m.\u001b[0m\u001b[0m_values\u001b[0m\u001b[1;33m,\u001b[0m \u001b[0mformat\u001b[0m\u001b[1;33m)\u001b[0m\u001b[1;33m\u001b[0m\u001b[1;33m\u001b[0m\u001b[0m\n\u001b[0m\u001b[0;32m    806\u001b[0m             \u001b[0mresult\u001b[0m \u001b[1;33m=\u001b[0m \u001b[0marg\u001b[0m\u001b[1;33m.\u001b[0m\u001b[0m_constructor\u001b[0m\u001b[1;33m(\u001b[0m\u001b[0mvalues\u001b[0m\u001b[1;33m,\u001b[0m \u001b[0mindex\u001b[0m\u001b[1;33m=\u001b[0m\u001b[0marg\u001b[0m\u001b[1;33m.\u001b[0m\u001b[0mindex\u001b[0m\u001b[1;33m,\u001b[0m \u001b[0mname\u001b[0m\u001b[1;33m=\u001b[0m\u001b[0marg\u001b[0m\u001b[1;33m.\u001b[0m\u001b[0mname\u001b[0m\u001b[1;33m)\u001b[0m\u001b[1;33m\u001b[0m\u001b[1;33m\u001b[0m\u001b[0m\n\u001b[0;32m    807\u001b[0m     \u001b[1;32melif\u001b[0m \u001b[0misinstance\u001b[0m\u001b[1;33m(\u001b[0m\u001b[0marg\u001b[0m\u001b[1;33m,\u001b[0m \u001b[1;33m(\u001b[0m\u001b[0mABCDataFrame\u001b[0m\u001b[1;33m,\u001b[0m \u001b[0mabc\u001b[0m\u001b[1;33m.\u001b[0m\u001b[0mMutableMapping\u001b[0m\u001b[1;33m)\u001b[0m\u001b[1;33m)\u001b[0m\u001b[1;33m:\u001b[0m\u001b[1;33m\u001b[0m\u001b[1;33m\u001b[0m\u001b[0m\n",
      "\u001b[1;32mE:\\Anaconda3\\envs\\pytorch\\lib\\site-packages\\pandas\\core\\tools\\datetimes.py\u001b[0m in \u001b[0;36m_convert_listlike_datetimes\u001b[1;34m(arg, format, name, tz, unit, errors, infer_datetime_format, dayfirst, yearfirst, exact)\u001b[0m\n\u001b[0;32m    458\u001b[0m                 \u001b[1;32mreturn\u001b[0m \u001b[0mDatetimeIndex\u001b[0m\u001b[1;33m.\u001b[0m\u001b[0m_simple_new\u001b[0m\u001b[1;33m(\u001b[0m\u001b[0mdta\u001b[0m\u001b[1;33m,\u001b[0m \u001b[0mname\u001b[0m\u001b[1;33m=\u001b[0m\u001b[0mname\u001b[0m\u001b[1;33m)\u001b[0m\u001b[1;33m\u001b[0m\u001b[1;33m\u001b[0m\u001b[0m\n\u001b[0;32m    459\u001b[0m             \u001b[1;32mexcept\u001b[0m \u001b[1;33m(\u001b[0m\u001b[0mValueError\u001b[0m\u001b[1;33m,\u001b[0m \u001b[0mTypeError\u001b[0m\u001b[1;33m)\u001b[0m\u001b[1;33m:\u001b[0m\u001b[1;33m\u001b[0m\u001b[1;33m\u001b[0m\u001b[0m\n\u001b[1;32m--> 460\u001b[1;33m                 \u001b[1;32mraise\u001b[0m \u001b[0me\u001b[0m\u001b[1;33m\u001b[0m\u001b[1;33m\u001b[0m\u001b[0m\n\u001b[0m\u001b[0;32m    461\u001b[0m \u001b[1;33m\u001b[0m\u001b[0m\n\u001b[0;32m    462\u001b[0m     \u001b[1;32mif\u001b[0m \u001b[0mresult\u001b[0m \u001b[1;32mis\u001b[0m \u001b[1;32mNone\u001b[0m\u001b[1;33m:\u001b[0m\u001b[1;33m\u001b[0m\u001b[1;33m\u001b[0m\u001b[0m\n",
      "\u001b[1;32mE:\\Anaconda3\\envs\\pytorch\\lib\\site-packages\\pandas\\core\\tools\\datetimes.py\u001b[0m in \u001b[0;36m_convert_listlike_datetimes\u001b[1;34m(arg, format, name, tz, unit, errors, infer_datetime_format, dayfirst, yearfirst, exact)\u001b[0m\n\u001b[0;32m    422\u001b[0m                 \u001b[1;32mtry\u001b[0m\u001b[1;33m:\u001b[0m\u001b[1;33m\u001b[0m\u001b[1;33m\u001b[0m\u001b[0m\n\u001b[0;32m    423\u001b[0m                     result, timezones = array_strptime(\n\u001b[1;32m--> 424\u001b[1;33m                         \u001b[0marg\u001b[0m\u001b[1;33m,\u001b[0m \u001b[0mformat\u001b[0m\u001b[1;33m,\u001b[0m \u001b[0mexact\u001b[0m\u001b[1;33m=\u001b[0m\u001b[0mexact\u001b[0m\u001b[1;33m,\u001b[0m \u001b[0merrors\u001b[0m\u001b[1;33m=\u001b[0m\u001b[0merrors\u001b[0m\u001b[1;33m\u001b[0m\u001b[1;33m\u001b[0m\u001b[0m\n\u001b[0m\u001b[0;32m    425\u001b[0m                     )\n\u001b[0;32m    426\u001b[0m                     \u001b[1;32mif\u001b[0m \u001b[1;34m\"%Z\"\u001b[0m \u001b[1;32min\u001b[0m \u001b[0mformat\u001b[0m \u001b[1;32mor\u001b[0m \u001b[1;34m\"%z\"\u001b[0m \u001b[1;32min\u001b[0m \u001b[0mformat\u001b[0m\u001b[1;33m:\u001b[0m\u001b[1;33m\u001b[0m\u001b[1;33m\u001b[0m\u001b[0m\n",
      "\u001b[1;32mpandas\\_libs\\tslibs\\strptime.pyx\u001b[0m in \u001b[0;36mpandas._libs.tslibs.strptime.array_strptime\u001b[1;34m()\u001b[0m\n",
      "\u001b[1;31mValueError\u001b[0m: time data '2012/3/8 19:04:00' does not match format '%Y%m/%d %H:%M:%S' (match)"
     ]
    }
   ],
   "source": [
    "# board_times = pd.to_datetime((df['BOARD_DATE'] +' ' + df['BOARD_TIME'].apply(str)), format='%m/%d/%Y %H:%M:%S')\n",
    "board_times = pd.to_datetime((df['BOARD_DATE'] +' ' + df['BOARD_TIME'].apply(str)), format='%Y/%m/%d %H:%M:%S')\n",
    "for row_idx, item in enumerate(df['ARRIVAL_TIME'].apply(str).tolist()):\n",
    "    if item[:2]=='25' or item[:2]=='24':\n",
    "        df['ARRIVAL_TIME'][row_idx] = '23'+item[2:]\n",
    "# arrival_times = pd.to_datetime((df['ARRIVAL_DATE'] +' ' + df['ARRIVAL_TIME'].apply(str)), format='%m/%d/%Y %H:%M:%S')\n",
    "arrival_times = pd.to_datetime((df['ARRIVAL_DATE'] +' ' + df['ARRIVAL_TIME'].apply(str)), format='%Y/%m/%d %H:%M:%S')\n",
    "initial_timestamp = pd.Timestamp('2012-01-01T00')  # Timestamp('2012-01-01 00:00:00')\n",
    "\n",
    "feature_vector = np.array((board_times - initial_timestamp).astype('timedelta64[D]').tolist())\n",
    "print(\"{}\\t{}\".format('BOARD_DATE', feature_vector.shape))\n",
    "digit_feature_vectors['BOARD_DATE'] = feature_vector\n",
    "\n",
    "feature_vector = np.array([h*60+m for h, m in zip(board_times.dt.hour.tolist(), board_times.dt.minute.tolist())])\n",
    "print(\"{}\\t{}\".format('BOARD_TIME', feature_vector.shape))\n",
    "digit_feature_vectors['BOARD_TIME'] = feature_vector\n",
    "\n",
    "feature_vector = np.array((arrival_times - initial_timestamp).astype('timedelta64[D]').tolist())\n",
    "print(\"{}\\t{}\".format('ARRIVAL_DATE', feature_vector.shape))\n",
    "digit_feature_vectors['ARRIVAL_DATE'] = feature_vector\n",
    "\n",
    "feature_vector = np.array([h*60+m for h, m in zip(arrival_times.dt.hour.tolist(), arrival_times.dt.minute.tolist())])\n",
    "print(\"{}\\t{}\".format('ARRIVAL_TIME', feature_vector.shape))\n",
    "digit_feature_vectors['ARRIVAL_TIME'] = feature_vector\n"
   ]
  },
  {
   "cell_type": "markdown",
   "metadata": {},
   "source": [
    "# Advanced features we use in our project are \n",
    "6. Buyyer is the same with Passenger? BUYYER_PID/PPID  new: SAME_PERSON  \n",
    "    - Format: a integer 1 or 0"
   ]
  },
  {
   "cell_type": "code",
   "execution_count": 12,
   "metadata": {},
   "outputs": [],
   "source": [
    "advanced_feature_vectors = {}\n"
   ]
  },
  {
   "cell_type": "code",
   "execution_count": 16,
   "metadata": {},
   "outputs": [
    {
     "name": "stdout",
     "output_type": "stream",
     "text": [
      "(15, 985759)\n"
     ]
    }
   ],
   "source": [
    "all_feature_vectors = np.stack(list(simple_feature_vectors.values()) + \n",
    "                               list(digit_feature_vectors.values()) + \n",
    "                               list(advanced_feature_vectors.values()), axis=0)\n",
    "print(all_feature_vectors.shape)"
   ]
  }
 ],
 "metadata": {
  "kernelspec": {
   "name": "python3710jvsc74a57bd0f395c2e1a992dc8a929f6f371f2b4d25c07e31a6b8b09b005bd71d5c43f24d90",
   "display_name": "Python 3.7.10 64-bit ('pytorch': conda)"
  },
  "language_info": {
   "codemirror_mode": {
    "name": "ipython",
    "version": 3
   },
   "file_extension": ".py",
   "mimetype": "text/x-python",
   "name": "python",
   "nbconvert_exporter": "python",
   "pygments_lexer": "ipython3",
   "version": "3.7.10"
  }
 },
 "nbformat": 4,
 "nbformat_minor": 2
}