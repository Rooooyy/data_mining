{
 "cells": [
  {
   "cell_type": "code",
   "execution_count": 1,
   "metadata": {
    "scrolled": true
   },
   "outputs": [],
   "source": [
    "import numpy as np \n",
    "import pandas as pd\n",
    "import matplotlib.pyplot as plt \n",
    "import xlrd\n",
    "import time"
   ]
  },
  {
   "cell_type": "code",
   "execution_count": 2,
   "metadata": {},
   "outputs": [],
   "source": [
    "# # start processing\n",
    "# df = pd.read_excel('./data/PASSENGER_RECORD.xlsx')\n",
    "# convert .xlsx file to .csv file for easy loading. Simply use MS Excel 'save as' function. \n",
    "df = pd.read_csv('./data/PASSENGER_RECORD.csv')"
   ]
  },
  {
   "cell_type": "code",
   "execution_count": 3,
   "metadata": {
    "scrolled": true
   },
   "outputs": [
    {
     "output_type": "execute_result",
     "data": {
      "text/plain": [
       "Index(['PR_ID', 'PPID', 'TRAIN_TYPE', 'TRAIN_CODE', 'BOARD_DATE', 'BOARD_TIME',\n",
       "       'ARRIVAL_DATE', 'ARRIVAL_TIME', 'START_STA', 'ARRIVAL_STA',\n",
       "       'TRAVEL_TIME', 'TRAVEL_LENGTH', 'SEAT_TYPE', 'COACH_NO', 'SEAT_NO',\n",
       "       'BUYYER_PID'],\n",
       "      dtype='object')"
      ]
     },
     "metadata": {},
     "execution_count": 3
    }
   ],
   "source": [
    "df.columns"
   ]
  },
  {
   "cell_type": "code",
   "execution_count": 4,
   "metadata": {},
   "outputs": [],
   "source": [
    "# ['PR_ID', 'PPID'1, 'TRAIN_TYPE'1, 'TRAIN_CODE'1, 'BOARD_DATE', 'BOARD_TIME',\n",
    "#        'ARRIVAL_DATE', 'ARRIVAL_TIME', 'START_STA'1, 'ARRIVAL_STA'1,\n",
    "#        'TRAVEL_TIME', 'TRAVEL_LENGTH', 'SEAT_TYPE'1, 'COACH_NO', 'SEAT_NO',\n",
    "#        'BUYYER_PID'1]"
   ]
  },
  {
   "cell_type": "markdown",
   "metadata": {},
   "source": [
    "# Simple token features we use in our project are:\n",
    "1. Passenger. PPID\n",
    "    - Format: a integer indicates passenger id\n",
    "2. Buyyer. BUYYER_PID\n",
    "    - Format: a integer indicates buyyer id\n",
    "3. Start Stations.  START_STA\n",
    "    - Format: a integer indicates No. of Start Station\n",
    "4. Arrival Stations.  ARRIVAL_STA\n",
    "    - Format: a integer indicates No. of Arrival Station\n",
    "5. Train Code. TRAIN_CODE\n",
    "    - Format: a integer\n",
    "6. Train Type. TRAIN_TYPE\n",
    "    - Format: a integer\n",
    "7. Seat type. SEAT_TYPE\n",
    "    - Format: a integer \n"
   ]
  },
  {
   "cell_type": "code",
   "execution_count": 5,
   "metadata": {},
   "outputs": [],
   "source": [
    "simple_feature2idx = {'PPID':{},\n",
    "                      'BUYYER_PID':{}, \n",
    "                      'START_STA':{}, \n",
    "                      'ARRIVAL_STA':{}, \n",
    "                      'TRAIN_CODE':{}, \n",
    "                      'TRAIN_TYPE':{}, \n",
    "                      'SEAT_TYPE':{}}"
   ]
  },
  {
   "source": [
    "对每一列数据都建立一个value->idx的索引，重复值的索引是唯一的"
   ],
   "cell_type": "markdown",
   "metadata": {}
  },
  {
   "cell_type": "code",
   "execution_count": 6,
   "metadata": {
    "scrolled": true
   },
   "outputs": [
    {
     "output_type": "stream",
     "name": "stdout",
     "text": [
      "processing: PPID\n",
      "processing: BUYYER_PID\n",
      "processing: START_STA\n",
      "processing: ARRIVAL_STA\n",
      "processing: TRAIN_CODE\n",
      "processing: TRAIN_TYPE\n",
      "processing: SEAT_TYPE\n"
     ]
    }
   ],
   "source": [
    "# set look-up table\n",
    "for feature in simple_feature2idx.keys():\n",
    "    print(\"processing: {}\".format(feature))\n",
    "    for value in df[feature].apply(str).tolist():\n",
    "        if value not in simple_feature2idx[feature]:\n",
    "            simple_feature2idx[feature][value] = len(simple_feature2idx[feature])"
   ]
  },
  {
   "source": [
    "把df中的value全部转为index，用simple_feature_vectors存放"
   ],
   "cell_type": "markdown",
   "metadata": {}
  },
  {
   "cell_type": "code",
   "execution_count": 7,
   "metadata": {},
   "outputs": [],
   "source": [
    "def tokenize_feature(all_features, feature2idx):\n",
    "    index_list = [feature2idx[feat] for feat in all_features] \n",
    "    feature_vector = np.array(index_list)\n",
    "    print(feature_vector.shape)\n",
    "    return feature_vector"
   ]
  },
  {
   "cell_type": "code",
   "execution_count": 8,
   "metadata": {},
   "outputs": [
    {
     "output_type": "stream",
     "name": "stdout",
     "text": [
      "(985759,)\n",
      "(985759,)\n",
      "(985759,)\n",
      "(985759,)\n",
      "(985759,)\n",
      "(985759,)\n",
      "(985759,)\n"
     ]
    }
   ],
   "source": [
    "# set look-up table\n",
    "simple_feature_vectors = {}\n",
    "for feature in simple_feature2idx.keys():\n",
    "    simple_feature_vectors[feature] = tokenize_feature(df[feature].apply(str).tolist(), simple_feature2idx[feature])"
   ]
  },
  {
   "cell_type": "markdown",
   "metadata": {},
   "source": [
    "# Simple digit features we use in our project are:\n",
    "1. Tranvel Time. TRAVEL_TIME\n",
    "    - Format: a integer represent hours   \n",
    "1. Tranvel Length. TRAVEL_LENGTH\n",
    "    - Format: a integer represent distances   \n",
    "3. Board Date.  BOARD_DATE\n",
    "    - Format: a integer represent num of days after 2012/01/01 when boarding. 比如2012年1月2号就是1，2月15日就是30+15=45\n",
    "4. Board Time. BOARD_TIME\n",
    "    - Format: a interger represent num minutes from 0:0:0. 比如当日4点15分就是4*60+15=255\n",
    "5. Arrival Date.  ARRIVAL_DATE\n",
    "    - Format: a integer represent num of days after 2012/01/01 when boarding. 比如2012年1月2号就是1，2月15日就是30+15=45\n",
    "6. Arrival Time.  ARRIVAL_TIME\n",
    "    - Format: a interger represent num minutes from 0:0:0. 比如当日4点15分就是4*60+15=255\n",
    "7. Seat Number.  SEAT_NO\n",
    "    - Format: a integer \n",
    "8. Coach Number.  COACH_NO\n",
    "    - Format: a integer \n"
   ]
  },
  {
   "cell_type": "code",
   "execution_count": 9,
   "metadata": {},
   "outputs": [],
   "source": [
    "digit_feature2idx = {'TRAVEL_TIME':{},\n",
    "                     'TRAVEL_LENGTH':{},\n",
    "                     'BOARD_DATE':{}, \n",
    "                     'BOARD_TIME':{}, \n",
    "                     'ARRIVAL_DATE':{}, \n",
    "                     'ARRIVAL_TIME':{}, \n",
    "                     'SEAT_NO':{}, \n",
    "                     'COACH_NO':{}}"
   ]
  },
  {
   "source": [
    "处理数值型特征，travel_length, seat_no, coach_no这3个特征直接转成int即可"
   ],
   "cell_type": "markdown",
   "metadata": {}
  },
  {
   "cell_type": "code",
   "execution_count": 10,
   "metadata": {},
   "outputs": [
    {
     "output_type": "stream",
     "name": "stdout",
     "text": [
      "TRAVEL_LENGTH\t(985759,)\n",
      "SEAT_NO\t(985759,)\n",
      "COACH_NO\t(985759,)\n"
     ]
    }
   ],
   "source": [
    "digit_feature_vectors = {}\n",
    "for feature in digit_feature2idx.keys():\n",
    "    if feature in ['TRAVEL_LENGTH', 'SEAT_NO', 'COACH_NO']:\n",
    "        index_list = df[feature].apply(int).tolist()\n",
    "        feature_vector = np.array(index_list)\n",
    "        print(\"{}\\t{}\".format(feature, feature_vector.shape))\n",
    "        digit_feature_vectors[feature] = feature_vector"
   ]
  },
  {
   "source": [
    "时间数据，特殊处理，因为都是2012年一年内的数据，那么用2012-01-01 00:00:00作为一个初始值，将出发时间与到达时间都与这个初始时间作差\n"
   ],
   "cell_type": "markdown",
   "metadata": {}
  },
  {
   "cell_type": "code",
   "execution_count": 11,
   "metadata": {
    "scrolled": true
   },
   "outputs": [
    {
     "output_type": "stream",
     "name": "stdout",
     "text": [
      "BOARD_DATE\t(985759,)\n",
      "BOARD_TIME\t(985759,)\n",
      "ARRIVAL_DATE\t(985759,)\n",
      "ARRIVAL_TIME\t(985759,)\n"
     ]
    }
   ],
   "source": [
    "board_times = df['BOARD_DATE'].apply(pd.Timestamp) + df['BOARD_TIME'].apply(pd.Timedelta)\n",
    "# parser = lambda time : time.strftime('%H:%M:%S')\n",
    "# arrival_times = df['ARRIVAL_DATE'] + df['ARRIVAL_TIME'].apply(parser).apply(pd.Timedelta)  # 如果上面读取的是csv就不用搞parser\n",
    "arrival_times = df['ARRIVAL_DATE'].apply(pd.Timestamp) + df['ARRIVAL_TIME'].apply(pd.Timedelta)\n",
    "initial_timestamp = pd.Timestamp('2012-01-01T00')  # Timestamp('2012-01-01 00:00:00')\n",
    "\n",
    "feature_vector = np.array((board_times - initial_timestamp).astype('timedelta64[D]').tolist())\n",
    "print(\"{}\\t{}\".format('BOARD_DATE', feature_vector.shape))\n",
    "digit_feature_vectors['BOARD_DATE'] = feature_vector\n",
    "\n",
    "feature_vector = np.array([h*60+m for h, m in zip(board_times.dt.hour.tolist(), board_times.dt.minute.tolist())])\n",
    "print(\"{}\\t{}\".format('BOARD_TIME', feature_vector.shape))\n",
    "digit_feature_vectors['BOARD_TIME'] = feature_vector\n",
    "\n",
    "feature_vector = np.array((arrival_times - initial_timestamp).astype('timedelta64[D]').tolist())\n",
    "print(\"{}\\t{}\".format('ARRIVAL_DATE', feature_vector.shape))\n",
    "digit_feature_vectors['ARRIVAL_DATE'] = feature_vector\n",
    "\n",
    "feature_vector = np.array([h*60+m for h, m in zip(arrival_times.dt.hour.tolist(), arrival_times.dt.minute.tolist())])\n",
    "print(\"{}\\t{}\".format('ARRIVAL_TIME', feature_vector.shape))\n",
    "digit_feature_vectors['ARRIVAL_TIME'] = feature_vector\n"
   ]
  },
  {
   "cell_type": "code",
   "execution_count": 12,
   "metadata": {},
   "outputs": [
    {
     "output_type": "execute_result",
     "data": {
      "text/plain": [
       "1903"
      ]
     },
     "metadata": {},
     "execution_count": 12
    }
   ],
   "source": [
    "len(simple_feature2idx['PPID'])"
   ]
  },
  {
   "cell_type": "code",
   "execution_count": 13,
   "metadata": {},
   "outputs": [],
   "source": [
    "from collections import Counter"
   ]
  },
  {
   "cell_type": "code",
   "execution_count": 14,
   "metadata": {},
   "outputs": [],
   "source": [
    "month2days = {0: -1, 1: 30, 2: 59, 3: 90, 4: 120, 5: 151, 6: 181, 7:212, 8:243, 9:273, 10:304, 11:334, 12:365}\n",
    "days2month = {idx2:idx1 for idx1, idx2 in month2days.items()}"
   ]
  },
  {
   "cell_type": "markdown",
   "metadata": {},
   "source": [
    "0 PPID\n",
    "\n",
    "1 BUYYER_PID\n",
    "\n",
    "2 START_STA\n",
    "\n",
    "3 ARRIVAL_STA\n",
    "\n",
    "4 TRAIN_CODE\n",
    "\n",
    "5 TRAIN_TYPE\n",
    "\n",
    "6 SEAT_TYPE\n",
    "\n",
    "\n",
    "7 TRAVEL_LENGTH\n",
    "\n",
    "8 SEAT_NO\n",
    "\n",
    "9 COACH_NO\n",
    "\n",
    "10 BOARD_DATE\n",
    "\n",
    "11 BOARD_TIME\n",
    "\n",
    "12 ARRIVAL_DATE\n",
    "\n",
    "13 ARRIVAL_TIME"
   ]
  },
  {
   "cell_type": "markdown",
   "metadata": {},
   "source": [
    "# Advanced features we use in our project are \n",
    "6. Buyyer is the same with Passenger? BUYYER_PID/PPID  new: SAME_PERSON  \n",
    "    - Format: a integer 1 or 0\n",
    "\n",
    "# 讨论后需要的features，以ppid为单位\n",
    "2. 总乘车次数（按月统计？）NUM_TRIP\n",
    "1. 最高频率线路占比：通勤（统计每个id的所有站，top2占比？） ROUTE_FREQ\n",
    "4. 夜间乘车次数（比如定义23:00-5:00属于夜间）NIGHT_TRIP\n",
    "3. 短时间出行次数（time<3？） SHORT_TRIP\n",
    "5. 一线城市比例（始发站or终点站）BIG_CITY_FREQ\n",
    "6. 站票/硬座比例  HARD_SEAT"
   ]
  },
  {
   "cell_type": "code",
   "execution_count": 15,
   "metadata": {},
   "outputs": [],
   "source": [
    "advanced_feature_vectors = {'NUM_TRIP':[], 'ROUTE_FREQ':[], 'SHORT_TRIP':[], 'NIGHT_TRIP':[], 'BIG_CITY_FREQ':[], 'HARD_SEAT':[]}"
   ]
  },
  {
   "cell_type": "code",
   "execution_count": 16,
   "metadata": {},
   "outputs": [
    {
     "output_type": "stream",
     "name": "stdout",
     "text": [
      "(14, 985759)\n"
     ]
    }
   ],
   "source": [
    "all_feature_vectors = np.stack(list(simple_feature_vectors.values()) + \n",
    "                               list(digit_feature_vectors.values()), axis=0)\n",
    "print(all_feature_vectors.shape)"
   ]
  },
  {
   "cell_type": "code",
   "execution_count": 17,
   "metadata": {},
   "outputs": [],
   "source": [
    "passenger_rows_index = {ppid: np.where(simple_feature_vectors['PPID'] == simple_feature2idx['PPID'][ppid]) for ppid in simple_feature2idx['PPID']}"
   ]
  },
  {
   "cell_type": "code",
   "execution_count": 18,
   "metadata": {},
   "outputs": [],
   "source": [
    "passenger_rows_index_small = {ppid:passenger_rows_index[ppid] for ppid in list(passenger_rows_index.keys())[:5]}"
   ]
  },
  {
   "cell_type": "code",
   "execution_count": 19,
   "metadata": {
    "scrolled": true
   },
   "outputs": [
    {
     "output_type": "stream",
     "name": "stderr",
     "text": [
      "ipykernel_launcher:22: DeprecationWarning: `np.int` is a deprecated alias for the builtin `int`. To silence this warning, use `int` by itself. Doing this will not modify any behavior and is safe. When replacing `np.int`, you may wish to use e.g. `np.int64` or `np.int32` to specify the precision. If you wish to review your current use, check the release note link for additional information.\nDeprecated in NumPy 1.20; for more details and guidance: https://numpy.org/devdocs/release/1.20.0-notes.html#deprecations\n"
     ]
    }
   ],
   "source": [
    "all_final_features = []\n",
    "for ppid, index in passenger_rows_index.items():\n",
    "# for ppid, index in passenger_rows_index_small.items():\n",
    "    index = index[0]\n",
    "    features = np.zeros(22)\n",
    "    vectors = all_feature_vectors[:,index]\n",
    "    num_trip_all = np.array(vectors.shape[1])   # 0\n",
    "    features[0] = num_trip_all\n",
    "#     print(features)\n",
    "    \n",
    "    # 总乘车次数（按月统计？）NUM_TRIP\n",
    "    num_trip_monthly = np.zeros(12)   # 1-12\n",
    "    for month in range(1, 13):\n",
    "        min_days = month2days[month-1]\n",
    "        max_days = month2days[month]\n",
    "        month_trip_index = np.where((max_days>=vectors[10,:]) == (vectors[10,:]>=min_days))[0]\n",
    "        num_trip_monthly[month-1] = month_trip_index.shape[0]\n",
    "    features[1:13] = num_trip_monthly\n",
    "#     print(features)\n",
    "\n",
    "    # 最高频率线路占比：通勤（统计每个id的所有站，top2占比？） ROUTE_FREQ\n",
    "    all_routes = [(vectors.astype(np.int)[2, i], vectors.astype(np.int)[3, i]) for i in range(num_trip_all)]\n",
    "    route_counter = Counter(all_routes)\n",
    "    num_routes = np.array(len(all_routes))  # 13\n",
    "    num_most_freq_route = np.array(route_counter.most_common(1)[0][1])  # 14\n",
    "    try:\n",
    "        num_second_freq_route = np.array(route_counter.most_common(2)[1][1])  # 15\n",
    "    except:\n",
    "        num_second_freq_route = 0\n",
    "    portion_most_freq_route = np.array(route_counter.most_common(1)[0][1]/num_trip_all)  # 16\n",
    "    portion_second_freq_route = np.array(num_second_freq_route/num_trip_all)  # 17\n",
    "    features[13] = num_routes\n",
    "    features[14] = num_most_freq_route\n",
    "    features[15] = num_second_freq_route\n",
    "    features[16] = portion_most_freq_route\n",
    "    features[17] = portion_second_freq_route\n",
    "#     print(features)\n",
    "\n",
    "    # 夜间乘车次数（比如定义23:00-5:00属于夜间）NIGHT_TRIP\n",
    "    start_night_index = np.where( (vectors[11,:]>23*60) == (vectors[11,:]<5*60))[0]\n",
    "    num_start_night_index = np.array(start_night_index.shape[0])  # 18\n",
    "    end_night_index = np.where( (vectors[13,:]>23*60) == (vectors[13,:]<5*60))[0]\n",
    "    num_end_night_index = np.array(end_night_index.shape[0])  # 19\n",
    "    features[18] = num_start_night_index\n",
    "    features[19] = num_end_night_index\n",
    "#     print(features)\n",
    "\n",
    "    # 短时间出行次数（time<3？） SHORT_TRIP\n",
    "    trip_hours = (vectors[13,:] - vectors[11,:])/60 + (vectors[12,:] - vectors[10,:])*24  \n",
    "    num_short_trip = np.where(trip_hours<3)[0].shape[0]  # 20\n",
    "    features[20] = num_short_trip\n",
    "#     print(features)\n",
    "    \n",
    "    # 站票/硬座比例 HARD_SEAT\n",
    "    num_hardseat = np.where(vectors[6,:]==simple_feature2idx['SEAT_TYPE']['YZ'])[0].shape[0]\n",
    "    portion_hardseat = num_hardseat / num_trip_all  # 21\n",
    "    features[21] = portion_hardseat\n",
    "    \n",
    "    # TODO 一线城市比例（始发站or终点站）BIG_CITY_FREQ\n",
    "    \n",
    "    all_final_features.append(features)"
   ]
  },
  {
   "cell_type": "code",
   "execution_count": 20,
   "metadata": {},
   "outputs": [
    {
     "output_type": "stream",
     "name": "stdout",
     "text": [
      "(1903, 22)\n"
     ]
    }
   ],
   "source": [
    "all_final_features = np.stack(all_final_features, axis=0)\n",
    "print(all_final_features.shape)"
   ]
  },
  {
   "cell_type": "code",
   "execution_count": 21,
   "metadata": {},
   "outputs": [],
   "source": [
    "np.save('./feature_vector_v1.npy', all_final_features)"
   ]
  }
 ],
 "metadata": {
  "kernelspec": {
   "name": "python3",
   "display_name": "Python 3.7.10 64-bit"
  },
  "language_info": {
   "codemirror_mode": {
    "name": "ipython",
    "version": 3
   },
   "file_extension": ".py",
   "mimetype": "text/x-python",
   "name": "python",
   "nbconvert_exporter": "python",
   "pygments_lexer": "ipython3",
   "version": "3.7.10"
  },
  "interpreter": {
   "hash": "f395c2e1a992dc8a929f6f371f2b4d25c07e31a6b8b09b005bd71d5c43f24d90"
  }
 },
 "nbformat": 4,
 "nbformat_minor": 2
}