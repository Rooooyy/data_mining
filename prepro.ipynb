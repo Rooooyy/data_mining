{
 "cells": [
  {
   "cell_type": "code",
   "execution_count": 1,
   "metadata": {
    "scrolled": true
   },
   "outputs": [],
   "source": [
    "import numpy as np \n",
    "import pandas as pd\n",
    "import matplotlib.pyplot as plt \n",
    "import time"
   ]
  },
  {
   "cell_type": "code",
   "execution_count": 2,
   "metadata": {},
   "outputs": [],
   "source": [
    "# # start processing\n",
    "df = pd.read_excel('./data/PASSENGER_RECORD.xlsx')\n",
    "# convert .xlsx file to .csv file for easy loading. Simply use MS Excel 'save as' function. \n",
    "# df = pd.read_csv('./data/PASSENGER_RECORD.csv')"
   ]
  },
  {
   "cell_type": "code",
   "execution_count": 3,
   "metadata": {},
   "outputs": [
    {
     "output_type": "execute_result",
     "data": {
      "text/plain": [
       "         PR_ID                PPID TRAIN_TYPE TRAIN_CODE BOARD_DATE  \\\n",
       "0       236365  210302199212143008          D        D15 2012-03-08   \n",
       "1       236366  210302199212143008          D        D22 2012-03-12   \n",
       "2       236367  210302199212143008          D       D102 2012-03-12   \n",
       "3       236368  210302199212143008          D       D164 2012-03-01   \n",
       "4       236369  210302199212143008          O       1052 2012-03-01   \n",
       "...        ...                 ...        ...        ...        ...   \n",
       "985754  768334  211103199402110016          O       4229 2012-05-04   \n",
       "985755  768335  211103199402110016          O      K7369 2012-05-21   \n",
       "985756  768336  211103199402110016          O      K7369 2012-05-26   \n",
       "985757  768337  211103199402110016          O      K7369 2012-06-19   \n",
       "985758  768338  211103199402110016          O      K7369 2012-06-04   \n",
       "\n",
       "       BOARD_TIME ARRIVAL_DATE ARRIVAL_TIME START_STA ARRIVAL_STA TRAVEL_TIME  \\\n",
       "0        19:04:00   2012-03-08     20:04:00       盘锦北         沈阳北    01:00:00   \n",
       "1        08:01:00   2012-03-12     09:01:00       沈阳北         盘锦北    01:00:00   \n",
       "2        18:42:00   2012-03-12     19:42:00       盘锦北         沈阳北    01:00:00   \n",
       "3        08:03:00   2012-03-01     09:03:00       沈阳北         盘锦北    01:00:00   \n",
       "4        20:13:00   2012-03-01     21:13:00       盘锦北         沈阳北    01:00:00   \n",
       "...           ...          ...          ...       ...         ...         ...   \n",
       "985754   03:21:00   2012-05-04     03:21:00        辽阳          营口    00:00:00   \n",
       "985755   17:07:00   2012-05-21     19:07:00        营口         抚顺北    02:00:00   \n",
       "985756   18:37:00   2012-05-27     02:37:00       苇子沟          营口    08:00:00   \n",
       "985757   12:44:00   2012-06-19     12:44:00        鞍山          营口    00:00:00   \n",
       "985758   11:59:00   2012-06-04     17:59:00        营口          蛟河    06:00:00   \n",
       "\n",
       "        TRAVEL_LENGTH SEAT_TYPE  COACH_NO  SEAT_NO          BUYYER_PID  \n",
       "0                 154        GD         4       79  210302199212143008  \n",
       "1                 154        GD        13       87  210302199212143008  \n",
       "2                 154        GD        12       21  210302199212143008  \n",
       "3                 154        GD         6       19  210302199212143008  \n",
       "4                 154        YZ        11       51  210302199212143008  \n",
       "...               ...       ...       ...      ...                 ...  \n",
       "985754            115        YZ         5       36  211103199402110016  \n",
       "985755            244        RZ         5       54  211103199402110016  \n",
       "985756           1024        ZP         9       72  211103199402110016  \n",
       "985757             90        RZ        16       72  211103199402110016  \n",
       "985758            740        YZ        15       74  211103199402110016  \n",
       "\n",
       "[985759 rows x 16 columns]"
      ],
      "text/html": "<div>\n<style scoped>\n    .dataframe tbody tr th:only-of-type {\n        vertical-align: middle;\n    }\n\n    .dataframe tbody tr th {\n        vertical-align: top;\n    }\n\n    .dataframe thead th {\n        text-align: right;\n    }\n</style>\n<table border=\"1\" class=\"dataframe\">\n  <thead>\n    <tr style=\"text-align: right;\">\n      <th></th>\n      <th>PR_ID</th>\n      <th>PPID</th>\n      <th>TRAIN_TYPE</th>\n      <th>TRAIN_CODE</th>\n      <th>BOARD_DATE</th>\n      <th>BOARD_TIME</th>\n      <th>ARRIVAL_DATE</th>\n      <th>ARRIVAL_TIME</th>\n      <th>START_STA</th>\n      <th>ARRIVAL_STA</th>\n      <th>TRAVEL_TIME</th>\n      <th>TRAVEL_LENGTH</th>\n      <th>SEAT_TYPE</th>\n      <th>COACH_NO</th>\n      <th>SEAT_NO</th>\n      <th>BUYYER_PID</th>\n    </tr>\n  </thead>\n  <tbody>\n    <tr>\n      <th>0</th>\n      <td>236365</td>\n      <td>210302199212143008</td>\n      <td>D</td>\n      <td>D15</td>\n      <td>2012-03-08</td>\n      <td>19:04:00</td>\n      <td>2012-03-08</td>\n      <td>20:04:00</td>\n      <td>盘锦北</td>\n      <td>沈阳北</td>\n      <td>01:00:00</td>\n      <td>154</td>\n      <td>GD</td>\n      <td>4</td>\n      <td>79</td>\n      <td>210302199212143008</td>\n    </tr>\n    <tr>\n      <th>1</th>\n      <td>236366</td>\n      <td>210302199212143008</td>\n      <td>D</td>\n      <td>D22</td>\n      <td>2012-03-12</td>\n      <td>08:01:00</td>\n      <td>2012-03-12</td>\n      <td>09:01:00</td>\n      <td>沈阳北</td>\n      <td>盘锦北</td>\n      <td>01:00:00</td>\n      <td>154</td>\n      <td>GD</td>\n      <td>13</td>\n      <td>87</td>\n      <td>210302199212143008</td>\n    </tr>\n    <tr>\n      <th>2</th>\n      <td>236367</td>\n      <td>210302199212143008</td>\n      <td>D</td>\n      <td>D102</td>\n      <td>2012-03-12</td>\n      <td>18:42:00</td>\n      <td>2012-03-12</td>\n      <td>19:42:00</td>\n      <td>盘锦北</td>\n      <td>沈阳北</td>\n      <td>01:00:00</td>\n      <td>154</td>\n      <td>GD</td>\n      <td>12</td>\n      <td>21</td>\n      <td>210302199212143008</td>\n    </tr>\n    <tr>\n      <th>3</th>\n      <td>236368</td>\n      <td>210302199212143008</td>\n      <td>D</td>\n      <td>D164</td>\n      <td>2012-03-01</td>\n      <td>08:03:00</td>\n      <td>2012-03-01</td>\n      <td>09:03:00</td>\n      <td>沈阳北</td>\n      <td>盘锦北</td>\n      <td>01:00:00</td>\n      <td>154</td>\n      <td>GD</td>\n      <td>6</td>\n      <td>19</td>\n      <td>210302199212143008</td>\n    </tr>\n    <tr>\n      <th>4</th>\n      <td>236369</td>\n      <td>210302199212143008</td>\n      <td>O</td>\n      <td>1052</td>\n      <td>2012-03-01</td>\n      <td>20:13:00</td>\n      <td>2012-03-01</td>\n      <td>21:13:00</td>\n      <td>盘锦北</td>\n      <td>沈阳北</td>\n      <td>01:00:00</td>\n      <td>154</td>\n      <td>YZ</td>\n      <td>11</td>\n      <td>51</td>\n      <td>210302199212143008</td>\n    </tr>\n    <tr>\n      <th>...</th>\n      <td>...</td>\n      <td>...</td>\n      <td>...</td>\n      <td>...</td>\n      <td>...</td>\n      <td>...</td>\n      <td>...</td>\n      <td>...</td>\n      <td>...</td>\n      <td>...</td>\n      <td>...</td>\n      <td>...</td>\n      <td>...</td>\n      <td>...</td>\n      <td>...</td>\n      <td>...</td>\n    </tr>\n    <tr>\n      <th>985754</th>\n      <td>768334</td>\n      <td>211103199402110016</td>\n      <td>O</td>\n      <td>4229</td>\n      <td>2012-05-04</td>\n      <td>03:21:00</td>\n      <td>2012-05-04</td>\n      <td>03:21:00</td>\n      <td>辽阳</td>\n      <td>营口</td>\n      <td>00:00:00</td>\n      <td>115</td>\n      <td>YZ</td>\n      <td>5</td>\n      <td>36</td>\n      <td>211103199402110016</td>\n    </tr>\n    <tr>\n      <th>985755</th>\n      <td>768335</td>\n      <td>211103199402110016</td>\n      <td>O</td>\n      <td>K7369</td>\n      <td>2012-05-21</td>\n      <td>17:07:00</td>\n      <td>2012-05-21</td>\n      <td>19:07:00</td>\n      <td>营口</td>\n      <td>抚顺北</td>\n      <td>02:00:00</td>\n      <td>244</td>\n      <td>RZ</td>\n      <td>5</td>\n      <td>54</td>\n      <td>211103199402110016</td>\n    </tr>\n    <tr>\n      <th>985756</th>\n      <td>768336</td>\n      <td>211103199402110016</td>\n      <td>O</td>\n      <td>K7369</td>\n      <td>2012-05-26</td>\n      <td>18:37:00</td>\n      <td>2012-05-27</td>\n      <td>02:37:00</td>\n      <td>苇子沟</td>\n      <td>营口</td>\n      <td>08:00:00</td>\n      <td>1024</td>\n      <td>ZP</td>\n      <td>9</td>\n      <td>72</td>\n      <td>211103199402110016</td>\n    </tr>\n    <tr>\n      <th>985757</th>\n      <td>768337</td>\n      <td>211103199402110016</td>\n      <td>O</td>\n      <td>K7369</td>\n      <td>2012-06-19</td>\n      <td>12:44:00</td>\n      <td>2012-06-19</td>\n      <td>12:44:00</td>\n      <td>鞍山</td>\n      <td>营口</td>\n      <td>00:00:00</td>\n      <td>90</td>\n      <td>RZ</td>\n      <td>16</td>\n      <td>72</td>\n      <td>211103199402110016</td>\n    </tr>\n    <tr>\n      <th>985758</th>\n      <td>768338</td>\n      <td>211103199402110016</td>\n      <td>O</td>\n      <td>K7369</td>\n      <td>2012-06-04</td>\n      <td>11:59:00</td>\n      <td>2012-06-04</td>\n      <td>17:59:00</td>\n      <td>营口</td>\n      <td>蛟河</td>\n      <td>06:00:00</td>\n      <td>740</td>\n      <td>YZ</td>\n      <td>15</td>\n      <td>74</td>\n      <td>211103199402110016</td>\n    </tr>\n  </tbody>\n</table>\n<p>985759 rows × 16 columns</p>\n</div>"
     },
     "metadata": {},
     "execution_count": 3
    }
   ],
   "source": [
    "df"
   ]
  },
  {
   "cell_type": "code",
   "execution_count": 4,
   "metadata": {
    "scrolled": true
   },
   "outputs": [
    {
     "output_type": "execute_result",
     "data": {
      "text/plain": [
       "Index(['PR_ID', 'PPID', 'TRAIN_TYPE', 'TRAIN_CODE', 'BOARD_DATE', 'BOARD_TIME',\n",
       "       'ARRIVAL_DATE', 'ARRIVAL_TIME', 'START_STA', 'ARRIVAL_STA',\n",
       "       'TRAVEL_TIME', 'TRAVEL_LENGTH', 'SEAT_TYPE', 'COACH_NO', 'SEAT_NO',\n",
       "       'BUYYER_PID'],\n",
       "      dtype='object')"
      ]
     },
     "metadata": {},
     "execution_count": 4
    }
   ],
   "source": [
    "df.columns"
   ]
  },
  {
   "cell_type": "code",
   "execution_count": 5,
   "metadata": {},
   "outputs": [
    {
     "output_type": "execute_result",
     "data": {
      "text/plain": [
       "(985759, 16)"
      ]
     },
     "metadata": {},
     "execution_count": 5
    }
   ],
   "source": [
    "df.shape"
   ]
  },
  {
   "cell_type": "code",
   "execution_count": 6,
   "metadata": {},
   "outputs": [],
   "source": [
    "# 对csv做特殊处理\n",
    "# df = df.drop('Unnamed: 0',axis=1)\n",
    "# df['PPID'] = df['PPID'].apply(lambda x : x.strip('\\t'))\n",
    "# df['BUYYER_PID'] = df['BUYYER_PID'].apply(lambda x : x.strip('\\t'))"
   ]
  },
  {
   "cell_type": "markdown",
   "metadata": {},
   "source": [
    "# Simple token features we use in our project are:\n",
    "1. Passenger. PPID\n",
    "    - Format: a integer indicates passenger id\n",
    "2. Buyyer. BUYYER_PID\n",
    "    - Format: a integer indicates buyyer id\n",
    "3. Start Stations.  START_STA\n",
    "    - Format: a integer indicates No. of Start Station\n",
    "4. Arrival Stations.  ARRIVAL_STA\n",
    "    - Format: a integer indicates No. of Arrival Station\n",
    "5. Train Code. TRAIN_CODE\n",
    "    - Format: a integer\n",
    "6. Train Type. TRAIN_TYPE\n",
    "    - Format: a integer\n",
    "7. Seat type. SEAT_TYPE\n",
    "    - Format: a integer \n"
   ]
  },
  {
   "cell_type": "code",
   "execution_count": 7,
   "metadata": {},
   "outputs": [],
   "source": [
    "simple_feature2idx = {'PPID':{},\n",
    "                      'BUYYER_PID':{}, \n",
    "                      'START_STA':{}, \n",
    "                      'ARRIVAL_STA':{}, \n",
    "                      'TRAIN_CODE':{}, \n",
    "                      'TRAIN_TYPE':{}, \n",
    "                      'SEAT_TYPE':{}}"
   ]
  },
  {
   "source": [
    "对每一列数据都建立一个value->idx的索引，重复值的索引是唯一的"
   ],
   "cell_type": "markdown",
   "metadata": {}
  },
  {
   "cell_type": "code",
   "execution_count": 8,
   "metadata": {
    "scrolled": true
   },
   "outputs": [
    {
     "output_type": "stream",
     "name": "stdout",
     "text": [
      "processing: PPID\n",
      "processing: BUYYER_PID\n",
      "processing: START_STA\n",
      "processing: ARRIVAL_STA\n",
      "processing: TRAIN_CODE\n",
      "processing: TRAIN_TYPE\n",
      "processing: SEAT_TYPE\n"
     ]
    }
   ],
   "source": [
    "# set look-up table\n",
    "for feature in simple_feature2idx.keys():\n",
    "    print(\"processing: {}\".format(feature))\n",
    "    for value in df[feature].apply(str).tolist():\n",
    "        if value not in simple_feature2idx[feature]:\n",
    "            simple_feature2idx[feature][value] = len(simple_feature2idx[feature])"
   ]
  },
  {
   "source": [
    "把df中的value全部转为index，用simple_feature_vectors存放"
   ],
   "cell_type": "markdown",
   "metadata": {}
  },
  {
   "cell_type": "code",
   "execution_count": 9,
   "metadata": {},
   "outputs": [],
   "source": [
    "def tokenize_feature(all_features, feature2idx):\n",
    "    index_list = [feature2idx[feat] for feat in all_features] \n",
    "    feature_vector = np.array(index_list)\n",
    "    print(feature_vector.shape)\n",
    "    return feature_vector"
   ]
  },
  {
   "cell_type": "code",
   "execution_count": 10,
   "metadata": {},
   "outputs": [
    {
     "output_type": "stream",
     "name": "stdout",
     "text": [
      "(985759,)\n",
      "(985759,)\n",
      "(985759,)\n",
      "(985759,)\n",
      "(985759,)\n",
      "(985759,)\n",
      "(985759,)\n"
     ]
    }
   ],
   "source": [
    "# set look-up table\n",
    "simple_feature_vectors = {}\n",
    "for feature in simple_feature2idx.keys():\n",
    "    simple_feature_vectors[feature] = tokenize_feature(df[feature].apply(str).tolist(), simple_feature2idx[feature])"
   ]
  },
  {
   "cell_type": "markdown",
   "metadata": {},
   "source": [
    "# Simple digit features we use in our project are:\n",
    "1. Tranvel Time. TRAVEL_TIME\n",
    "    - Format: a integer represent hours   \n",
    "1. Tranvel Length. TRAVEL_LENGTH\n",
    "    - Format: a integer represent distances   \n",
    "3. Board Date.  BOARD_DATE\n",
    "    - Format: a integer represent num of days after 2012/01/01 when boarding. 比如2012年1月2号就是1，2月15日就是30+15=45\n",
    "4. Board Time. BOARD_TIME\n",
    "    - Format: a interger represent num minutes from 0:0:0. 比如当日4点15分就是4*60+15=255\n",
    "5. Arrival Date.  ARRIVAL_DATE\n",
    "    - Format: a integer represent num of days after 2012/01/01 when boarding. 比如2012年1月2号就是1，2月15日就是30+15=45\n",
    "6. Arrival Time.  ARRIVAL_TIME\n",
    "    - Format: a interger represent num minutes from 0:0:0. 比如当日4点15分就是4*60+15=255\n",
    "7. Seat Number.  SEAT_NO\n",
    "    - Format: a integer \n",
    "8. Coach Number.  COACH_NO\n",
    "    - Format: a integer \n"
   ]
  },
  {
   "cell_type": "code",
   "execution_count": 11,
   "metadata": {},
   "outputs": [],
   "source": [
    "digit_feature2idx = {'TRAVEL_TIME':{},\n",
    "                     'TRAVEL_LENGTH':{},\n",
    "                     'BOARD_DATE':{}, \n",
    "                     'BOARD_TIME':{}, \n",
    "                     'ARRIVAL_DATE':{}, \n",
    "                     'ARRIVAL_TIME':{}, \n",
    "                     'SEAT_NO':{}, \n",
    "                     'COACH_NO':{}}"
   ]
  },
  {
   "source": [
    "处理数值型特征，travel_length, seat_no, coach_no这3个特征直接转成int即可"
   ],
   "cell_type": "markdown",
   "metadata": {}
  },
  {
   "cell_type": "code",
   "execution_count": 12,
   "metadata": {},
   "outputs": [
    {
     "output_type": "stream",
     "name": "stdout",
     "text": [
      "TRAVEL_LENGTH\t(985759,)\n",
      "SEAT_NO\t(985759,)\n",
      "COACH_NO\t(985759,)\n"
     ]
    }
   ],
   "source": [
    "digit_feature_vectors = {}\n",
    "for feature in digit_feature2idx.keys():\n",
    "    if feature in ['TRAVEL_LENGTH', 'SEAT_NO', 'COACH_NO']:\n",
    "        index_list = df[feature].apply(int).tolist()\n",
    "        feature_vector = np.array(index_list)\n",
    "        print(\"{}\\t{}\".format(feature, feature_vector.shape))\n",
    "        digit_feature_vectors[feature] = feature_vector"
   ]
  },
  {
   "source": [
    "时间数据，特殊处理，因为都是2012年一年内的数据，那么用2012-01-01 00:00:00作为一个初始值，将出发时间与到达时间都与这个初始时间作差\n"
   ],
   "cell_type": "markdown",
   "metadata": {}
  },
  {
   "cell_type": "code",
   "execution_count": 13,
   "metadata": {
    "scrolled": true
   },
   "outputs": [
    {
     "output_type": "stream",
     "name": "stdout",
     "text": [
      "BOARD_DATE\t(985759,)\n",
      "BOARD_TIME\t(985759,)\n",
      "ARRIVAL_DATE\t(985759,)\n",
      "ARRIVAL_TIME\t(985759,)\n"
     ]
    }
   ],
   "source": [
    "# # csv\n",
    "# board_times = df['BOARD_DATE'].apply(pd.Timestamp) + df['BOARD_TIME'].apply(pd.Timedelta)\n",
    "# df['ARRIVAL_TIME'] = df['ARRIVAL_TIME'].apply(pd.Timestamp).dt.time  # ARRIVAL_TIME的时间带有脏数据，有些带日期有些不带，统一转换成datetime再提取time\n",
    "# arrival_times = df['ARRIVAL_DATE'].apply(pd.Timestamp) + df['ARRIVAL_TIME'].apply(str).apply(pd.Timedelta)\n",
    "# xlsx\n",
    "board_times = df['BOARD_DATE'].apply(pd.Timestamp) + df['BOARD_TIME'].apply(str).apply(pd.Timedelta)\n",
    "parser = lambda time : time.strftime('%H:%M:%S')\n",
    "arrival_times = df['ARRIVAL_DATE'] + df['ARRIVAL_TIME'].apply(parser).apply(pd.Timedelta)\n",
    "\n",
    "initial_timestamp = pd.Timestamp('2012-01-01T00')  # Timestamp('2012-01-01 00:00:00')\n",
    "\n",
    "feature_vector = np.array((board_times - initial_timestamp).astype('timedelta64[D]').tolist())\n",
    "print(\"{}\\t{}\".format('BOARD_DATE', feature_vector.shape))\n",
    "digit_feature_vectors['BOARD_DATE'] = feature_vector\n",
    "\n",
    "feature_vector = np.array([h*60+m for h, m in zip(board_times.dt.hour.tolist(), board_times.dt.minute.tolist())])\n",
    "print(\"{}\\t{}\".format('BOARD_TIME', feature_vector.shape))\n",
    "digit_feature_vectors['BOARD_TIME'] = feature_vector\n",
    "\n",
    "feature_vector = np.array((arrival_times - initial_timestamp).astype('timedelta64[D]').tolist())\n",
    "print(\"{}\\t{}\".format('ARRIVAL_DATE', feature_vector.shape))\n",
    "digit_feature_vectors['ARRIVAL_DATE'] = feature_vector\n",
    "\n",
    "feature_vector = np.array([h*60+m for h, m in zip(arrival_times.dt.hour.tolist(), arrival_times.dt.minute.tolist())])\n",
    "print(\"{}\\t{}\".format('ARRIVAL_TIME', feature_vector.shape))\n",
    "digit_feature_vectors['ARRIVAL_TIME'] = feature_vector\n"
   ]
  },
  {
   "cell_type": "code",
   "execution_count": 14,
   "metadata": {},
   "outputs": [
    {
     "output_type": "execute_result",
     "data": {
      "text/plain": [
       "11076"
      ]
     },
     "metadata": {},
     "execution_count": 14
    }
   ],
   "source": [
    "len(simple_feature2idx['PPID'])"
   ]
  },
  {
   "cell_type": "code",
   "execution_count": 15,
   "metadata": {},
   "outputs": [],
   "source": [
    "from collections import Counter"
   ]
  },
  {
   "cell_type": "code",
   "execution_count": 16,
   "metadata": {},
   "outputs": [],
   "source": [
    "month2days = {0: -1, 1: 30, 2: 59, 3: 90, 4: 120, 5: 151, 6: 181, 7:212, 8:243, 9:273, 10:304, 11:334, 12:365}\n",
    "days2month = {idx2:idx1 for idx1, idx2 in month2days.items()}"
   ]
  },
  {
   "cell_type": "markdown",
   "metadata": {},
   "source": [
    "0 PPID\n",
    "\n",
    "1 BUYYER_PID\n",
    "\n",
    "2 START_STA\n",
    "\n",
    "3 ARRIVAL_STA\n",
    "\n",
    "4 TRAIN_CODE\n",
    "\n",
    "5 TRAIN_TYPE\n",
    "\n",
    "6 SEAT_TYPE\n",
    "\n",
    "\n",
    "7 TRAVEL_LENGTH\n",
    "\n",
    "8 SEAT_NO\n",
    "\n",
    "9 COACH_NO\n",
    "\n",
    "10 BOARD_DATE\n",
    "\n",
    "11 BOARD_TIME\n",
    "\n",
    "12 ARRIVAL_DATE\n",
    "\n",
    "13 ARRIVAL_TIME"
   ]
  },
  {
   "cell_type": "markdown",
   "metadata": {},
   "source": [
    "# Advanced features we use in our project are \n",
    "6. Buyyer is the same with Passenger? BUYYER_PID/PPID  new: SAME_PERSON  \n",
    "    - Format: a integer 1 or 0\n",
    "\n",
    "# 讨论后需要的features，以ppid为单位\n",
    "2. 总乘车次数（按月统计？）NUM_TRIP\n",
    "1. 最高频率线路占比：通勤（统计每个id的所有站，top2占比？） ROUTE_FREQ\n",
    "4. 夜间乘车次数（比如定义23:00-5:00属于夜间）NIGHT_TRIP\n",
    "3. 短时间出行次数（time<3？） SHORT_TRIP\n",
    "5. 一线城市比例（始发站or终点站）BIG_CITY_FREQ\n",
    "6. 站票/硬座比例  HARD_SEAT"
   ]
  },
  {
   "cell_type": "code",
   "execution_count": 17,
   "metadata": {},
   "outputs": [],
   "source": [
    "advanced_feature_vectors = {'NUM_TRIP':[], 'ROUTE_FREQ':[], 'SHORT_TRIP':[], 'NIGHT_TRIP':[], 'BIG_CITY_FREQ':[], 'HARD_SEAT':[]}"
   ]
  },
  {
   "cell_type": "code",
   "execution_count": 18,
   "metadata": {},
   "outputs": [
    {
     "output_type": "stream",
     "name": "stdout",
     "text": [
      "(14, 985759)\n"
     ]
    }
   ],
   "source": [
    "all_feature_vectors = np.stack(list(simple_feature_vectors.values()) + \n",
    "                               list(digit_feature_vectors.values()), axis=0)\n",
    "print(all_feature_vectors.shape)"
   ]
  },
  {
   "cell_type": "code",
   "execution_count": 19,
   "metadata": {},
   "outputs": [],
   "source": [
    "passenger_rows_index = {ppid: np.where(simple_feature_vectors['PPID'] == simple_feature2idx['PPID'][ppid]) for ppid in simple_feature2idx['PPID']}"
   ]
  },
  {
   "cell_type": "code",
   "execution_count": 20,
   "metadata": {},
   "outputs": [],
   "source": [
    "passenger_rows_index_small = {ppid:passenger_rows_index[ppid] for ppid in list(passenger_rows_index.keys())[:5]}"
   ]
  },
  {
   "cell_type": "code",
   "execution_count": 21,
   "metadata": {
    "scrolled": true
   },
   "outputs": [
    {
     "output_type": "stream",
     "name": "stderr",
     "text": [
      "ipykernel_launcher:22: DeprecationWarning: `np.int` is a deprecated alias for the builtin `int`. To silence this warning, use `int` by itself. Doing this will not modify any behavior and is safe. When replacing `np.int`, you may wish to use e.g. `np.int64` or `np.int32` to specify the precision. If you wish to review your current use, check the release note link for additional information.\nDeprecated in NumPy 1.20; for more details and guidance: https://numpy.org/devdocs/release/1.20.0-notes.html#deprecations\n"
     ]
    }
   ],
   "source": [
    "all_final_features = []\n",
    "for ppid, index in passenger_rows_index.items():\n",
    "# for ppid, index in passenger_rows_index_small.items():\n",
    "    index = index[0]\n",
    "    features = np.zeros(22)\n",
    "    vectors = all_feature_vectors[:,index]\n",
    "    num_trip_all = np.array(vectors.shape[1])   # 0\n",
    "    features[0] = num_trip_all\n",
    "#     print(features)\n",
    "    \n",
    "    # 总乘车次数（按月统计？）NUM_TRIP\n",
    "    num_trip_monthly = np.zeros(12)   # 1-12\n",
    "    for month in range(1, 13):\n",
    "        min_days = month2days[month-1]\n",
    "        max_days = month2days[month]\n",
    "        month_trip_index = np.where((max_days>=vectors[10,:]) == (vectors[10,:]>=min_days))[0]\n",
    "        num_trip_monthly[month-1] = month_trip_index.shape[0]\n",
    "    features[1:13] = num_trip_monthly\n",
    "#     print(features)\n",
    "\n",
    "    # 最高频率线路占比：通勤（统计每个id的所有站，top2占比？） ROUTE_FREQ\n",
    "    all_routes = [(vectors.astype(np.int)[2, i], vectors.astype(np.int)[3, i]) for i in range(num_trip_all)]\n",
    "    route_counter = Counter(all_routes)\n",
    "    num_routes = np.array(len(all_routes))  # 13\n",
    "    num_most_freq_route = np.array(route_counter.most_common(1)[0][1])  # 14\n",
    "    try:\n",
    "        num_second_freq_route = np.array(route_counter.most_common(2)[1][1])  # 15\n",
    "    except:\n",
    "        num_second_freq_route = 0\n",
    "    portion_most_freq_route = np.array(route_counter.most_common(1)[0][1]/num_trip_all)  # 16\n",
    "    portion_second_freq_route = np.array(num_second_freq_route/num_trip_all)  # 17\n",
    "    features[13] = num_routes\n",
    "    features[14] = num_most_freq_route\n",
    "    features[15] = num_second_freq_route\n",
    "    features[16] = portion_most_freq_route\n",
    "    features[17] = portion_second_freq_route\n",
    "#     print(features)\n",
    "\n",
    "    # 夜间乘车次数（比如定义23:00-5:00属于夜间）NIGHT_TRIP\n",
    "    start_night_index = np.where( (vectors[11,:]>23*60) == (vectors[11,:]<5*60))[0]\n",
    "    num_start_night_index = np.array(start_night_index.shape[0])  # 18\n",
    "    end_night_index = np.where( (vectors[13,:]>23*60) == (vectors[13,:]<5*60))[0]\n",
    "    num_end_night_index = np.array(end_night_index.shape[0])  # 19\n",
    "    features[18] = num_start_night_index\n",
    "    features[19] = num_end_night_index\n",
    "#     print(features)\n",
    "\n",
    "    # 短时间出行次数（time<3？） SHORT_TRIP\n",
    "    trip_hours = (vectors[13,:] - vectors[11,:])/60 + (vectors[12,:] - vectors[10,:])*24  \n",
    "    num_short_trip = np.where(trip_hours<3)[0].shape[0]  # 20\n",
    "    features[20] = num_short_trip\n",
    "#     print(features)\n",
    "    \n",
    "    # 站票/硬座比例 HARD_SEAT\n",
    "    num_hardseat = np.where(vectors[6,:]==simple_feature2idx['SEAT_TYPE']['YZ'])[0].shape[0]\n",
    "    portion_hardseat = num_hardseat / num_trip_all  # 21\n",
    "    features[21] = portion_hardseat\n",
    "    \n",
    "    # TODO 一线城市比例（始发站or终点站）BIG_CITY_FREQ\n",
    "    \n",
    "    all_final_features.append(features)"
   ]
  },
  {
   "cell_type": "code",
   "execution_count": 22,
   "metadata": {},
   "outputs": [
    {
     "output_type": "stream",
     "name": "stdout",
     "text": [
      "(11076, 22)\n"
     ]
    }
   ],
   "source": [
    "all_final_features = np.stack(all_final_features, axis=0)\n",
    "print(all_final_features.shape)"
   ]
  },
  {
   "cell_type": "code",
   "execution_count": 23,
   "metadata": {},
   "outputs": [],
   "source": [
    "np.save('./feature_vector_v1.npy', all_final_features)"
   ]
  }
 ],
 "metadata": {
  "kernelspec": {
   "name": "python3",
   "display_name": "Python 3.7.10 64-bit"
  },
  "language_info": {
   "codemirror_mode": {
    "name": "ipython",
    "version": 3
   },
   "file_extension": ".py",
   "mimetype": "text/x-python",
   "name": "python",
   "nbconvert_exporter": "python",
   "pygments_lexer": "ipython3",
   "version": "3.7.10"
  },
  "interpreter": {
   "hash": "f395c2e1a992dc8a929f6f371f2b4d25c07e31a6b8b09b005bd71d5c43f24d90"
  }
 },
 "nbformat": 4,
 "nbformat_minor": 2
}